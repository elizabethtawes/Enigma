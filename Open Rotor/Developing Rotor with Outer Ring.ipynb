{
 "cells": [
  {
   "cell_type": "markdown",
   "metadata": {},
   "source": [
    "## Setting up "
   ]
  },
  {
   "cell_type": "code",
   "execution_count": 1,
   "metadata": {},
   "outputs": [
    {
     "data": {
      "text/html": [
       "\n",
       "    <div class=\"bk-root\">\n",
       "        <a href=\"https://bokeh.pydata.org\" target=\"_blank\" class=\"bk-logo bk-logo-small bk-logo-notebook\"></a>\n",
       "        <span id=\"5b8e1b6a-4bc3-45df-9b68-8dc19cc9a205\">Loading BokehJS ...</span>\n",
       "    </div>"
      ]
     },
     "metadata": {},
     "output_type": "display_data"
    },
    {
     "data": {
      "application/javascript": [
       "\n",
       "(function(root) {\n",
       "  function now() {\n",
       "    return new Date();\n",
       "  }\n",
       "\n",
       "  var force = true;\n",
       "\n",
       "  if (typeof (root._bokeh_onload_callbacks) === \"undefined\" || force === true) {\n",
       "    root._bokeh_onload_callbacks = [];\n",
       "    root._bokeh_is_loading = undefined;\n",
       "  }\n",
       "\n",
       "  var JS_MIME_TYPE = 'application/javascript';\n",
       "  var HTML_MIME_TYPE = 'text/html';\n",
       "  var EXEC_MIME_TYPE = 'application/vnd.bokehjs_exec.v0+json';\n",
       "  var CLASS_NAME = 'output_bokeh rendered_html';\n",
       "\n",
       "  /**\n",
       "   * Render data to the DOM node\n",
       "   */\n",
       "  function render(props, node) {\n",
       "    var script = document.createElement(\"script\");\n",
       "    node.appendChild(script);\n",
       "  }\n",
       "\n",
       "  /**\n",
       "   * Handle when an output is cleared or removed\n",
       "   */\n",
       "  function handleClearOutput(event, handle) {\n",
       "    var cell = handle.cell;\n",
       "\n",
       "    var id = cell.output_area._bokeh_element_id;\n",
       "    var server_id = cell.output_area._bokeh_server_id;\n",
       "    // Clean up Bokeh references\n",
       "    if (id !== undefined) {\n",
       "      Bokeh.index[id].model.document.clear();\n",
       "      delete Bokeh.index[id];\n",
       "    }\n",
       "\n",
       "    if (server_id !== undefined) {\n",
       "      // Clean up Bokeh references\n",
       "      var cmd = \"from bokeh.io.state import curstate; print(curstate().uuid_to_server['\" + server_id + \"'].get_sessions()[0].document.roots[0]._id)\";\n",
       "      cell.notebook.kernel.execute(cmd, {\n",
       "        iopub: {\n",
       "          output: function(msg) {\n",
       "            var element_id = msg.content.text.trim();\n",
       "            Bokeh.index[element_id].model.document.clear();\n",
       "            delete Bokeh.index[element_id];\n",
       "          }\n",
       "        }\n",
       "      });\n",
       "      // Destroy server and session\n",
       "      var cmd = \"import bokeh.io.notebook as ion; ion.destroy_server('\" + server_id + \"')\";\n",
       "      cell.notebook.kernel.execute(cmd);\n",
       "    }\n",
       "  }\n",
       "\n",
       "  /**\n",
       "   * Handle when a new output is added\n",
       "   */\n",
       "  function handleAddOutput(event, handle) {\n",
       "    var output_area = handle.output_area;\n",
       "    var output = handle.output;\n",
       "\n",
       "    // limit handleAddOutput to display_data with EXEC_MIME_TYPE content only\n",
       "    if ((output.output_type != \"display_data\") || (!output.data.hasOwnProperty(EXEC_MIME_TYPE))) {\n",
       "      return\n",
       "    }\n",
       "\n",
       "    var toinsert = output_area.element.find(`.${CLASS_NAME.split(' ')[0]}`);\n",
       "\n",
       "    if (output.metadata[EXEC_MIME_TYPE][\"id\"] !== undefined) {\n",
       "      toinsert[0].firstChild.textContent = output.data[JS_MIME_TYPE];\n",
       "      // store reference to embed id on output_area\n",
       "      output_area._bokeh_element_id = output.metadata[EXEC_MIME_TYPE][\"id\"];\n",
       "    }\n",
       "    if (output.metadata[EXEC_MIME_TYPE][\"server_id\"] !== undefined) {\n",
       "      var bk_div = document.createElement(\"div\");\n",
       "      bk_div.innerHTML = output.data[HTML_MIME_TYPE];\n",
       "      var script_attrs = bk_div.children[0].attributes;\n",
       "      for (var i = 0; i < script_attrs.length; i++) {\n",
       "        toinsert[0].firstChild.setAttribute(script_attrs[i].name, script_attrs[i].value);\n",
       "      }\n",
       "      // store reference to server id on output_area\n",
       "      output_area._bokeh_server_id = output.metadata[EXEC_MIME_TYPE][\"server_id\"];\n",
       "    }\n",
       "  }\n",
       "\n",
       "  function register_renderer(events, OutputArea) {\n",
       "\n",
       "    function append_mime(data, metadata, element) {\n",
       "      // create a DOM node to render to\n",
       "      var toinsert = this.create_output_subarea(\n",
       "        metadata,\n",
       "        CLASS_NAME,\n",
       "        EXEC_MIME_TYPE\n",
       "      );\n",
       "      this.keyboard_manager.register_events(toinsert);\n",
       "      // Render to node\n",
       "      var props = {data: data, metadata: metadata[EXEC_MIME_TYPE]};\n",
       "      render(props, toinsert[0]);\n",
       "      element.append(toinsert);\n",
       "      return toinsert\n",
       "    }\n",
       "\n",
       "    /* Handle when an output is cleared or removed */\n",
       "    events.on('clear_output.CodeCell', handleClearOutput);\n",
       "    events.on('delete.Cell', handleClearOutput);\n",
       "\n",
       "    /* Handle when a new output is added */\n",
       "    events.on('output_added.OutputArea', handleAddOutput);\n",
       "\n",
       "    /**\n",
       "     * Register the mime type and append_mime function with output_area\n",
       "     */\n",
       "    OutputArea.prototype.register_mime_type(EXEC_MIME_TYPE, append_mime, {\n",
       "      /* Is output safe? */\n",
       "      safe: true,\n",
       "      /* Index of renderer in `output_area.display_order` */\n",
       "      index: 0\n",
       "    });\n",
       "  }\n",
       "\n",
       "  // register the mime type if in Jupyter Notebook environment and previously unregistered\n",
       "  if (root.Jupyter !== undefined) {\n",
       "    var events = require('base/js/events');\n",
       "    var OutputArea = require('notebook/js/outputarea').OutputArea;\n",
       "\n",
       "    if (OutputArea.prototype.mime_types().indexOf(EXEC_MIME_TYPE) == -1) {\n",
       "      register_renderer(events, OutputArea);\n",
       "    }\n",
       "  }\n",
       "\n",
       "  \n",
       "  if (typeof (root._bokeh_timeout) === \"undefined\" || force === true) {\n",
       "    root._bokeh_timeout = Date.now() + 5000;\n",
       "    root._bokeh_failed_load = false;\n",
       "  }\n",
       "\n",
       "  var NB_LOAD_WARNING = {'data': {'text/html':\n",
       "     \"<div style='background-color: #fdd'>\\n\"+\n",
       "     \"<p>\\n\"+\n",
       "     \"BokehJS does not appear to have successfully loaded. If loading BokehJS from CDN, this \\n\"+\n",
       "     \"may be due to a slow or bad network connection. Possible fixes:\\n\"+\n",
       "     \"</p>\\n\"+\n",
       "     \"<ul>\\n\"+\n",
       "     \"<li>re-rerun `output_notebook()` to attempt to load from CDN again, or</li>\\n\"+\n",
       "     \"<li>use INLINE resources instead, as so:</li>\\n\"+\n",
       "     \"</ul>\\n\"+\n",
       "     \"<code>\\n\"+\n",
       "     \"from bokeh.resources import INLINE\\n\"+\n",
       "     \"output_notebook(resources=INLINE)\\n\"+\n",
       "     \"</code>\\n\"+\n",
       "     \"</div>\"}};\n",
       "\n",
       "  function display_loaded() {\n",
       "    var el = document.getElementById(\"5b8e1b6a-4bc3-45df-9b68-8dc19cc9a205\");\n",
       "    if (el != null) {\n",
       "      el.textContent = \"BokehJS is loading...\";\n",
       "    }\n",
       "    if (root.Bokeh !== undefined) {\n",
       "      if (el != null) {\n",
       "        el.textContent = \"BokehJS \" + root.Bokeh.version + \" successfully loaded.\";\n",
       "      }\n",
       "    } else if (Date.now() < root._bokeh_timeout) {\n",
       "      setTimeout(display_loaded, 100)\n",
       "    }\n",
       "  }\n",
       "\n",
       "\n",
       "  function run_callbacks() {\n",
       "    try {\n",
       "      root._bokeh_onload_callbacks.forEach(function(callback) { callback() });\n",
       "    }\n",
       "    finally {\n",
       "      delete root._bokeh_onload_callbacks\n",
       "    }\n",
       "    console.info(\"Bokeh: all callbacks have finished\");\n",
       "  }\n",
       "\n",
       "  function load_libs(js_urls, callback) {\n",
       "    root._bokeh_onload_callbacks.push(callback);\n",
       "    if (root._bokeh_is_loading > 0) {\n",
       "      console.log(\"Bokeh: BokehJS is being loaded, scheduling callback at\", now());\n",
       "      return null;\n",
       "    }\n",
       "    if (js_urls == null || js_urls.length === 0) {\n",
       "      run_callbacks();\n",
       "      return null;\n",
       "    }\n",
       "    console.log(\"Bokeh: BokehJS not loaded, scheduling load and callback at\", now());\n",
       "    root._bokeh_is_loading = js_urls.length;\n",
       "    for (var i = 0; i < js_urls.length; i++) {\n",
       "      var url = js_urls[i];\n",
       "      var s = document.createElement('script');\n",
       "      s.src = url;\n",
       "      s.async = false;\n",
       "      s.onreadystatechange = s.onload = function() {\n",
       "        root._bokeh_is_loading--;\n",
       "        if (root._bokeh_is_loading === 0) {\n",
       "          console.log(\"Bokeh: all BokehJS libraries loaded\");\n",
       "          run_callbacks()\n",
       "        }\n",
       "      };\n",
       "      s.onerror = function() {\n",
       "        console.warn(\"failed to load library \" + url);\n",
       "      };\n",
       "      console.log(\"Bokeh: injecting script tag for BokehJS library: \", url);\n",
       "      document.getElementsByTagName(\"head\")[0].appendChild(s);\n",
       "    }\n",
       "  };var element = document.getElementById(\"5b8e1b6a-4bc3-45df-9b68-8dc19cc9a205\");\n",
       "  if (element == null) {\n",
       "    console.log(\"Bokeh: ERROR: autoload.js configured with elementid '5b8e1b6a-4bc3-45df-9b68-8dc19cc9a205' but no matching script tag was found. \")\n",
       "    return false;\n",
       "  }\n",
       "\n",
       "  var js_urls = [\"https://cdn.pydata.org/bokeh/release/bokeh-0.12.10.min.js\", \"https://cdn.pydata.org/bokeh/release/bokeh-widgets-0.12.10.min.js\", \"https://cdn.pydata.org/bokeh/release/bokeh-tables-0.12.10.min.js\", \"https://cdn.pydata.org/bokeh/release/bokeh-gl-0.12.10.min.js\"];\n",
       "\n",
       "  var inline_js = [\n",
       "    function(Bokeh) {\n",
       "      Bokeh.set_log_level(\"info\");\n",
       "    },\n",
       "    \n",
       "    function(Bokeh) {\n",
       "      \n",
       "    },\n",
       "    function(Bokeh) {\n",
       "      console.log(\"Bokeh: injecting CSS: https://cdn.pydata.org/bokeh/release/bokeh-0.12.10.min.css\");\n",
       "      Bokeh.embed.inject_css(\"https://cdn.pydata.org/bokeh/release/bokeh-0.12.10.min.css\");\n",
       "      console.log(\"Bokeh: injecting CSS: https://cdn.pydata.org/bokeh/release/bokeh-widgets-0.12.10.min.css\");\n",
       "      Bokeh.embed.inject_css(\"https://cdn.pydata.org/bokeh/release/bokeh-widgets-0.12.10.min.css\");\n",
       "      console.log(\"Bokeh: injecting CSS: https://cdn.pydata.org/bokeh/release/bokeh-tables-0.12.10.min.css\");\n",
       "      Bokeh.embed.inject_css(\"https://cdn.pydata.org/bokeh/release/bokeh-tables-0.12.10.min.css\");\n",
       "    }\n",
       "  ];\n",
       "\n",
       "  function run_inline_js() {\n",
       "    \n",
       "    if ((root.Bokeh !== undefined) || (force === true)) {\n",
       "      for (var i = 0; i < inline_js.length; i++) {\n",
       "        inline_js[i].call(root, root.Bokeh);\n",
       "      }if (force === true) {\n",
       "        display_loaded();\n",
       "      }} else if (Date.now() < root._bokeh_timeout) {\n",
       "      setTimeout(run_inline_js, 100);\n",
       "    } else if (!root._bokeh_failed_load) {\n",
       "      console.log(\"Bokeh: BokehJS failed to load within specified timeout.\");\n",
       "      root._bokeh_failed_load = true;\n",
       "    } else if (force !== true) {\n",
       "      var cell = $(document.getElementById(\"5b8e1b6a-4bc3-45df-9b68-8dc19cc9a205\")).parents('.cell').data().cell;\n",
       "      cell.output_area.append_execute_result(NB_LOAD_WARNING)\n",
       "    }\n",
       "\n",
       "  }\n",
       "\n",
       "  if (root._bokeh_is_loading === 0) {\n",
       "    console.log(\"Bokeh: BokehJS loaded, going straight to plotting\");\n",
       "    run_inline_js();\n",
       "  } else {\n",
       "    load_libs(js_urls, function() {\n",
       "      console.log(\"Bokeh: BokehJS plotting callback run at\", now());\n",
       "      run_inline_js();\n",
       "    });\n",
       "  }\n",
       "}(window));"
      ],
      "application/vnd.bokehjs_load.v0+json": "\n(function(root) {\n  function now() {\n    return new Date();\n  }\n\n  var force = true;\n\n  if (typeof (root._bokeh_onload_callbacks) === \"undefined\" || force === true) {\n    root._bokeh_onload_callbacks = [];\n    root._bokeh_is_loading = undefined;\n  }\n\n  \n\n  \n  if (typeof (root._bokeh_timeout) === \"undefined\" || force === true) {\n    root._bokeh_timeout = Date.now() + 5000;\n    root._bokeh_failed_load = false;\n  }\n\n  var NB_LOAD_WARNING = {'data': {'text/html':\n     \"<div style='background-color: #fdd'>\\n\"+\n     \"<p>\\n\"+\n     \"BokehJS does not appear to have successfully loaded. If loading BokehJS from CDN, this \\n\"+\n     \"may be due to a slow or bad network connection. Possible fixes:\\n\"+\n     \"</p>\\n\"+\n     \"<ul>\\n\"+\n     \"<li>re-rerun `output_notebook()` to attempt to load from CDN again, or</li>\\n\"+\n     \"<li>use INLINE resources instead, as so:</li>\\n\"+\n     \"</ul>\\n\"+\n     \"<code>\\n\"+\n     \"from bokeh.resources import INLINE\\n\"+\n     \"output_notebook(resources=INLINE)\\n\"+\n     \"</code>\\n\"+\n     \"</div>\"}};\n\n  function display_loaded() {\n    var el = document.getElementById(\"5b8e1b6a-4bc3-45df-9b68-8dc19cc9a205\");\n    if (el != null) {\n      el.textContent = \"BokehJS is loading...\";\n    }\n    if (root.Bokeh !== undefined) {\n      if (el != null) {\n        el.textContent = \"BokehJS \" + root.Bokeh.version + \" successfully loaded.\";\n      }\n    } else if (Date.now() < root._bokeh_timeout) {\n      setTimeout(display_loaded, 100)\n    }\n  }\n\n\n  function run_callbacks() {\n    try {\n      root._bokeh_onload_callbacks.forEach(function(callback) { callback() });\n    }\n    finally {\n      delete root._bokeh_onload_callbacks\n    }\n    console.info(\"Bokeh: all callbacks have finished\");\n  }\n\n  function load_libs(js_urls, callback) {\n    root._bokeh_onload_callbacks.push(callback);\n    if (root._bokeh_is_loading > 0) {\n      console.log(\"Bokeh: BokehJS is being loaded, scheduling callback at\", now());\n      return null;\n    }\n    if (js_urls == null || js_urls.length === 0) {\n      run_callbacks();\n      return null;\n    }\n    console.log(\"Bokeh: BokehJS not loaded, scheduling load and callback at\", now());\n    root._bokeh_is_loading = js_urls.length;\n    for (var i = 0; i < js_urls.length; i++) {\n      var url = js_urls[i];\n      var s = document.createElement('script');\n      s.src = url;\n      s.async = false;\n      s.onreadystatechange = s.onload = function() {\n        root._bokeh_is_loading--;\n        if (root._bokeh_is_loading === 0) {\n          console.log(\"Bokeh: all BokehJS libraries loaded\");\n          run_callbacks()\n        }\n      };\n      s.onerror = function() {\n        console.warn(\"failed to load library \" + url);\n      };\n      console.log(\"Bokeh: injecting script tag for BokehJS library: \", url);\n      document.getElementsByTagName(\"head\")[0].appendChild(s);\n    }\n  };var element = document.getElementById(\"5b8e1b6a-4bc3-45df-9b68-8dc19cc9a205\");\n  if (element == null) {\n    console.log(\"Bokeh: ERROR: autoload.js configured with elementid '5b8e1b6a-4bc3-45df-9b68-8dc19cc9a205' but no matching script tag was found. \")\n    return false;\n  }\n\n  var js_urls = [\"https://cdn.pydata.org/bokeh/release/bokeh-0.12.10.min.js\", \"https://cdn.pydata.org/bokeh/release/bokeh-widgets-0.12.10.min.js\", \"https://cdn.pydata.org/bokeh/release/bokeh-tables-0.12.10.min.js\", \"https://cdn.pydata.org/bokeh/release/bokeh-gl-0.12.10.min.js\"];\n\n  var inline_js = [\n    function(Bokeh) {\n      Bokeh.set_log_level(\"info\");\n    },\n    \n    function(Bokeh) {\n      \n    },\n    function(Bokeh) {\n      console.log(\"Bokeh: injecting CSS: https://cdn.pydata.org/bokeh/release/bokeh-0.12.10.min.css\");\n      Bokeh.embed.inject_css(\"https://cdn.pydata.org/bokeh/release/bokeh-0.12.10.min.css\");\n      console.log(\"Bokeh: injecting CSS: https://cdn.pydata.org/bokeh/release/bokeh-widgets-0.12.10.min.css\");\n      Bokeh.embed.inject_css(\"https://cdn.pydata.org/bokeh/release/bokeh-widgets-0.12.10.min.css\");\n      console.log(\"Bokeh: injecting CSS: https://cdn.pydata.org/bokeh/release/bokeh-tables-0.12.10.min.css\");\n      Bokeh.embed.inject_css(\"https://cdn.pydata.org/bokeh/release/bokeh-tables-0.12.10.min.css\");\n    }\n  ];\n\n  function run_inline_js() {\n    \n    if ((root.Bokeh !== undefined) || (force === true)) {\n      for (var i = 0; i < inline_js.length; i++) {\n        inline_js[i].call(root, root.Bokeh);\n      }if (force === true) {\n        display_loaded();\n      }} else if (Date.now() < root._bokeh_timeout) {\n      setTimeout(run_inline_js, 100);\n    } else if (!root._bokeh_failed_load) {\n      console.log(\"Bokeh: BokehJS failed to load within specified timeout.\");\n      root._bokeh_failed_load = true;\n    } else if (force !== true) {\n      var cell = $(document.getElementById(\"5b8e1b6a-4bc3-45df-9b68-8dc19cc9a205\")).parents('.cell').data().cell;\n      cell.output_area.append_execute_result(NB_LOAD_WARNING)\n    }\n\n  }\n\n  if (root._bokeh_is_loading === 0) {\n    console.log(\"Bokeh: BokehJS loaded, going straight to plotting\");\n    run_inline_js();\n  } else {\n    load_libs(js_urls, function() {\n      console.log(\"Bokeh: BokehJS plotting callback run at\", now());\n      run_inline_js();\n    });\n  }\n}(window));"
     },
     "metadata": {},
     "output_type": "display_data"
    }
   ],
   "source": [
    "from bokeh.plotting import figure, output_notebook, show\n",
    "from bokeh.models import ColumnDataSource, HoverTool, CustomJS, LabelSet\n",
    "import numpy as np\n",
    "\n",
    "output_notebook()"
   ]
  },
  {
   "cell_type": "markdown",
   "metadata": {},
   "source": [
    "## Defining Variables"
   ]
  },
  {
   "cell_type": "code",
   "execution_count": 2,
   "metadata": {
    "collapsed": true
   },
   "outputs": [],
   "source": [
    "# long string variables\n",
    "twentysix = [1,2,3,4,5,6,7,8,9,10,11,12,\n",
    "             13,14,15,16,17,18,19,20,21,22,23,24,25,26]\n",
    "alphabet = ['a','b','c','d','e','f','g','h','i','j','k','l','m',\n",
    "            'n','o','p','q','r','s','t','u','v','w','x','y','z']\n",
    "alphabet = alphabet*3\n",
    "\n",
    "\n",
    "# aesthetic variables\n",
    "x_offset = -4.5    # letter annotation offset from circle edge\n",
    "y_offset = -7    # letter annotation offset from circle edge\n",
    "\n",
    "seg_color = 'gold'    # segment color\n",
    "line_width = 3.0    # segment line width\n",
    "seg_alpha = 0.6    # segment alpha\n",
    "\n",
    "circ_color = 'gold'    # circle color\n",
    "circ_size = 23    # circle size\n",
    "circ_alpha = 0.4    # circle alpha\n",
    "hov_color = 'gold'    # hover color for circles\n",
    "hov_alpha = 0.8    # hover alpha for circles\n",
    "\n",
    "font = 'Garamond'\n",
    "\n",
    "\n",
    "# some points\n",
    "x = np.array([1,6,8])\n",
    "x = np.repeat(x,26)\n",
    "y = twentysix*3"
   ]
  },
  {
   "cell_type": "markdown",
   "metadata": {},
   "source": [
    "## Creating X and Y values for paths"
   ]
  },
  {
   "cell_type": "code",
   "execution_count": 3,
   "metadata": {
    "collapsed": true
   },
   "outputs": [],
   "source": [
    "# X values\n",
    "xval1 = [[1,6]]*26\n",
    "xval2 = [[6,8]]*26\n",
    "xvals = xval1+xval2"
   ]
  },
  {
   "cell_type": "code",
   "execution_count": 4,
   "metadata": {
    "collapsed": true
   },
   "outputs": [],
   "source": [
    "# Y values\n",
    "# rotor 1\n",
    "yvals = [[1,5],[2,11],[3,13],[4,6],[5,12],[6,7],[7,4],[8,17],[9,22],\n",
    "    [10,26],[11,14],[12,20],[13,15],[14,23],[15,25],[16,8],\n",
    "    [17,24],[18,21],[19,19],[20,16],[21,1],[22,9],[23,2],[24,18],\n",
    "    [25,3],[26,10],\n",
    "    \n",
    "    [1,1],[2,2],[3,3],[4,4],[5,5],[6,6],[7,7],[8,8],\n",
    "    [9,9],[10,10],[11,11],[12,12],[13,13],[14,14],[15,15],[16,16],\n",
    "    [17,17],[18,18],[19,19],[20,20],[21,21],[22,22],[23,23],[24,24],\n",
    "    [25,25],[26,26]]"
   ]
  },
  {
   "cell_type": "markdown",
   "metadata": {},
   "source": [
    "# Rotor Links - Rotor 1"
   ]
  },
  {
   "cell_type": "code",
   "execution_count": 5,
   "metadata": {
    "collapsed": true
   },
   "outputs": [],
   "source": [
    "# establish links\n",
    "links = {\n",
    "    0:[30],      1:[36],     2:[38],     3:[31],      4:[37],    5:[32],     6:[29],     7:[42],     8:[47],    \n",
    "    9:[51],     10:[39],    11:[45],    12:[40],    13:[48],    14:[50],    15:[33],    16:[49],    17:[46],    \n",
    "    18:[44],    19:[41],    20:[26],    21:[34],    22:[27],    23:[43],    24:[28],    25:[35],\n",
    "        \n",
    "    26:[20,52],    27:[22,53],    28:[24,54],    29:[6,55],     30:[0,56],     31:[3,57],     32:[5,58],     \n",
    "    33:[15,59],    34:[21,60],    35:[25,61],    36:[1,62],     37:[4,63],     38:[2,64],     39:[10,65],\n",
    "    40:[12,66],    41:[19,67],    42:[7,68],     43:[23,69],    44:[18,70],    45:[11,71],    46:[17,72],\n",
    "    47:[8,73],     48:[13,74],    49:[16,75],    50:[14,76],    51:[9,77],\n",
    "    \n",
    "    52:[26],    53:[27],    54:[28],    55:[29],    56:[30],    57:[31],    58:[32],    59:[33],    60:[34], \n",
    "    61:[35],    62:[36],    63:[37],    64:[38],    65:[39],    66:[40],    67:[41],    68:[42],    69:[43],\n",
    "    70:[44],    71:[45],    72:[46],    73:[47],    74:[48],    75:[49],    76:[50],    77:[51]\n",
    "}"
   ]
  },
  {
   "cell_type": "markdown",
   "metadata": {},
   "source": [
    "## Create Graph and Add Features"
   ]
  },
  {
   "cell_type": "code",
   "execution_count": 6,
   "metadata": {
    "collapsed": true
   },
   "outputs": [],
   "source": [
    "# create graph\n",
    "p = figure(width=400, height=800, tools=\"\",\n",
    "           toolbar_location=None,title='Hover over points')\n",
    "\n",
    "# add letter labels\n",
    "lsource = ColumnDataSource(data=dict(x = x, y = y, names = alphabet))\n",
    "labels = LabelSet(x='x', y='y', text='names', level='annotation',\n",
    "                  x_offset=x_offset, y_offset=y_offset, source=lsource,\n",
    "                  render_mode='canvas', text_font=font, \n",
    "                  text_color='black', text_font_style='bold')\n",
    "p.add_layout(labels)\n",
    "\n",
    "# add hover glyphs\n",
    "source = ColumnDataSource({'x0': [], 'y0': [], 'x1': [], 'y1':[]})\n",
    "sr = p.segment(x0='x0',y0='y0',x1='x1', y1='y1', color=seg_color, \n",
    "               alpha=seg_alpha, line_width=line_width, source=source,)\n",
    "cr = p.circle(x, y, color=circ_color, size=circ_size, alpha=circ_alpha, \n",
    "              hover_color=hov_color, hover_alpha=hov_alpha)\n",
    "\n",
    "# add path glyphs\n",
    "p.multi_line(xvals,yvals,color='gray',alpha=0.3)\n",
    "\n",
    "# remove gridlines and axis labels\n",
    "p.xgrid.visible = False\n",
    "p.ygrid.visible = False\n",
    "p.axis.visible = False\n",
    "\n",
    "# JS for hover tool\n",
    "code = \"\"\"\n",
    "var links = %s;\n",
    "var data = {'x0': [], 'y0': [], 'x1': [], 'y1': []};\n",
    "var cdata = circle.get('data');\n",
    "var indices = cb_data.index['1d'].indices;\n",
    "for (i=0; i < indices.length; i++) {\n",
    "    ind0 = indices[i]\n",
    "    for (j=0; j < links[ind0].length; j++) {\n",
    "        ind1 = links[ind0][j];\n",
    "        data['x0'].push(cdata.x[ind0]);\n",
    "        data['y0'].push(cdata.y[ind0]);\n",
    "        data['x1'].push(cdata.x[ind1]);\n",
    "        data['y1'].push(cdata.y[ind1]);\n",
    "    }\n",
    "}\n",
    "segment.set('data', data);\n",
    "\"\"\" % links\n",
    "\n",
    "# Call JS and Add HoverTool\n",
    "callback = CustomJS(args={'circle':cr.data_source, \n",
    "                          'segment':sr.data_source}, code=code)\n",
    "p.add_tools(HoverTool(tooltips=None,callback=callback,renderers=[cr]))"
   ]
  },
  {
   "cell_type": "markdown",
   "metadata": {},
   "source": [
    "# Display Graph"
   ]
  },
  {
   "cell_type": "code",
   "execution_count": 7,
   "metadata": {
    "scrolled": false
   },
   "outputs": [
    {
     "data": {
      "text/html": [
       "\n",
       "<div class=\"bk-root\">\n",
       "    <div class=\"bk-plotdiv\" id=\"9412078b-b3d2-4b71-a0a4-99bb1bd5e26a\"></div>\n",
       "</div>"
      ]
     },
     "metadata": {},
     "output_type": "display_data"
    },
    {
     "data": {
      "application/javascript": [
       "(function(root) {\n",
       "  function embed_document(root) {\n",
       "    var docs_json = {\"a6a2e1fe-a3c0-4524-8915-34f874a3e297\":{\"roots\":{\"references\":[{\"attributes\":{\"line_alpha\":{\"value\":0.1},\"line_color\":{\"value\":\"#1f77b4\"},\"line_width\":{\"value\":3.0},\"x0\":{\"field\":\"x0\"},\"x1\":{\"field\":\"x1\"},\"y0\":{\"field\":\"y0\"},\"y1\":{\"field\":\"y1\"}},\"id\":\"d7718933-c398-4580-aa30-f92e094c3c3f\",\"type\":\"Segment\"},{\"attributes\":{\"callback\":null,\"column_names\":[\"x0\",\"y0\",\"x1\",\"y1\"],\"data\":{\"x0\":[],\"x1\":[],\"y0\":[],\"y1\":[]}},\"id\":\"05046482-d9e1-4121-b5fe-341f6316cd76\",\"type\":\"ColumnDataSource\"},{\"attributes\":{\"callback\":null,\"column_names\":[\"xs\",\"ys\"],\"data\":{\"xs\":[[1,6],[1,6],[1,6],[1,6],[1,6],[1,6],[1,6],[1,6],[1,6],[1,6],[1,6],[1,6],[1,6],[1,6],[1,6],[1,6],[1,6],[1,6],[1,6],[1,6],[1,6],[1,6],[1,6],[1,6],[1,6],[1,6],[6,8],[6,8],[6,8],[6,8],[6,8],[6,8],[6,8],[6,8],[6,8],[6,8],[6,8],[6,8],[6,8],[6,8],[6,8],[6,8],[6,8],[6,8],[6,8],[6,8],[6,8],[6,8],[6,8],[6,8],[6,8],[6,8]],\"ys\":[[1,5],[2,11],[3,13],[4,6],[5,12],[6,7],[7,4],[8,17],[9,22],[10,26],[11,14],[12,20],[13,15],[14,23],[15,25],[16,8],[17,24],[18,21],[19,19],[20,16],[21,1],[22,9],[23,2],[24,18],[25,3],[26,10],[1,1],[2,2],[3,3],[4,4],[5,5],[6,6],[7,7],[8,8],[9,9],[10,10],[11,11],[12,12],[13,13],[14,14],[15,15],[16,16],[17,17],[18,18],[19,19],[20,20],[21,21],[22,22],[23,23],[24,24],[25,25],[26,26]]}},\"id\":\"4fffbf53-f239-4ccb-855c-ba9a97197a81\",\"type\":\"ColumnDataSource\"},{\"attributes\":{\"data_source\":{\"id\":\"05046482-d9e1-4121-b5fe-341f6316cd76\",\"type\":\"ColumnDataSource\"},\"glyph\":{\"id\":\"8947b183-06e4-4994-9b76-8fe027d4451b\",\"type\":\"Segment\"},\"hover_glyph\":null,\"muted_glyph\":null,\"nonselection_glyph\":{\"id\":\"d7718933-c398-4580-aa30-f92e094c3c3f\",\"type\":\"Segment\"},\"selection_glyph\":null,\"view\":{\"id\":\"f3f596da-27f6-486e-8df5-f19f8697dafd\",\"type\":\"CDSView\"}},\"id\":\"bbab833e-fa31-401b-aced-fe92e21c80e4\",\"type\":\"GlyphRenderer\"},{\"attributes\":{},\"id\":\"29c364dc-cbcd-49c8-ba01-575e11591c35\",\"type\":\"BasicTickFormatter\"},{\"attributes\":{},\"id\":\"64d12d72-c6e8-476d-b198-7485571d10a7\",\"type\":\"BasicTickFormatter\"},{\"attributes\":{\"fill_alpha\":{\"value\":0.4},\"fill_color\":{\"value\":\"gold\"},\"line_alpha\":{\"value\":0.4},\"line_color\":{\"value\":\"gold\"},\"size\":{\"units\":\"screen\",\"value\":23},\"x\":{\"field\":\"x\"},\"y\":{\"field\":\"y\"}},\"id\":\"5dac00ec-4983-4611-95da-75b4a8084555\",\"type\":\"Circle\"},{\"attributes\":{\"fill_alpha\":{\"value\":0.1},\"fill_color\":{\"value\":\"#1f77b4\"},\"line_alpha\":{\"value\":0.1},\"line_color\":{\"value\":\"#1f77b4\"},\"size\":{\"units\":\"screen\",\"value\":23},\"x\":{\"field\":\"x\"},\"y\":{\"field\":\"y\"}},\"id\":\"bbb473f5-24f0-429c-a990-6b8469e8e987\",\"type\":\"Circle\"},{\"attributes\":{\"args\":{\"circle\":{\"id\":\"876ff209-1c34-4072-8453-62073e71b907\",\"type\":\"ColumnDataSource\"},\"segment\":{\"id\":\"05046482-d9e1-4121-b5fe-341f6316cd76\",\"type\":\"ColumnDataSource\"}},\"code\":\"\\nvar links = {0: [30], 1: [36], 2: [38], 3: [31], 4: [37], 5: [32], 6: [29], 7: [42], 8: [47], 9: [51], 10: [39], 11: [45], 12: [40], 13: [48], 14: [50], 15: [33], 16: [49], 17: [46], 18: [44], 19: [41], 20: [26], 21: [34], 22: [27], 23: [43], 24: [28], 25: [35], 26: [20, 52], 27: [22, 53], 28: [24, 54], 29: [6, 55], 30: [0, 56], 31: [3, 57], 32: [5, 58], 33: [15, 59], 34: [21, 60], 35: [25, 61], 36: [1, 62], 37: [4, 63], 38: [2, 64], 39: [10, 65], 40: [12, 66], 41: [19, 67], 42: [7, 68], 43: [23, 69], 44: [18, 70], 45: [11, 71], 46: [17, 72], 47: [8, 73], 48: [13, 74], 49: [16, 75], 50: [14, 76], 51: [9, 77], 52: [26], 53: [27], 54: [28], 55: [29], 56: [30], 57: [31], 58: [32], 59: [33], 60: [34], 61: [35], 62: [36], 63: [37], 64: [38], 65: [39], 66: [40], 67: [41], 68: [42], 69: [43], 70: [44], 71: [45], 72: [46], 73: [47], 74: [48], 75: [49], 76: [50], 77: [51]};\\nvar data = {'x0': [], 'y0': [], 'x1': [], 'y1': []};\\nvar cdata = circle.get('data');\\nvar indices = cb_data.index['1d'].indices;\\nfor (i=0; i < indices.length; i++) {\\n    ind0 = indices[i]\\n    for (j=0; j < links[ind0].length; j++) {\\n        ind1 = links[ind0][j];\\n        data['x0'].push(cdata.x[ind0]);\\n        data['y0'].push(cdata.y[ind0]);\\n        data['x1'].push(cdata.x[ind1]);\\n        data['y1'].push(cdata.y[ind1]);\\n    }\\n}\\nsegment.set('data', data);\\n\"},\"id\":\"112fa353-a536-4256-98f5-ce4dc1175673\",\"type\":\"CustomJS\"},{\"attributes\":{\"data_source\":{\"id\":\"876ff209-1c34-4072-8453-62073e71b907\",\"type\":\"ColumnDataSource\"},\"glyph\":{\"id\":\"5dac00ec-4983-4611-95da-75b4a8084555\",\"type\":\"Circle\"},\"hover_glyph\":{\"id\":\"940aff85-2860-41ae-bd5a-4faf45d3baf5\",\"type\":\"Circle\"},\"muted_glyph\":null,\"nonselection_glyph\":{\"id\":\"bbb473f5-24f0-429c-a990-6b8469e8e987\",\"type\":\"Circle\"},\"selection_glyph\":null,\"view\":{\"id\":\"3c272630-c35d-4487-8b40-a2e843e5b767\",\"type\":\"CDSView\"}},\"id\":\"6028cad2-7b61-49e9-bdfb-04c1afa970a2\",\"type\":\"GlyphRenderer\"},{\"attributes\":{\"fill_alpha\":{\"value\":0.8},\"fill_color\":{\"value\":\"gold\"},\"line_alpha\":{\"value\":0.8},\"line_color\":{\"value\":\"gold\"},\"size\":{\"units\":\"screen\",\"value\":23},\"x\":{\"field\":\"x\"},\"y\":{\"field\":\"y\"}},\"id\":\"940aff85-2860-41ae-bd5a-4faf45d3baf5\",\"type\":\"Circle\"},{\"attributes\":{\"source\":{\"id\":\"05046482-d9e1-4121-b5fe-341f6316cd76\",\"type\":\"ColumnDataSource\"}},\"id\":\"f3f596da-27f6-486e-8df5-f19f8697dafd\",\"type\":\"CDSView\"},{\"attributes\":{\"source\":{\"id\":\"876ff209-1c34-4072-8453-62073e71b907\",\"type\":\"ColumnDataSource\"}},\"id\":\"3c272630-c35d-4487-8b40-a2e843e5b767\",\"type\":\"CDSView\"},{\"attributes\":{\"line_alpha\":{\"value\":0.3},\"line_color\":{\"value\":\"gray\"},\"xs\":{\"field\":\"xs\"},\"ys\":{\"field\":\"ys\"}},\"id\":\"9b0a337d-2317-4064-a793-b36e1959927f\",\"type\":\"MultiLine\"},{\"attributes\":{\"plot\":{\"id\":\"0783bbe5-7813-4ef5-95e9-595404e6a4b5\",\"subtype\":\"Figure\",\"type\":\"Plot\"},\"source\":{\"id\":\"7f77a40d-6d59-4370-b312-d4704da42ba1\",\"type\":\"ColumnDataSource\"},\"text\":{\"field\":\"names\"},\"text_color\":{\"value\":\"black\"},\"text_font\":\"Garamond\",\"text_font_style\":\"bold\",\"x\":{\"field\":\"x\"},\"x_offset\":{\"value\":-4.5},\"y\":{\"field\":\"y\"},\"y_offset\":{\"value\":-7}},\"id\":\"01e7037a-5d16-4491-b77c-9edfb00b0187\",\"type\":\"LabelSet\"},{\"attributes\":{\"callback\":null,\"column_names\":[\"x\",\"y\"],\"data\":{\"x\":[1,1,1,1,1,1,1,1,1,1,1,1,1,1,1,1,1,1,1,1,1,1,1,1,1,1,6,6,6,6,6,6,6,6,6,6,6,6,6,6,6,6,6,6,6,6,6,6,6,6,6,6,8,8,8,8,8,8,8,8,8,8,8,8,8,8,8,8,8,8,8,8,8,8,8,8,8,8],\"y\":[1,2,3,4,5,6,7,8,9,10,11,12,13,14,15,16,17,18,19,20,21,22,23,24,25,26,1,2,3,4,5,6,7,8,9,10,11,12,13,14,15,16,17,18,19,20,21,22,23,24,25,26,1,2,3,4,5,6,7,8,9,10,11,12,13,14,15,16,17,18,19,20,21,22,23,24,25,26]}},\"id\":\"876ff209-1c34-4072-8453-62073e71b907\",\"type\":\"ColumnDataSource\"},{\"attributes\":{\"data_source\":{\"id\":\"4fffbf53-f239-4ccb-855c-ba9a97197a81\",\"type\":\"ColumnDataSource\"},\"glyph\":{\"id\":\"9b0a337d-2317-4064-a793-b36e1959927f\",\"type\":\"MultiLine\"},\"hover_glyph\":null,\"muted_glyph\":null,\"nonselection_glyph\":{\"id\":\"fae23f90-0e99-455d-96a1-d26d833f1c10\",\"type\":\"MultiLine\"},\"selection_glyph\":null,\"view\":{\"id\":\"fac2a883-af82-4957-a217-c6a6bcb5f064\",\"type\":\"CDSView\"}},\"id\":\"c3390dbb-1e10-44ec-aaf1-695a070aa88e\",\"type\":\"GlyphRenderer\"},{\"attributes\":{\"below\":[{\"id\":\"1769330f-ad5c-4b8c-84ec-4111e49be7da\",\"type\":\"LinearAxis\"}],\"left\":[{\"id\":\"69c271ba-ab48-4731-af05-e81d73d3566e\",\"type\":\"LinearAxis\"}],\"plot_height\":800,\"plot_width\":400,\"renderers\":[{\"id\":\"1769330f-ad5c-4b8c-84ec-4111e49be7da\",\"type\":\"LinearAxis\"},{\"id\":\"ed26ceb8-5d44-47bf-a0c4-1c6200906d07\",\"type\":\"Grid\"},{\"id\":\"69c271ba-ab48-4731-af05-e81d73d3566e\",\"type\":\"LinearAxis\"},{\"id\":\"4ad1c287-6132-4659-9d55-bd0b7cb6c2b7\",\"type\":\"Grid\"},{\"id\":\"01e7037a-5d16-4491-b77c-9edfb00b0187\",\"type\":\"LabelSet\"},{\"id\":\"bbab833e-fa31-401b-aced-fe92e21c80e4\",\"type\":\"GlyphRenderer\"},{\"id\":\"6028cad2-7b61-49e9-bdfb-04c1afa970a2\",\"type\":\"GlyphRenderer\"},{\"id\":\"c3390dbb-1e10-44ec-aaf1-695a070aa88e\",\"type\":\"GlyphRenderer\"}],\"title\":{\"id\":\"b810f1a8-9018-4d0d-a94e-db82d1822edb\",\"type\":\"Title\"},\"toolbar\":{\"id\":\"4cc38af5-6280-4d0d-98b8-6f5a4494ac29\",\"type\":\"Toolbar\"},\"toolbar_location\":null,\"x_range\":{\"id\":\"89fa39a7-12eb-4607-8921-0214b11eea36\",\"type\":\"DataRange1d\"},\"x_scale\":{\"id\":\"2f689ba8-c93d-43d7-a09f-c3a2ee4a8c1a\",\"type\":\"LinearScale\"},\"y_range\":{\"id\":\"a0102b8a-3765-4ad2-8740-18813bd31096\",\"type\":\"DataRange1d\"},\"y_scale\":{\"id\":\"3afb3a10-eb2b-4290-9273-7f3537c7bba6\",\"type\":\"LinearScale\"}},\"id\":\"0783bbe5-7813-4ef5-95e9-595404e6a4b5\",\"subtype\":\"Figure\",\"type\":\"Plot\"},{\"attributes\":{\"line_alpha\":{\"value\":0.1},\"line_color\":{\"value\":\"#1f77b4\"},\"xs\":{\"field\":\"xs\"},\"ys\":{\"field\":\"ys\"}},\"id\":\"fae23f90-0e99-455d-96a1-d26d833f1c10\",\"type\":\"MultiLine\"},{\"attributes\":{\"callback\":null,\"column_names\":[\"x\",\"y\",\"names\"],\"data\":{\"names\":[\"a\",\"b\",\"c\",\"d\",\"e\",\"f\",\"g\",\"h\",\"i\",\"j\",\"k\",\"l\",\"m\",\"n\",\"o\",\"p\",\"q\",\"r\",\"s\",\"t\",\"u\",\"v\",\"w\",\"x\",\"y\",\"z\",\"a\",\"b\",\"c\",\"d\",\"e\",\"f\",\"g\",\"h\",\"i\",\"j\",\"k\",\"l\",\"m\",\"n\",\"o\",\"p\",\"q\",\"r\",\"s\",\"t\",\"u\",\"v\",\"w\",\"x\",\"y\",\"z\",\"a\",\"b\",\"c\",\"d\",\"e\",\"f\",\"g\",\"h\",\"i\",\"j\",\"k\",\"l\",\"m\",\"n\",\"o\",\"p\",\"q\",\"r\",\"s\",\"t\",\"u\",\"v\",\"w\",\"x\",\"y\",\"z\"],\"x\":[1,1,1,1,1,1,1,1,1,1,1,1,1,1,1,1,1,1,1,1,1,1,1,1,1,1,6,6,6,6,6,6,6,6,6,6,6,6,6,6,6,6,6,6,6,6,6,6,6,6,6,6,8,8,8,8,8,8,8,8,8,8,8,8,8,8,8,8,8,8,8,8,8,8,8,8,8,8],\"y\":[1,2,3,4,5,6,7,8,9,10,11,12,13,14,15,16,17,18,19,20,21,22,23,24,25,26,1,2,3,4,5,6,7,8,9,10,11,12,13,14,15,16,17,18,19,20,21,22,23,24,25,26,1,2,3,4,5,6,7,8,9,10,11,12,13,14,15,16,17,18,19,20,21,22,23,24,25,26]}},\"id\":\"7f77a40d-6d59-4370-b312-d4704da42ba1\",\"type\":\"ColumnDataSource\"},{\"attributes\":{\"source\":{\"id\":\"4fffbf53-f239-4ccb-855c-ba9a97197a81\",\"type\":\"ColumnDataSource\"}},\"id\":\"fac2a883-af82-4957-a217-c6a6bcb5f064\",\"type\":\"CDSView\"},{\"attributes\":{\"plot\":null,\"text\":\"Hover over points\"},\"id\":\"b810f1a8-9018-4d0d-a94e-db82d1822edb\",\"type\":\"Title\"},{\"attributes\":{\"callback\":{\"id\":\"112fa353-a536-4256-98f5-ce4dc1175673\",\"type\":\"CustomJS\"},\"renderers\":[{\"id\":\"6028cad2-7b61-49e9-bdfb-04c1afa970a2\",\"type\":\"GlyphRenderer\"}],\"tooltips\":null},\"id\":\"882dd5ec-4194-47df-a744-d82141c4ea3f\",\"type\":\"HoverTool\"},{\"attributes\":{\"callback\":null},\"id\":\"89fa39a7-12eb-4607-8921-0214b11eea36\",\"type\":\"DataRange1d\"},{\"attributes\":{\"active_drag\":\"auto\",\"active_inspect\":\"auto\",\"active_scroll\":\"auto\",\"active_tap\":\"auto\",\"tools\":[{\"id\":\"882dd5ec-4194-47df-a744-d82141c4ea3f\",\"type\":\"HoverTool\"}]},\"id\":\"4cc38af5-6280-4d0d-98b8-6f5a4494ac29\",\"type\":\"Toolbar\"},{\"attributes\":{\"line_alpha\":{\"value\":0.6},\"line_color\":{\"value\":\"gold\"},\"line_width\":{\"value\":3.0},\"x0\":{\"field\":\"x0\"},\"x1\":{\"field\":\"x1\"},\"y0\":{\"field\":\"y0\"},\"y1\":{\"field\":\"y1\"}},\"id\":\"8947b183-06e4-4994-9b76-8fe027d4451b\",\"type\":\"Segment\"},{\"attributes\":{},\"id\":\"2f689ba8-c93d-43d7-a09f-c3a2ee4a8c1a\",\"type\":\"LinearScale\"},{\"attributes\":{\"callback\":null},\"id\":\"a0102b8a-3765-4ad2-8740-18813bd31096\",\"type\":\"DataRange1d\"},{\"attributes\":{},\"id\":\"3afb3a10-eb2b-4290-9273-7f3537c7bba6\",\"type\":\"LinearScale\"},{\"attributes\":{\"formatter\":{\"id\":\"29c364dc-cbcd-49c8-ba01-575e11591c35\",\"type\":\"BasicTickFormatter\"},\"plot\":{\"id\":\"0783bbe5-7813-4ef5-95e9-595404e6a4b5\",\"subtype\":\"Figure\",\"type\":\"Plot\"},\"ticker\":{\"id\":\"b0a32bf7-2d5a-456e-8c51-a377336e6d72\",\"type\":\"BasicTicker\"},\"visible\":false},\"id\":\"1769330f-ad5c-4b8c-84ec-4111e49be7da\",\"type\":\"LinearAxis\"},{\"attributes\":{},\"id\":\"b0a32bf7-2d5a-456e-8c51-a377336e6d72\",\"type\":\"BasicTicker\"},{\"attributes\":{\"plot\":{\"id\":\"0783bbe5-7813-4ef5-95e9-595404e6a4b5\",\"subtype\":\"Figure\",\"type\":\"Plot\"},\"ticker\":{\"id\":\"b0a32bf7-2d5a-456e-8c51-a377336e6d72\",\"type\":\"BasicTicker\"},\"visible\":false},\"id\":\"ed26ceb8-5d44-47bf-a0c4-1c6200906d07\",\"type\":\"Grid\"},{\"attributes\":{\"formatter\":{\"id\":\"64d12d72-c6e8-476d-b198-7485571d10a7\",\"type\":\"BasicTickFormatter\"},\"plot\":{\"id\":\"0783bbe5-7813-4ef5-95e9-595404e6a4b5\",\"subtype\":\"Figure\",\"type\":\"Plot\"},\"ticker\":{\"id\":\"8003ddec-e084-4f9b-a7f8-3bc7df997e35\",\"type\":\"BasicTicker\"},\"visible\":false},\"id\":\"69c271ba-ab48-4731-af05-e81d73d3566e\",\"type\":\"LinearAxis\"},{\"attributes\":{},\"id\":\"8003ddec-e084-4f9b-a7f8-3bc7df997e35\",\"type\":\"BasicTicker\"},{\"attributes\":{\"dimension\":1,\"plot\":{\"id\":\"0783bbe5-7813-4ef5-95e9-595404e6a4b5\",\"subtype\":\"Figure\",\"type\":\"Plot\"},\"ticker\":{\"id\":\"8003ddec-e084-4f9b-a7f8-3bc7df997e35\",\"type\":\"BasicTicker\"},\"visible\":false},\"id\":\"4ad1c287-6132-4659-9d55-bd0b7cb6c2b7\",\"type\":\"Grid\"}],\"root_ids\":[\"0783bbe5-7813-4ef5-95e9-595404e6a4b5\"]},\"title\":\"Bokeh Application\",\"version\":\"0.12.10\"}};\n",
       "    var render_items = [{\"docid\":\"a6a2e1fe-a3c0-4524-8915-34f874a3e297\",\"elementid\":\"9412078b-b3d2-4b71-a0a4-99bb1bd5e26a\",\"modelid\":\"0783bbe5-7813-4ef5-95e9-595404e6a4b5\"}];\n",
       "\n",
       "    root.Bokeh.embed.embed_items(docs_json, render_items);\n",
       "  }\n",
       "\n",
       "  if (root.Bokeh !== undefined) {\n",
       "    embed_document(root);\n",
       "  } else {\n",
       "    var attempts = 0;\n",
       "    var timer = setInterval(function(root) {\n",
       "      if (root.Bokeh !== undefined) {\n",
       "        embed_document(root);\n",
       "        clearInterval(timer);\n",
       "      }\n",
       "      attempts++;\n",
       "      if (attempts > 100) {\n",
       "        console.log(\"Bokeh: ERROR: Unable to embed document because BokehJS library is missing\")\n",
       "        clearInterval(timer);\n",
       "      }\n",
       "    }, 10, root)\n",
       "  }\n",
       "})(window);"
      ],
      "application/vnd.bokehjs_exec.v0+json": ""
     },
     "metadata": {
      "application/vnd.bokehjs_exec.v0+json": {
       "id": "0783bbe5-7813-4ef5-95e9-595404e6a4b5"
      }
     },
     "output_type": "display_data"
    }
   ],
   "source": [
    "show(p)"
   ]
  },
  {
   "cell_type": "markdown",
   "metadata": {},
   "source": [
    "# Shifting Outer Ring"
   ]
  },
  {
   "cell_type": "markdown",
   "metadata": {},
   "source": [
    "## Strat 1: Shifting paths and links"
   ]
  },
  {
   "cell_type": "code",
   "execution_count": 8,
   "metadata": {
    "collapsed": true
   },
   "outputs": [],
   "source": [
    "# define shift\n",
    "shift = 3"
   ]
  },
  {
   "cell_type": "code",
   "execution_count": 9,
   "metadata": {},
   "outputs": [],
   "source": [
    "# redefine yvals\n",
    "yvals_inner = [[1,5],[2,11],[3,13],[4,6],[5,12],[6,7],[7,4],[8,17],\n",
    "    [9,22],[10,26],[11,14],[12,20],[13,15],[14,23],[15,25],[16,8],\n",
    "    [17,24],[18,21],[19,19],[20,16],[21,1],[22,9],[23,2],[24,18],\n",
    "    [25,3],[26,10]]\n",
    "yvals_outer = [[1,1],[2,2],[3,3],[4,4],[5,5],[6,6],[7,7],[8,8],\n",
    "    [9,9],[10,10],[11,11],[12,12],[13,13],[14,14],[15,15],[16,16],\n",
    "    [17,17],[18,18],[19,19],[20,20],[21,21],[22,22],[23,23],[24,24],\n",
    "    [25,25],[26,26]]\n",
    "yvals = yvals_inner + yvals_outer\n",
    "\n",
    "\n",
    "def shift_yvals(yvals, shift):\n",
    "    for pair in yvals:\n",
    "        pair[1] += shift\n",
    "        if pair[1] > 26:\n",
    "            pair[1] += (-26)\n",
    "    return yvals\n",
    "\n",
    "yvals_outer = shift_yvals(yvals_outer,shift)\n",
    "yvals = yvals_inner + yvals_outer"
   ]
  },
  {
   "cell_type": "code",
   "execution_count": 21,
   "metadata": {},
   "outputs": [],
   "source": [
    "# redefine links\n",
    "links = {\n",
    "    0:[30],      1:[36],     2:[38],     3:[31],      4:[37],    5:[32],     6:[29],     7:[42],     8:[47],    \n",
    "    9:[51],     10:[39],    11:[45],    12:[40],    13:[48],    14:[50],    15:[33],    16:[49],    17:[46],    \n",
    "    18:[44],    19:[41],    20:[26],    21:[34],    22:[27],    23:[43],    24:[28],    25:[35],\n",
    "        \n",
    "    26:[20,52],    27:[22,53],    28:[24,54],    29:[6,55],     30:[0,56],     31:[3,57],     32:[5,58],     \n",
    "    33:[15,59],    34:[21,60],    35:[25,61],    36:[1,62],     37:[4,63],     38:[2,64],     39:[10,65],\n",
    "    40:[12,66],    41:[19,67],    42:[7,68],     43:[23,69],    44:[18,70],    45:[11,71],    46:[17,72],\n",
    "    47:[8,73],     48:[13,74],    49:[16,75],    50:[14,76],    51:[9,77],\n",
    "    \n",
    "    52:[26],    53:[27],    54:[28],    55:[29],    56:[30],    57:[31],    58:[32],    59:[33],    60:[34], \n",
    "    61:[35],    62:[36],    63:[37],    64:[38],    65:[39],    66:[40],    67:[41],    68:[42],    69:[43],\n",
    "    70:[44],    71:[45],    72:[46],    73:[47],    74:[48],    75:[49],    76:[50],    77:[51]\n",
    "}\n",
    "\n",
    "def shift_links(links,shift):\n",
    "    for item in links:\n",
    "        if item > 51:\n",
    "            links[item][0] += (- shift)\n",
    "            if links[item][0] < 26:\n",
    "                links[item][0] += 26\n",
    "        if item > 25 and item < 52:\n",
    "            links[item][1] += shift\n",
    "            if links[item][1] > 77:\n",
    "                links[item][1] += (- 26)\n",
    "    return(links)\n",
    "links = shift_links(links,shift)"
   ]
  },
  {
   "cell_type": "code",
   "execution_count": 22,
   "metadata": {
    "collapsed": true
   },
   "outputs": [],
   "source": [
    "# update graph\n",
    "p = figure(width=400, height=800, tools=\"\",\n",
    "           toolbar_location=None,title='Hover over points')\n",
    "\n",
    "# add letter labels\n",
    "lsource = ColumnDataSource(data=dict(x = x, y = y, names = alphabet))\n",
    "labels = LabelSet(x='x', y='y', text='names', level='annotation',\n",
    "                  x_offset=x_offset, y_offset=y_offset, source=lsource,\n",
    "                  render_mode='canvas', text_font=font, \n",
    "                  text_color='black', text_font_style='bold')\n",
    "p.add_layout(labels)\n",
    "\n",
    "# add hover glyphs\n",
    "source = ColumnDataSource({'x0': [], 'y0': [], 'x1': [], 'y1':[]})\n",
    "sr = p.segment(x0='x0',y0='y0',x1='x1', y1='y1', color=seg_color, \n",
    "               alpha=seg_alpha, line_width=line_width, source=source,)\n",
    "cr = p.circle(x, y, color=circ_color, size=circ_size, alpha=circ_alpha, \n",
    "              hover_color=hov_color, hover_alpha=hov_alpha)\n",
    "\n",
    "# add path glyphs\n",
    "p.multi_line(xvals,yvals,color='gray',alpha=0.3)\n",
    "\n",
    "# remove gridlines and axis labels\n",
    "p.xgrid.visible = False\n",
    "p.ygrid.visible = False\n",
    "p.axis.visible = False\n",
    "\n",
    "# JS for hover tool\n",
    "code = \"\"\"\n",
    "var links = %s;\n",
    "var data = {'x0': [], 'y0': [], 'x1': [], 'y1': []};\n",
    "var cdata = circle.get('data');\n",
    "var indices = cb_data.index['1d'].indices;\n",
    "for (i=0; i < indices.length; i++) {\n",
    "    ind0 = indices[i]\n",
    "    for (j=0; j < links[ind0].length; j++) {\n",
    "        ind1 = links[ind0][j];\n",
    "        data['x0'].push(cdata.x[ind0]);\n",
    "        data['y0'].push(cdata.y[ind0]);\n",
    "        data['x1'].push(cdata.x[ind1]);\n",
    "        data['y1'].push(cdata.y[ind1]);\n",
    "    }\n",
    "}\n",
    "segment.set('data', data);\n",
    "\"\"\" % links\n",
    "\n",
    "# Call JS and Add HoverTool\n",
    "callback = CustomJS(args={'circle':cr.data_source, \n",
    "                          'segment':sr.data_source}, code=code)\n",
    "p.add_tools(HoverTool(tooltips=None,callback=callback,renderers=[cr]))"
   ]
  },
  {
   "cell_type": "code",
   "execution_count": 23,
   "metadata": {},
   "outputs": [
    {
     "data": {
      "text/html": [
       "\n",
       "<div class=\"bk-root\">\n",
       "    <div class=\"bk-plotdiv\" id=\"d92523cf-7f93-46c9-857e-45ee640cabc2\"></div>\n",
       "</div>"
      ]
     },
     "metadata": {},
     "output_type": "display_data"
    },
    {
     "data": {
      "application/javascript": [
       "(function(root) {\n",
       "  function embed_document(root) {\n",
       "    var docs_json = {\"ce9a8b0e-f4da-4723-b336-ce6e95106bc0\":{\"roots\":{\"references\":[{\"attributes\":{\"below\":[{\"id\":\"47f0b1fc-2a5d-412f-9238-8017af03e4d0\",\"type\":\"LinearAxis\"}],\"left\":[{\"id\":\"aabd32a3-3f98-45a5-a973-67946c3ac2cc\",\"type\":\"LinearAxis\"}],\"plot_height\":800,\"plot_width\":400,\"renderers\":[{\"id\":\"47f0b1fc-2a5d-412f-9238-8017af03e4d0\",\"type\":\"LinearAxis\"},{\"id\":\"1c631b46-4dad-4a5b-9797-0e2aa9a34ef4\",\"type\":\"Grid\"},{\"id\":\"aabd32a3-3f98-45a5-a973-67946c3ac2cc\",\"type\":\"LinearAxis\"},{\"id\":\"9e19e6cb-9521-4e36-a51a-64c8f3bb5648\",\"type\":\"Grid\"},{\"id\":\"f6ab933f-daac-478c-95b3-51947a75cf44\",\"type\":\"LabelSet\"},{\"id\":\"cd26bb65-9fc4-46c8-b7cb-3fa8939dfe2c\",\"type\":\"GlyphRenderer\"},{\"id\":\"40dc2fe1-e261-46f8-8d5c-48515215a617\",\"type\":\"GlyphRenderer\"},{\"id\":\"cbd0349c-6e6d-4d45-a93b-91a59f8a0853\",\"type\":\"GlyphRenderer\"}],\"title\":{\"id\":\"2305932f-d953-4e4d-aa75-51cae06e1a8b\",\"type\":\"Title\"},\"toolbar\":{\"id\":\"e0b1436d-103e-4a29-8502-813aef8cfd80\",\"type\":\"Toolbar\"},\"toolbar_location\":null,\"x_range\":{\"id\":\"a50e9c89-6b09-4c75-8a88-98b88c987ae9\",\"type\":\"DataRange1d\"},\"x_scale\":{\"id\":\"7b42c363-ba64-40e8-b6ed-1414dc6a1f0a\",\"type\":\"LinearScale\"},\"y_range\":{\"id\":\"34554a4b-8058-46af-b400-078d1b870398\",\"type\":\"DataRange1d\"},\"y_scale\":{\"id\":\"19ed0e36-e0f9-465c-8902-c90dfd3dee16\",\"type\":\"LinearScale\"}},\"id\":\"816b5c7b-d5f4-4586-a6ee-7be45242fcf0\",\"subtype\":\"Figure\",\"type\":\"Plot\"},{\"attributes\":{\"callback\":null,\"column_names\":[\"x\",\"y\",\"names\"],\"data\":{\"names\":[\"a\",\"b\",\"c\",\"d\",\"e\",\"f\",\"g\",\"h\",\"i\",\"j\",\"k\",\"l\",\"m\",\"n\",\"o\",\"p\",\"q\",\"r\",\"s\",\"t\",\"u\",\"v\",\"w\",\"x\",\"y\",\"z\",\"a\",\"b\",\"c\",\"d\",\"e\",\"f\",\"g\",\"h\",\"i\",\"j\",\"k\",\"l\",\"m\",\"n\",\"o\",\"p\",\"q\",\"r\",\"s\",\"t\",\"u\",\"v\",\"w\",\"x\",\"y\",\"z\",\"a\",\"b\",\"c\",\"d\",\"e\",\"f\",\"g\",\"h\",\"i\",\"j\",\"k\",\"l\",\"m\",\"n\",\"o\",\"p\",\"q\",\"r\",\"s\",\"t\",\"u\",\"v\",\"w\",\"x\",\"y\",\"z\"],\"x\":[1,1,1,1,1,1,1,1,1,1,1,1,1,1,1,1,1,1,1,1,1,1,1,1,1,1,6,6,6,6,6,6,6,6,6,6,6,6,6,6,6,6,6,6,6,6,6,6,6,6,6,6,8,8,8,8,8,8,8,8,8,8,8,8,8,8,8,8,8,8,8,8,8,8,8,8,8,8],\"y\":[1,2,3,4,5,6,7,8,9,10,11,12,13,14,15,16,17,18,19,20,21,22,23,24,25,26,1,2,3,4,5,6,7,8,9,10,11,12,13,14,15,16,17,18,19,20,21,22,23,24,25,26,1,2,3,4,5,6,7,8,9,10,11,12,13,14,15,16,17,18,19,20,21,22,23,24,25,26]}},\"id\":\"7cde3f03-2bf8-443d-98ae-d4d5faf2908c\",\"type\":\"ColumnDataSource\"},{\"attributes\":{\"plot\":{\"id\":\"816b5c7b-d5f4-4586-a6ee-7be45242fcf0\",\"subtype\":\"Figure\",\"type\":\"Plot\"},\"source\":{\"id\":\"7cde3f03-2bf8-443d-98ae-d4d5faf2908c\",\"type\":\"ColumnDataSource\"},\"text\":{\"field\":\"names\"},\"text_color\":{\"value\":\"black\"},\"text_font\":\"Garamond\",\"text_font_style\":\"bold\",\"x\":{\"field\":\"x\"},\"x_offset\":{\"value\":-4.5},\"y\":{\"field\":\"y\"},\"y_offset\":{\"value\":-7}},\"id\":\"f6ab933f-daac-478c-95b3-51947a75cf44\",\"type\":\"LabelSet\"},{\"attributes\":{\"plot\":null,\"text\":\"Hover over points\"},\"id\":\"2305932f-d953-4e4d-aa75-51cae06e1a8b\",\"type\":\"Title\"},{\"attributes\":{\"callback\":null},\"id\":\"a50e9c89-6b09-4c75-8a88-98b88c987ae9\",\"type\":\"DataRange1d\"},{\"attributes\":{\"callback\":{\"id\":\"a030d508-4840-4d5e-8263-543ea0f2a2a5\",\"type\":\"CustomJS\"},\"renderers\":[{\"id\":\"40dc2fe1-e261-46f8-8d5c-48515215a617\",\"type\":\"GlyphRenderer\"}],\"tooltips\":null},\"id\":\"594b8b18-2521-4b4c-87c0-3268f4befac4\",\"type\":\"HoverTool\"},{\"attributes\":{\"active_drag\":\"auto\",\"active_inspect\":\"auto\",\"active_scroll\":\"auto\",\"active_tap\":\"auto\",\"tools\":[{\"id\":\"594b8b18-2521-4b4c-87c0-3268f4befac4\",\"type\":\"HoverTool\"}]},\"id\":\"e0b1436d-103e-4a29-8502-813aef8cfd80\",\"type\":\"Toolbar\"},{\"attributes\":{\"callback\":null,\"column_names\":[\"x0\",\"y0\",\"x1\",\"y1\"],\"data\":{\"x0\":[],\"x1\":[],\"y0\":[],\"y1\":[]}},\"id\":\"c2f99da7-d795-4efa-8d11-3050117683bd\",\"type\":\"ColumnDataSource\"},{\"attributes\":{},\"id\":\"7b42c363-ba64-40e8-b6ed-1414dc6a1f0a\",\"type\":\"LinearScale\"},{\"attributes\":{\"callback\":null},\"id\":\"34554a4b-8058-46af-b400-078d1b870398\",\"type\":\"DataRange1d\"},{\"attributes\":{},\"id\":\"19ed0e36-e0f9-465c-8902-c90dfd3dee16\",\"type\":\"LinearScale\"},{\"attributes\":{\"fill_alpha\":{\"value\":0.1},\"fill_color\":{\"value\":\"#1f77b4\"},\"line_alpha\":{\"value\":0.1},\"line_color\":{\"value\":\"#1f77b4\"},\"size\":{\"units\":\"screen\",\"value\":23},\"x\":{\"field\":\"x\"},\"y\":{\"field\":\"y\"}},\"id\":\"74c83ed0-6cab-4299-b866-7b18f9dae4c6\",\"type\":\"Circle\"},{\"attributes\":{\"plot\":{\"id\":\"816b5c7b-d5f4-4586-a6ee-7be45242fcf0\",\"subtype\":\"Figure\",\"type\":\"Plot\"},\"ticker\":{\"id\":\"07e7336c-85a2-4a27-be46-10b5d9eb7e38\",\"type\":\"BasicTicker\"},\"visible\":false},\"id\":\"1c631b46-4dad-4a5b-9797-0e2aa9a34ef4\",\"type\":\"Grid\"},{\"attributes\":{\"source\":{\"id\":\"f9f9bd81-22a4-425a-83e8-c002bc3ac6d5\",\"type\":\"ColumnDataSource\"}},\"id\":\"76d0829b-87a3-4be0-824a-7792f5ed2677\",\"type\":\"CDSView\"},{\"attributes\":{\"formatter\":{\"id\":\"a3b8539e-58a5-41ed-870c-dfe4b915fae8\",\"type\":\"BasicTickFormatter\"},\"plot\":{\"id\":\"816b5c7b-d5f4-4586-a6ee-7be45242fcf0\",\"subtype\":\"Figure\",\"type\":\"Plot\"},\"ticker\":{\"id\":\"07e7336c-85a2-4a27-be46-10b5d9eb7e38\",\"type\":\"BasicTicker\"},\"visible\":false},\"id\":\"47f0b1fc-2a5d-412f-9238-8017af03e4d0\",\"type\":\"LinearAxis\"},{\"attributes\":{\"callback\":null,\"column_names\":[\"xs\",\"ys\"],\"data\":{\"xs\":[[1,6],[1,6],[1,6],[1,6],[1,6],[1,6],[1,6],[1,6],[1,6],[1,6],[1,6],[1,6],[1,6],[1,6],[1,6],[1,6],[1,6],[1,6],[1,6],[1,6],[1,6],[1,6],[1,6],[1,6],[1,6],[1,6],[6,8],[6,8],[6,8],[6,8],[6,8],[6,8],[6,8],[6,8],[6,8],[6,8],[6,8],[6,8],[6,8],[6,8],[6,8],[6,8],[6,8],[6,8],[6,8],[6,8],[6,8],[6,8],[6,8],[6,8],[6,8],[6,8]],\"ys\":[[1,5],[2,11],[3,13],[4,6],[5,12],[6,7],[7,4],[8,17],[9,22],[10,26],[11,14],[12,20],[13,15],[14,23],[15,25],[16,8],[17,24],[18,21],[19,19],[20,16],[21,1],[22,9],[23,2],[24,18],[25,3],[26,10],[1,4],[2,5],[3,6],[4,7],[5,8],[6,9],[7,10],[8,11],[9,12],[10,13],[11,14],[12,15],[13,16],[14,17],[15,18],[16,19],[17,20],[18,21],[19,22],[20,23],[21,24],[22,25],[23,26],[24,1],[25,2],[26,3]]}},\"id\":\"8102a366-08f9-4240-8b55-0e80e44b102c\",\"type\":\"ColumnDataSource\"},{\"attributes\":{},\"id\":\"07e7336c-85a2-4a27-be46-10b5d9eb7e38\",\"type\":\"BasicTicker\"},{\"attributes\":{\"fill_alpha\":{\"value\":0.8},\"fill_color\":{\"value\":\"gold\"},\"line_alpha\":{\"value\":0.8},\"line_color\":{\"value\":\"gold\"},\"size\":{\"units\":\"screen\",\"value\":23},\"x\":{\"field\":\"x\"},\"y\":{\"field\":\"y\"}},\"id\":\"1cc764fc-f08b-45c7-9027-70e170dc3bc5\",\"type\":\"Circle\"},{\"attributes\":{\"args\":{\"circle\":{\"id\":\"f9f9bd81-22a4-425a-83e8-c002bc3ac6d5\",\"type\":\"ColumnDataSource\"},\"segment\":{\"id\":\"c2f99da7-d795-4efa-8d11-3050117683bd\",\"type\":\"ColumnDataSource\"}},\"code\":\"\\nvar links = {0: [30], 1: [36], 2: [38], 3: [31], 4: [37], 5: [32], 6: [29], 7: [42], 8: [47], 9: [51], 10: [39], 11: [45], 12: [40], 13: [48], 14: [50], 15: [33], 16: [49], 17: [46], 18: [44], 19: [41], 20: [26], 21: [34], 22: [27], 23: [43], 24: [28], 25: [35], 26: [20, 55], 27: [22, 56], 28: [24, 57], 29: [6, 58], 30: [0, 59], 31: [3, 60], 32: [5, 61], 33: [15, 62], 34: [21, 63], 35: [25, 64], 36: [1, 65], 37: [4, 66], 38: [2, 67], 39: [10, 68], 40: [12, 69], 41: [19, 70], 42: [7, 71], 43: [23, 72], 44: [18, 73], 45: [11, 74], 46: [17, 75], 47: [8, 76], 48: [13, 77], 49: [16, 52], 50: [14, 53], 51: [9, 54], 52: [49], 53: [50], 54: [51], 55: [26], 56: [27], 57: [28], 58: [29], 59: [30], 60: [31], 61: [32], 62: [33], 63: [34], 64: [35], 65: [36], 66: [37], 67: [38], 68: [39], 69: [40], 70: [41], 71: [42], 72: [43], 73: [44], 74: [45], 75: [46], 76: [47], 77: [48]};\\nvar data = {'x0': [], 'y0': [], 'x1': [], 'y1': []};\\nvar cdata = circle.get('data');\\nvar indices = cb_data.index['1d'].indices;\\nfor (i=0; i < indices.length; i++) {\\n    ind0 = indices[i]\\n    for (j=0; j < links[ind0].length; j++) {\\n        ind1 = links[ind0][j];\\n        data['x0'].push(cdata.x[ind0]);\\n        data['y0'].push(cdata.y[ind0]);\\n        data['x1'].push(cdata.x[ind1]);\\n        data['y1'].push(cdata.y[ind1]);\\n    }\\n}\\nsegment.set('data', data);\\n\"},\"id\":\"a030d508-4840-4d5e-8263-543ea0f2a2a5\",\"type\":\"CustomJS\"},{\"attributes\":{\"formatter\":{\"id\":\"9635d6df-0893-4aa6-b738-997cf29260b1\",\"type\":\"BasicTickFormatter\"},\"plot\":{\"id\":\"816b5c7b-d5f4-4586-a6ee-7be45242fcf0\",\"subtype\":\"Figure\",\"type\":\"Plot\"},\"ticker\":{\"id\":\"5772426f-f4a3-425d-8320-940ccd4b3f96\",\"type\":\"BasicTicker\"},\"visible\":false},\"id\":\"aabd32a3-3f98-45a5-a973-67946c3ac2cc\",\"type\":\"LinearAxis\"},{\"attributes\":{\"line_alpha\":{\"value\":0.1},\"line_color\":{\"value\":\"#1f77b4\"},\"xs\":{\"field\":\"xs\"},\"ys\":{\"field\":\"ys\"}},\"id\":\"05caf1ca-c5a2-49e8-8ef6-14233ff13124\",\"type\":\"MultiLine\"},{\"attributes\":{},\"id\":\"5772426f-f4a3-425d-8320-940ccd4b3f96\",\"type\":\"BasicTicker\"},{\"attributes\":{\"dimension\":1,\"plot\":{\"id\":\"816b5c7b-d5f4-4586-a6ee-7be45242fcf0\",\"subtype\":\"Figure\",\"type\":\"Plot\"},\"ticker\":{\"id\":\"5772426f-f4a3-425d-8320-940ccd4b3f96\",\"type\":\"BasicTicker\"},\"visible\":false},\"id\":\"9e19e6cb-9521-4e36-a51a-64c8f3bb5648\",\"type\":\"Grid\"},{\"attributes\":{\"data_source\":{\"id\":\"f9f9bd81-22a4-425a-83e8-c002bc3ac6d5\",\"type\":\"ColumnDataSource\"},\"glyph\":{\"id\":\"095b5ae3-3c5b-44c4-9446-62c6dd40e98a\",\"type\":\"Circle\"},\"hover_glyph\":{\"id\":\"1cc764fc-f08b-45c7-9027-70e170dc3bc5\",\"type\":\"Circle\"},\"muted_glyph\":null,\"nonselection_glyph\":{\"id\":\"74c83ed0-6cab-4299-b866-7b18f9dae4c6\",\"type\":\"Circle\"},\"selection_glyph\":null,\"view\":{\"id\":\"76d0829b-87a3-4be0-824a-7792f5ed2677\",\"type\":\"CDSView\"}},\"id\":\"40dc2fe1-e261-46f8-8d5c-48515215a617\",\"type\":\"GlyphRenderer\"},{\"attributes\":{\"callback\":null,\"column_names\":[\"x\",\"y\"],\"data\":{\"x\":[1,1,1,1,1,1,1,1,1,1,1,1,1,1,1,1,1,1,1,1,1,1,1,1,1,1,6,6,6,6,6,6,6,6,6,6,6,6,6,6,6,6,6,6,6,6,6,6,6,6,6,6,8,8,8,8,8,8,8,8,8,8,8,8,8,8,8,8,8,8,8,8,8,8,8,8,8,8],\"y\":[1,2,3,4,5,6,7,8,9,10,11,12,13,14,15,16,17,18,19,20,21,22,23,24,25,26,1,2,3,4,5,6,7,8,9,10,11,12,13,14,15,16,17,18,19,20,21,22,23,24,25,26,1,2,3,4,5,6,7,8,9,10,11,12,13,14,15,16,17,18,19,20,21,22,23,24,25,26]}},\"id\":\"f9f9bd81-22a4-425a-83e8-c002bc3ac6d5\",\"type\":\"ColumnDataSource\"},{\"attributes\":{\"line_alpha\":{\"value\":0.6},\"line_color\":{\"value\":\"gold\"},\"line_width\":{\"value\":3.0},\"x0\":{\"field\":\"x0\"},\"x1\":{\"field\":\"x1\"},\"y0\":{\"field\":\"y0\"},\"y1\":{\"field\":\"y1\"}},\"id\":\"8b7ca421-cd74-4229-aea7-23b299c23cc6\",\"type\":\"Segment\"},{\"attributes\":{\"line_alpha\":{\"value\":0.1},\"line_color\":{\"value\":\"#1f77b4\"},\"line_width\":{\"value\":3.0},\"x0\":{\"field\":\"x0\"},\"x1\":{\"field\":\"x1\"},\"y0\":{\"field\":\"y0\"},\"y1\":{\"field\":\"y1\"}},\"id\":\"ce109e85-f27d-4890-888b-e4c3c6094a91\",\"type\":\"Segment\"},{\"attributes\":{\"data_source\":{\"id\":\"c2f99da7-d795-4efa-8d11-3050117683bd\",\"type\":\"ColumnDataSource\"},\"glyph\":{\"id\":\"8b7ca421-cd74-4229-aea7-23b299c23cc6\",\"type\":\"Segment\"},\"hover_glyph\":null,\"muted_glyph\":null,\"nonselection_glyph\":{\"id\":\"ce109e85-f27d-4890-888b-e4c3c6094a91\",\"type\":\"Segment\"},\"selection_glyph\":null,\"view\":{\"id\":\"bd011209-b532-439d-81c4-e2ef533e9ef8\",\"type\":\"CDSView\"}},\"id\":\"cd26bb65-9fc4-46c8-b7cb-3fa8939dfe2c\",\"type\":\"GlyphRenderer\"},{\"attributes\":{\"source\":{\"id\":\"c2f99da7-d795-4efa-8d11-3050117683bd\",\"type\":\"ColumnDataSource\"}},\"id\":\"bd011209-b532-439d-81c4-e2ef533e9ef8\",\"type\":\"CDSView\"},{\"attributes\":{},\"id\":\"a3b8539e-58a5-41ed-870c-dfe4b915fae8\",\"type\":\"BasicTickFormatter\"},{\"attributes\":{},\"id\":\"9635d6df-0893-4aa6-b738-997cf29260b1\",\"type\":\"BasicTickFormatter\"},{\"attributes\":{\"fill_alpha\":{\"value\":0.4},\"fill_color\":{\"value\":\"gold\"},\"line_alpha\":{\"value\":0.4},\"line_color\":{\"value\":\"gold\"},\"size\":{\"units\":\"screen\",\"value\":23},\"x\":{\"field\":\"x\"},\"y\":{\"field\":\"y\"}},\"id\":\"095b5ae3-3c5b-44c4-9446-62c6dd40e98a\",\"type\":\"Circle\"},{\"attributes\":{\"data_source\":{\"id\":\"8102a366-08f9-4240-8b55-0e80e44b102c\",\"type\":\"ColumnDataSource\"},\"glyph\":{\"id\":\"f752b4cd-9508-4479-b152-0f98848cbb7b\",\"type\":\"MultiLine\"},\"hover_glyph\":null,\"muted_glyph\":null,\"nonselection_glyph\":{\"id\":\"05caf1ca-c5a2-49e8-8ef6-14233ff13124\",\"type\":\"MultiLine\"},\"selection_glyph\":null,\"view\":{\"id\":\"ef1e648a-7f5c-4b33-9b61-f6f583b9bc6d\",\"type\":\"CDSView\"}},\"id\":\"cbd0349c-6e6d-4d45-a93b-91a59f8a0853\",\"type\":\"GlyphRenderer\"},{\"attributes\":{\"source\":{\"id\":\"8102a366-08f9-4240-8b55-0e80e44b102c\",\"type\":\"ColumnDataSource\"}},\"id\":\"ef1e648a-7f5c-4b33-9b61-f6f583b9bc6d\",\"type\":\"CDSView\"},{\"attributes\":{\"line_alpha\":{\"value\":0.3},\"line_color\":{\"value\":\"gray\"},\"xs\":{\"field\":\"xs\"},\"ys\":{\"field\":\"ys\"}},\"id\":\"f752b4cd-9508-4479-b152-0f98848cbb7b\",\"type\":\"MultiLine\"}],\"root_ids\":[\"816b5c7b-d5f4-4586-a6ee-7be45242fcf0\"]},\"title\":\"Bokeh Application\",\"version\":\"0.12.10\"}};\n",
       "    var render_items = [{\"docid\":\"ce9a8b0e-f4da-4723-b336-ce6e95106bc0\",\"elementid\":\"d92523cf-7f93-46c9-857e-45ee640cabc2\",\"modelid\":\"816b5c7b-d5f4-4586-a6ee-7be45242fcf0\"}];\n",
       "\n",
       "    root.Bokeh.embed.embed_items(docs_json, render_items);\n",
       "  }\n",
       "\n",
       "  if (root.Bokeh !== undefined) {\n",
       "    embed_document(root);\n",
       "  } else {\n",
       "    var attempts = 0;\n",
       "    var timer = setInterval(function(root) {\n",
       "      if (root.Bokeh !== undefined) {\n",
       "        embed_document(root);\n",
       "        clearInterval(timer);\n",
       "      }\n",
       "      attempts++;\n",
       "      if (attempts > 100) {\n",
       "        console.log(\"Bokeh: ERROR: Unable to embed document because BokehJS library is missing\")\n",
       "        clearInterval(timer);\n",
       "      }\n",
       "    }, 10, root)\n",
       "  }\n",
       "})(window);"
      ],
      "application/vnd.bokehjs_exec.v0+json": ""
     },
     "metadata": {
      "application/vnd.bokehjs_exec.v0+json": {
       "id": "816b5c7b-d5f4-4586-a6ee-7be45242fcf0"
      }
     },
     "output_type": "display_data"
    }
   ],
   "source": [
    "show(p)"
   ]
  },
  {
   "cell_type": "markdown",
   "metadata": {},
   "source": [
    "## Strat 2: Shifting Alphabet\n",
    "\n",
    "Abandoned idea because while more historically accurate, the shift is not visually obvious"
   ]
  },
  {
   "cell_type": "code",
   "execution_count": 13,
   "metadata": {
    "collapsed": true
   },
   "outputs": [],
   "source": [
    "# # long string variables\n",
    "# twentysix = [1,2,3,4,5,6,7,8,9,10,11,12,\n",
    "#              13,14,15,16,17,18,19,20,21,22,23,24,25,26]\n",
    "# alphabet = ['a','b','c','d','e','f','g','h','i','j','k','l','m',\n",
    "#             'n','o','p','q','r','s','t','u','v','w','x','y','z']\n",
    "# alphabet = alphabet*2\n",
    "\n",
    "# # some points\n",
    "# x = np.array([1,6,8])\n",
    "# x = np.repeat(x,26)\n",
    "# y = twentysix*3\n",
    "# x_labels = np.array([1,6])\n",
    "# x_labels = np.repeat(x_labels,26)\n",
    "# y_labels = twentysix*2\n",
    "# x_shift = np.array([8])\n",
    "# x_shift = np.repeat(x_shift,26)\n",
    "# y_shift = twentysix"
   ]
  },
  {
   "cell_type": "code",
   "execution_count": 14,
   "metadata": {
    "collapsed": true
   },
   "outputs": [],
   "source": [
    "# # Shift Alphabet\n",
    "\n",
    "# x_labels = np.array([1,6])\n",
    "# x_labels = np.repeat(x_labels,26)\n",
    "# y_labels = twentysix*2\n",
    "# x_shift = np.array([8])\n",
    "# x_shift = np.repeat(x_shift,26)\n",
    "# y_shift = twentysix\n",
    "\n",
    "# alphabet_shift = ['b','c','d','e','f','g','h','i','j','k','l','m', \n",
    "#             'n','o','p','q','r','s','t','u','v','w','x','y','z','a']\n",
    "\n",
    "# lsource = ColumnDataSource(data=dict(x = x_labels, y = y_labels, names = alphabet))\n",
    "# labels = LabelSet(x='x', y='y', text='names', level='annotation',\n",
    "#                   x_offset=x_offset, y_offset=y_offset, source = lsource)\n",
    "# p.add_layout(labels)\n",
    "# lsource2 = ColumnDataSource(data=dict(x = x_shift, y = y_shift, names = alphabet_shift))\n",
    "# labels = LabelSet(x='x', y='y', text='names', level='annotation',\n",
    "#                   x_offset=x_offset, y_offset=y_offset, source = lsource2)\n",
    "# p.add_layout(labels)"
   ]
  },
  {
   "cell_type": "code",
   "execution_count": 15,
   "metadata": {},
   "outputs": [],
   "source": [
    "# show(p)"
   ]
  }
 ],
 "metadata": {
  "kernelspec": {
   "display_name": "Python 3",
   "language": "python",
   "name": "python3"
  },
  "language_info": {
   "codemirror_mode": {
    "name": "ipython",
    "version": 3
   },
   "file_extension": ".py",
   "mimetype": "text/x-python",
   "name": "python",
   "nbconvert_exporter": "python",
   "pygments_lexer": "ipython3",
   "version": "3.6.3"
  }
 },
 "nbformat": 4,
 "nbformat_minor": 2
}
