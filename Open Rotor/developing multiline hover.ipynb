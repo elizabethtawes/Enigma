{
 "cells": [
  {
   "cell_type": "markdown",
   "metadata": {},
   "source": [
    "## Setting up "
   ]
  },
  {
   "cell_type": "code",
   "execution_count": 1,
   "metadata": {},
   "outputs": [
    {
     "data": {
      "text/html": [
       "\n",
       "    <div class=\"bk-root\">\n",
       "        <a href=\"https://bokeh.pydata.org\" target=\"_blank\" class=\"bk-logo bk-logo-small bk-logo-notebook\"></a>\n",
       "        <span id=\"15d9e009-996f-4851-8bce-6489b28c129e\">Loading BokehJS ...</span>\n",
       "    </div>"
      ]
     },
     "metadata": {},
     "output_type": "display_data"
    },
    {
     "data": {
      "application/javascript": [
       "\n",
       "(function(root) {\n",
       "  function now() {\n",
       "    return new Date();\n",
       "  }\n",
       "\n",
       "  var force = true;\n",
       "\n",
       "  if (typeof (root._bokeh_onload_callbacks) === \"undefined\" || force === true) {\n",
       "    root._bokeh_onload_callbacks = [];\n",
       "    root._bokeh_is_loading = undefined;\n",
       "  }\n",
       "\n",
       "  var JS_MIME_TYPE = 'application/javascript';\n",
       "  var HTML_MIME_TYPE = 'text/html';\n",
       "  var EXEC_MIME_TYPE = 'application/vnd.bokehjs_exec.v0+json';\n",
       "  var CLASS_NAME = 'output_bokeh rendered_html';\n",
       "\n",
       "  /**\n",
       "   * Render data to the DOM node\n",
       "   */\n",
       "  function render(props, node) {\n",
       "    var script = document.createElement(\"script\");\n",
       "    node.appendChild(script);\n",
       "  }\n",
       "\n",
       "  /**\n",
       "   * Handle when an output is cleared or removed\n",
       "   */\n",
       "  function handleClearOutput(event, handle) {\n",
       "    var cell = handle.cell;\n",
       "\n",
       "    var id = cell.output_area._bokeh_element_id;\n",
       "    var server_id = cell.output_area._bokeh_server_id;\n",
       "    // Clean up Bokeh references\n",
       "    if (id !== undefined) {\n",
       "      Bokeh.index[id].model.document.clear();\n",
       "      delete Bokeh.index[id];\n",
       "    }\n",
       "\n",
       "    if (server_id !== undefined) {\n",
       "      // Clean up Bokeh references\n",
       "      var cmd = \"from bokeh.io.state import curstate; print(curstate().uuid_to_server['\" + server_id + \"'].get_sessions()[0].document.roots[0]._id)\";\n",
       "      cell.notebook.kernel.execute(cmd, {\n",
       "        iopub: {\n",
       "          output: function(msg) {\n",
       "            var element_id = msg.content.text.trim();\n",
       "            Bokeh.index[element_id].model.document.clear();\n",
       "            delete Bokeh.index[element_id];\n",
       "          }\n",
       "        }\n",
       "      });\n",
       "      // Destroy server and session\n",
       "      var cmd = \"import bokeh.io.notebook as ion; ion.destroy_server('\" + server_id + \"')\";\n",
       "      cell.notebook.kernel.execute(cmd);\n",
       "    }\n",
       "  }\n",
       "\n",
       "  /**\n",
       "   * Handle when a new output is added\n",
       "   */\n",
       "  function handleAddOutput(event, handle) {\n",
       "    var output_area = handle.output_area;\n",
       "    var output = handle.output;\n",
       "\n",
       "    // limit handleAddOutput to display_data with EXEC_MIME_TYPE content only\n",
       "    if ((output.output_type != \"display_data\") || (!output.data.hasOwnProperty(EXEC_MIME_TYPE))) {\n",
       "      return\n",
       "    }\n",
       "\n",
       "    var toinsert = output_area.element.find(`.${CLASS_NAME.split(' ')[0]}`);\n",
       "\n",
       "    if (output.metadata[EXEC_MIME_TYPE][\"id\"] !== undefined) {\n",
       "      toinsert[0].firstChild.textContent = output.data[JS_MIME_TYPE];\n",
       "      // store reference to embed id on output_area\n",
       "      output_area._bokeh_element_id = output.metadata[EXEC_MIME_TYPE][\"id\"];\n",
       "    }\n",
       "    if (output.metadata[EXEC_MIME_TYPE][\"server_id\"] !== undefined) {\n",
       "      var bk_div = document.createElement(\"div\");\n",
       "      bk_div.innerHTML = output.data[HTML_MIME_TYPE];\n",
       "      var script_attrs = bk_div.children[0].attributes;\n",
       "      for (var i = 0; i < script_attrs.length; i++) {\n",
       "        toinsert[0].firstChild.setAttribute(script_attrs[i].name, script_attrs[i].value);\n",
       "      }\n",
       "      // store reference to server id on output_area\n",
       "      output_area._bokeh_server_id = output.metadata[EXEC_MIME_TYPE][\"server_id\"];\n",
       "    }\n",
       "  }\n",
       "\n",
       "  function register_renderer(events, OutputArea) {\n",
       "\n",
       "    function append_mime(data, metadata, element) {\n",
       "      // create a DOM node to render to\n",
       "      var toinsert = this.create_output_subarea(\n",
       "        metadata,\n",
       "        CLASS_NAME,\n",
       "        EXEC_MIME_TYPE\n",
       "      );\n",
       "      this.keyboard_manager.register_events(toinsert);\n",
       "      // Render to node\n",
       "      var props = {data: data, metadata: metadata[EXEC_MIME_TYPE]};\n",
       "      render(props, toinsert[0]);\n",
       "      element.append(toinsert);\n",
       "      return toinsert\n",
       "    }\n",
       "\n",
       "    /* Handle when an output is cleared or removed */\n",
       "    events.on('clear_output.CodeCell', handleClearOutput);\n",
       "    events.on('delete.Cell', handleClearOutput);\n",
       "\n",
       "    /* Handle when a new output is added */\n",
       "    events.on('output_added.OutputArea', handleAddOutput);\n",
       "\n",
       "    /**\n",
       "     * Register the mime type and append_mime function with output_area\n",
       "     */\n",
       "    OutputArea.prototype.register_mime_type(EXEC_MIME_TYPE, append_mime, {\n",
       "      /* Is output safe? */\n",
       "      safe: true,\n",
       "      /* Index of renderer in `output_area.display_order` */\n",
       "      index: 0\n",
       "    });\n",
       "  }\n",
       "\n",
       "  // register the mime type if in Jupyter Notebook environment and previously unregistered\n",
       "  if (root.Jupyter !== undefined) {\n",
       "    var events = require('base/js/events');\n",
       "    var OutputArea = require('notebook/js/outputarea').OutputArea;\n",
       "\n",
       "    if (OutputArea.prototype.mime_types().indexOf(EXEC_MIME_TYPE) == -1) {\n",
       "      register_renderer(events, OutputArea);\n",
       "    }\n",
       "  }\n",
       "\n",
       "  \n",
       "  if (typeof (root._bokeh_timeout) === \"undefined\" || force === true) {\n",
       "    root._bokeh_timeout = Date.now() + 5000;\n",
       "    root._bokeh_failed_load = false;\n",
       "  }\n",
       "\n",
       "  var NB_LOAD_WARNING = {'data': {'text/html':\n",
       "     \"<div style='background-color: #fdd'>\\n\"+\n",
       "     \"<p>\\n\"+\n",
       "     \"BokehJS does not appear to have successfully loaded. If loading BokehJS from CDN, this \\n\"+\n",
       "     \"may be due to a slow or bad network connection. Possible fixes:\\n\"+\n",
       "     \"</p>\\n\"+\n",
       "     \"<ul>\\n\"+\n",
       "     \"<li>re-rerun `output_notebook()` to attempt to load from CDN again, or</li>\\n\"+\n",
       "     \"<li>use INLINE resources instead, as so:</li>\\n\"+\n",
       "     \"</ul>\\n\"+\n",
       "     \"<code>\\n\"+\n",
       "     \"from bokeh.resources import INLINE\\n\"+\n",
       "     \"output_notebook(resources=INLINE)\\n\"+\n",
       "     \"</code>\\n\"+\n",
       "     \"</div>\"}};\n",
       "\n",
       "  function display_loaded() {\n",
       "    var el = document.getElementById(\"15d9e009-996f-4851-8bce-6489b28c129e\");\n",
       "    if (el != null) {\n",
       "      el.textContent = \"BokehJS is loading...\";\n",
       "    }\n",
       "    if (root.Bokeh !== undefined) {\n",
       "      if (el != null) {\n",
       "        el.textContent = \"BokehJS \" + root.Bokeh.version + \" successfully loaded.\";\n",
       "      }\n",
       "    } else if (Date.now() < root._bokeh_timeout) {\n",
       "      setTimeout(display_loaded, 100)\n",
       "    }\n",
       "  }\n",
       "\n",
       "\n",
       "  function run_callbacks() {\n",
       "    try {\n",
       "      root._bokeh_onload_callbacks.forEach(function(callback) { callback() });\n",
       "    }\n",
       "    finally {\n",
       "      delete root._bokeh_onload_callbacks\n",
       "    }\n",
       "    console.info(\"Bokeh: all callbacks have finished\");\n",
       "  }\n",
       "\n",
       "  function load_libs(js_urls, callback) {\n",
       "    root._bokeh_onload_callbacks.push(callback);\n",
       "    if (root._bokeh_is_loading > 0) {\n",
       "      console.log(\"Bokeh: BokehJS is being loaded, scheduling callback at\", now());\n",
       "      return null;\n",
       "    }\n",
       "    if (js_urls == null || js_urls.length === 0) {\n",
       "      run_callbacks();\n",
       "      return null;\n",
       "    }\n",
       "    console.log(\"Bokeh: BokehJS not loaded, scheduling load and callback at\", now());\n",
       "    root._bokeh_is_loading = js_urls.length;\n",
       "    for (var i = 0; i < js_urls.length; i++) {\n",
       "      var url = js_urls[i];\n",
       "      var s = document.createElement('script');\n",
       "      s.src = url;\n",
       "      s.async = false;\n",
       "      s.onreadystatechange = s.onload = function() {\n",
       "        root._bokeh_is_loading--;\n",
       "        if (root._bokeh_is_loading === 0) {\n",
       "          console.log(\"Bokeh: all BokehJS libraries loaded\");\n",
       "          run_callbacks()\n",
       "        }\n",
       "      };\n",
       "      s.onerror = function() {\n",
       "        console.warn(\"failed to load library \" + url);\n",
       "      };\n",
       "      console.log(\"Bokeh: injecting script tag for BokehJS library: \", url);\n",
       "      document.getElementsByTagName(\"head\")[0].appendChild(s);\n",
       "    }\n",
       "  };var element = document.getElementById(\"15d9e009-996f-4851-8bce-6489b28c129e\");\n",
       "  if (element == null) {\n",
       "    console.log(\"Bokeh: ERROR: autoload.js configured with elementid '15d9e009-996f-4851-8bce-6489b28c129e' but no matching script tag was found. \")\n",
       "    return false;\n",
       "  }\n",
       "\n",
       "  var js_urls = [\"https://cdn.pydata.org/bokeh/release/bokeh-0.12.10.min.js\", \"https://cdn.pydata.org/bokeh/release/bokeh-widgets-0.12.10.min.js\", \"https://cdn.pydata.org/bokeh/release/bokeh-tables-0.12.10.min.js\", \"https://cdn.pydata.org/bokeh/release/bokeh-gl-0.12.10.min.js\"];\n",
       "\n",
       "  var inline_js = [\n",
       "    function(Bokeh) {\n",
       "      Bokeh.set_log_level(\"info\");\n",
       "    },\n",
       "    \n",
       "    function(Bokeh) {\n",
       "      \n",
       "    },\n",
       "    function(Bokeh) {\n",
       "      console.log(\"Bokeh: injecting CSS: https://cdn.pydata.org/bokeh/release/bokeh-0.12.10.min.css\");\n",
       "      Bokeh.embed.inject_css(\"https://cdn.pydata.org/bokeh/release/bokeh-0.12.10.min.css\");\n",
       "      console.log(\"Bokeh: injecting CSS: https://cdn.pydata.org/bokeh/release/bokeh-widgets-0.12.10.min.css\");\n",
       "      Bokeh.embed.inject_css(\"https://cdn.pydata.org/bokeh/release/bokeh-widgets-0.12.10.min.css\");\n",
       "      console.log(\"Bokeh: injecting CSS: https://cdn.pydata.org/bokeh/release/bokeh-tables-0.12.10.min.css\");\n",
       "      Bokeh.embed.inject_css(\"https://cdn.pydata.org/bokeh/release/bokeh-tables-0.12.10.min.css\");\n",
       "    }\n",
       "  ];\n",
       "\n",
       "  function run_inline_js() {\n",
       "    \n",
       "    if ((root.Bokeh !== undefined) || (force === true)) {\n",
       "      for (var i = 0; i < inline_js.length; i++) {\n",
       "        inline_js[i].call(root, root.Bokeh);\n",
       "      }if (force === true) {\n",
       "        display_loaded();\n",
       "      }} else if (Date.now() < root._bokeh_timeout) {\n",
       "      setTimeout(run_inline_js, 100);\n",
       "    } else if (!root._bokeh_failed_load) {\n",
       "      console.log(\"Bokeh: BokehJS failed to load within specified timeout.\");\n",
       "      root._bokeh_failed_load = true;\n",
       "    } else if (force !== true) {\n",
       "      var cell = $(document.getElementById(\"15d9e009-996f-4851-8bce-6489b28c129e\")).parents('.cell').data().cell;\n",
       "      cell.output_area.append_execute_result(NB_LOAD_WARNING)\n",
       "    }\n",
       "\n",
       "  }\n",
       "\n",
       "  if (root._bokeh_is_loading === 0) {\n",
       "    console.log(\"Bokeh: BokehJS loaded, going straight to plotting\");\n",
       "    run_inline_js();\n",
       "  } else {\n",
       "    load_libs(js_urls, function() {\n",
       "      console.log(\"Bokeh: BokehJS plotting callback run at\", now());\n",
       "      run_inline_js();\n",
       "    });\n",
       "  }\n",
       "}(window));"
      ],
      "application/vnd.bokehjs_load.v0+json": "\n(function(root) {\n  function now() {\n    return new Date();\n  }\n\n  var force = true;\n\n  if (typeof (root._bokeh_onload_callbacks) === \"undefined\" || force === true) {\n    root._bokeh_onload_callbacks = [];\n    root._bokeh_is_loading = undefined;\n  }\n\n  \n\n  \n  if (typeof (root._bokeh_timeout) === \"undefined\" || force === true) {\n    root._bokeh_timeout = Date.now() + 5000;\n    root._bokeh_failed_load = false;\n  }\n\n  var NB_LOAD_WARNING = {'data': {'text/html':\n     \"<div style='background-color: #fdd'>\\n\"+\n     \"<p>\\n\"+\n     \"BokehJS does not appear to have successfully loaded. If loading BokehJS from CDN, this \\n\"+\n     \"may be due to a slow or bad network connection. Possible fixes:\\n\"+\n     \"</p>\\n\"+\n     \"<ul>\\n\"+\n     \"<li>re-rerun `output_notebook()` to attempt to load from CDN again, or</li>\\n\"+\n     \"<li>use INLINE resources instead, as so:</li>\\n\"+\n     \"</ul>\\n\"+\n     \"<code>\\n\"+\n     \"from bokeh.resources import INLINE\\n\"+\n     \"output_notebook(resources=INLINE)\\n\"+\n     \"</code>\\n\"+\n     \"</div>\"}};\n\n  function display_loaded() {\n    var el = document.getElementById(\"15d9e009-996f-4851-8bce-6489b28c129e\");\n    if (el != null) {\n      el.textContent = \"BokehJS is loading...\";\n    }\n    if (root.Bokeh !== undefined) {\n      if (el != null) {\n        el.textContent = \"BokehJS \" + root.Bokeh.version + \" successfully loaded.\";\n      }\n    } else if (Date.now() < root._bokeh_timeout) {\n      setTimeout(display_loaded, 100)\n    }\n  }\n\n\n  function run_callbacks() {\n    try {\n      root._bokeh_onload_callbacks.forEach(function(callback) { callback() });\n    }\n    finally {\n      delete root._bokeh_onload_callbacks\n    }\n    console.info(\"Bokeh: all callbacks have finished\");\n  }\n\n  function load_libs(js_urls, callback) {\n    root._bokeh_onload_callbacks.push(callback);\n    if (root._bokeh_is_loading > 0) {\n      console.log(\"Bokeh: BokehJS is being loaded, scheduling callback at\", now());\n      return null;\n    }\n    if (js_urls == null || js_urls.length === 0) {\n      run_callbacks();\n      return null;\n    }\n    console.log(\"Bokeh: BokehJS not loaded, scheduling load and callback at\", now());\n    root._bokeh_is_loading = js_urls.length;\n    for (var i = 0; i < js_urls.length; i++) {\n      var url = js_urls[i];\n      var s = document.createElement('script');\n      s.src = url;\n      s.async = false;\n      s.onreadystatechange = s.onload = function() {\n        root._bokeh_is_loading--;\n        if (root._bokeh_is_loading === 0) {\n          console.log(\"Bokeh: all BokehJS libraries loaded\");\n          run_callbacks()\n        }\n      };\n      s.onerror = function() {\n        console.warn(\"failed to load library \" + url);\n      };\n      console.log(\"Bokeh: injecting script tag for BokehJS library: \", url);\n      document.getElementsByTagName(\"head\")[0].appendChild(s);\n    }\n  };var element = document.getElementById(\"15d9e009-996f-4851-8bce-6489b28c129e\");\n  if (element == null) {\n    console.log(\"Bokeh: ERROR: autoload.js configured with elementid '15d9e009-996f-4851-8bce-6489b28c129e' but no matching script tag was found. \")\n    return false;\n  }\n\n  var js_urls = [\"https://cdn.pydata.org/bokeh/release/bokeh-0.12.10.min.js\", \"https://cdn.pydata.org/bokeh/release/bokeh-widgets-0.12.10.min.js\", \"https://cdn.pydata.org/bokeh/release/bokeh-tables-0.12.10.min.js\", \"https://cdn.pydata.org/bokeh/release/bokeh-gl-0.12.10.min.js\"];\n\n  var inline_js = [\n    function(Bokeh) {\n      Bokeh.set_log_level(\"info\");\n    },\n    \n    function(Bokeh) {\n      \n    },\n    function(Bokeh) {\n      console.log(\"Bokeh: injecting CSS: https://cdn.pydata.org/bokeh/release/bokeh-0.12.10.min.css\");\n      Bokeh.embed.inject_css(\"https://cdn.pydata.org/bokeh/release/bokeh-0.12.10.min.css\");\n      console.log(\"Bokeh: injecting CSS: https://cdn.pydata.org/bokeh/release/bokeh-widgets-0.12.10.min.css\");\n      Bokeh.embed.inject_css(\"https://cdn.pydata.org/bokeh/release/bokeh-widgets-0.12.10.min.css\");\n      console.log(\"Bokeh: injecting CSS: https://cdn.pydata.org/bokeh/release/bokeh-tables-0.12.10.min.css\");\n      Bokeh.embed.inject_css(\"https://cdn.pydata.org/bokeh/release/bokeh-tables-0.12.10.min.css\");\n    }\n  ];\n\n  function run_inline_js() {\n    \n    if ((root.Bokeh !== undefined) || (force === true)) {\n      for (var i = 0; i < inline_js.length; i++) {\n        inline_js[i].call(root, root.Bokeh);\n      }if (force === true) {\n        display_loaded();\n      }} else if (Date.now() < root._bokeh_timeout) {\n      setTimeout(run_inline_js, 100);\n    } else if (!root._bokeh_failed_load) {\n      console.log(\"Bokeh: BokehJS failed to load within specified timeout.\");\n      root._bokeh_failed_load = true;\n    } else if (force !== true) {\n      var cell = $(document.getElementById(\"15d9e009-996f-4851-8bce-6489b28c129e\")).parents('.cell').data().cell;\n      cell.output_area.append_execute_result(NB_LOAD_WARNING)\n    }\n\n  }\n\n  if (root._bokeh_is_loading === 0) {\n    console.log(\"Bokeh: BokehJS loaded, going straight to plotting\");\n    run_inline_js();\n  } else {\n    load_libs(js_urls, function() {\n      console.log(\"Bokeh: BokehJS plotting callback run at\", now());\n      run_inline_js();\n    });\n  }\n}(window));"
     },
     "metadata": {},
     "output_type": "display_data"
    }
   ],
   "source": [
    "from bokeh.plotting import figure, output_notebook, show\n",
    "from bokeh.models import ColumnDataSource, HoverTool, CustomJS, LabelSet\n",
    "import numpy as np\n",
    "\n",
    "output_notebook()"
   ]
  },
  {
   "cell_type": "markdown",
   "metadata": {},
   "source": [
    "## Defining Variables and Functions"
   ]
  },
  {
   "cell_type": "code",
   "execution_count": 2,
   "metadata": {
    "collapsed": true
   },
   "outputs": [],
   "source": [
    "# long string variables\n",
    "twentysix = [1,2,3,4,5,6,7,8,9,10,11,12,\n",
    "             13,14,15,16,17,18,19,20,21,22,23,24,25,26]\n",
    "alphabet = ['a','b','c','d','e','f','g','h','i','j','k','l','m',\n",
    "            'n','o','p','q','r','s','t','u','v','w','x','y','z']\n",
    "alphabet = alphabet*3\n",
    "\n",
    "# rotor shift\n",
    "shift = 10\n",
    "\n",
    "# aesthetic variables\n",
    "x_offset = -4.5    # letter annotation offset from circle edge\n",
    "y_offset = -7    # letter annotation offset from circle edge\n",
    "\n",
    "seg_color = 'gold'    # segment color\n",
    "line_width = 3.0    # segment line width\n",
    "seg_alpha = 0.6    # segment alpha\n",
    "\n",
    "circ_color = 'gold'    # circle color\n",
    "circ_size = 23    # circle size\n",
    "circ_alpha = 0.4    # circle alpha\n",
    "hov_color = 'gold'    # hover color for circles\n",
    "hov_alpha = 0.8    # hover alpha for circles\n",
    "\n",
    "font = 'Garamond'\n",
    "\n",
    "\n",
    "# some points\n",
    "x = np.array([1,6,8])\n",
    "x = np.repeat(x,26)\n",
    "y = twentysix*3"
   ]
  },
  {
   "cell_type": "code",
   "execution_count": 3,
   "metadata": {
    "collapsed": true
   },
   "outputs": [],
   "source": [
    "# shifting functions\n",
    "\n",
    "def shift_yvals(yvals, shift):\n",
    "    for pair in yvals:\n",
    "        pair[1] += shift\n",
    "        if pair[1] > 26:\n",
    "            pair[1] += (-26)\n",
    "    return yvals\n",
    "\n",
    "def shift_links(links,shift):\n",
    "    for item in links:\n",
    "        if item > 51:\n",
    "            links[item][0] += (- shift)\n",
    "            if links[item][0] < 26:\n",
    "                links[item][0] += 26\n",
    "        if item > 25 and item < 52:\n",
    "            links[item][1] += shift\n",
    "            if links[item][1] > 77:\n",
    "                links[item][1] += (- 26)\n",
    "    return(links)"
   ]
  },
  {
   "cell_type": "markdown",
   "metadata": {},
   "source": [
    "## Creating X and Y values for paths"
   ]
  },
  {
   "cell_type": "code",
   "execution_count": 4,
   "metadata": {
    "collapsed": true
   },
   "outputs": [],
   "source": [
    "# X values\n",
    "xval1 = [[1,6]]*26\n",
    "xval2 = [[6,8]]*26\n",
    "xvals = xval1+xval2"
   ]
  },
  {
   "cell_type": "code",
   "execution_count": 5,
   "metadata": {
    "collapsed": true
   },
   "outputs": [],
   "source": [
    "# Y values\n",
    "# rotor 1\n",
    "yvals_inner = [[1,5],[2,11],[3,13],[4,6],[5,12],[6,7],[7,4],[8,17],\n",
    "    [9,22], [10,26],[11,14],[12,20],[13,15],[14,23],[15,25],[16,8],\n",
    "    [17,24],[18,21],[19,19],[20,16],[21,1],[22,9],[23,2],[24,18],\n",
    "    [25,3],[26,10]]\n",
    "yvals_outer = [[1,1],[2,2],[3,3],[4,4],[5,5],[6,6],[7,7],[8,8],\n",
    "    [9,9],[10,10],[11,11],[12,12],[13,13],[14,14],[15,15],[16,16],\n",
    "    [17,17],[18,18],[19,19],[20,20],[21,21],[22,22],[23,23],[24,24],\n",
    "    [25,25],[26,26]]\n",
    "\n",
    "# yvals_outer = shift_yvals(yvals_outer, shift)\n",
    "yvals = yvals_inner + yvals_outer"
   ]
  },
  {
   "cell_type": "markdown",
   "metadata": {},
   "source": [
    "# Rotor Links - Rotor 1"
   ]
  },
  {
   "cell_type": "code",
   "execution_count": 6,
   "metadata": {
    "collapsed": true
   },
   "outputs": [],
   "source": [
    "# establish links\n",
    "links = {\n",
    "    0:[30,52],      1:[36,53],     2:[38,54],     3:[31,55],      4:[37,56],    5:[32,57],     6:[29,58],     \n",
    "    7:[42,59],      8:[47,60],     9:[51,61],    10:[39,62],     11:[45,63],   12:[40,64],    13:[48,65],    \n",
    "   14:[50,66],     15:[33,67],    16:[49,68],    17:[46,69],     18:[44,70],   19:[41,71],    20:[26,72],    \n",
    "   21:[34,73],     22:[27,74],    23:[43,75],    24:[28,76],     25:[35,77],\n",
    "        \n",
    "    26:[20,52],    27:[22,53],    28:[24,54],    29:[6,55],     30:[0,56],     31:[3,57],     32:[5,58],     \n",
    "    33:[15,59],    34:[21,60],    35:[25,61],    36:[1,62],     37:[4,63],     38:[2,64],     39:[10,65],\n",
    "    40:[12,66],    41:[19,67],    42:[7,68],     43:[23,69],    44:[18,70],    45:[11,71],    46:[17,72],\n",
    "    47:[8,73],     48:[13,74],    49:[16,75],    50:[14,76],    51:[9,77],\n",
    "    \n",
    "    52:[26],    53:[27],    54:[28],    55:[29],    56:[30],    57:[31],    58:[32],    59:[33],    60:[34], \n",
    "    61:[35],    62:[36],    63:[37],    64:[38],    65:[39],    66:[40],    67:[41],    68:[42],    69:[43],\n",
    "    70:[44],    71:[45],    72:[46],    73:[47],    74:[48],    75:[49],    76:[50],    77:[51]\n",
    "}\n",
    "\n",
    "# links = shift_links(links,shift)"
   ]
  },
  {
   "cell_type": "markdown",
   "metadata": {},
   "source": [
    "## Create Graph and Add Features"
   ]
  },
  {
   "cell_type": "code",
   "execution_count": 7,
   "metadata": {
    "collapsed": true
   },
   "outputs": [],
   "source": [
    "# create graph\n",
    "p = figure(width=400, height=800, tools=\"\",\n",
    "           toolbar_location=None,title='Hover over points')\n",
    "\n",
    "# add letter labels\n",
    "lsource = ColumnDataSource(data=dict(x = x, y = y, names = alphabet))\n",
    "labels = LabelSet(x='x', y='y', text='names', level='annotation',\n",
    "                  x_offset=x_offset, y_offset=y_offset, source=lsource,\n",
    "                  render_mode='canvas', text_font=font, \n",
    "                  text_color='black', text_font_style='bold')\n",
    "p.add_layout(labels)\n",
    "\n",
    "# add hover glyphs\n",
    "source = ColumnDataSource({'x0': [], 'y0': [], 'x1': [], 'y1':[]})\n",
    "sr = p.segment(x0='x0',y0='y0',x1='x1', y1='y1', color=seg_color, \n",
    "               alpha=seg_alpha, line_width=line_width, source=source,)\n",
    "cr = p.circle(x, y, color=circ_color, size=circ_size, alpha=circ_alpha, \n",
    "              hover_color=hov_color, hover_alpha=hov_alpha)\n",
    "\n",
    "# add path glyphs\n",
    "p.multi_line(xvals,yvals,color='gray',alpha=0.3)\n",
    "\n",
    "# remove gridlines and axis labels\n",
    "p.xgrid.visible = False\n",
    "p.ygrid.visible = False\n",
    "p.axis.visible = False\n",
    "\n",
    "# JS for hover tool\n",
    "code = \"\"\"\n",
    "var links = %s;\n",
    "var data = {'x0': [], 'y0': [], 'x1': [], 'y1': []};\n",
    "var cdata = circle.get('data');\n",
    "var indices = cb_data.index['1d'].indices;\n",
    "for (i=0; i < indices.length; i++) {\n",
    "    ind0 = indices[i]\n",
    "    for (j=0; j < links[ind0].length; j++) {\n",
    "        ind1 = links[ind0][j];\n",
    "        data['x0'].push(cdata.x[ind0]);\n",
    "        data['y0'].push(cdata.y[ind0]);\n",
    "        data['x1'].push(cdata.x[ind1]);\n",
    "        data['y1'].push(cdata.y[ind1]);\n",
    "    }\n",
    "}\n",
    "segment.set('data', data);\n",
    "\"\"\" % links\n",
    "\n",
    "# Call JS and Add HoverTool\n",
    "callback = CustomJS(args={'circle':cr.data_source, \n",
    "                          'segment':sr.data_source}, code=code)\n",
    "p.add_tools(HoverTool(tooltips=None,callback=callback,renderers=[cr]))"
   ]
  },
  {
   "cell_type": "markdown",
   "metadata": {},
   "source": [
    "# Display Graph"
   ]
  },
  {
   "cell_type": "code",
   "execution_count": 8,
   "metadata": {
    "scrolled": false
   },
   "outputs": [
    {
     "data": {
      "text/html": [
       "\n",
       "<div class=\"bk-root\">\n",
       "    <div class=\"bk-plotdiv\" id=\"fc0777a3-a07d-4d60-a3c7-1c68f9f920be\"></div>\n",
       "</div>"
      ]
     },
     "metadata": {},
     "output_type": "display_data"
    },
    {
     "data": {
      "application/javascript": [
       "(function(root) {\n",
       "  function embed_document(root) {\n",
       "    var docs_json = {\"3806610b-3c22-48ab-b935-271c8ec95679\":{\"roots\":{\"references\":[{\"attributes\":{\"plot\":{\"id\":\"1382a30c-bc74-42da-9c69-7c27cb567b6b\",\"subtype\":\"Figure\",\"type\":\"Plot\"},\"ticker\":{\"id\":\"89922ef4-e634-45b5-9814-baddaf35b100\",\"type\":\"BasicTicker\"},\"visible\":false},\"id\":\"ea6f8534-34d4-46ef-869d-c978befa262e\",\"type\":\"Grid\"},{\"attributes\":{\"formatter\":{\"id\":\"577103ba-44b1-4ebb-99e7-326847c49963\",\"type\":\"BasicTickFormatter\"},\"plot\":{\"id\":\"1382a30c-bc74-42da-9c69-7c27cb567b6b\",\"subtype\":\"Figure\",\"type\":\"Plot\"},\"ticker\":{\"id\":\"b9facbeb-6f64-4fc0-ad09-76b504ef94fb\",\"type\":\"BasicTicker\"},\"visible\":false},\"id\":\"f2640a75-5e86-4c22-839d-85438a445efe\",\"type\":\"LinearAxis\"},{\"attributes\":{},\"id\":\"b9facbeb-6f64-4fc0-ad09-76b504ef94fb\",\"type\":\"BasicTicker\"},{\"attributes\":{\"dimension\":1,\"plot\":{\"id\":\"1382a30c-bc74-42da-9c69-7c27cb567b6b\",\"subtype\":\"Figure\",\"type\":\"Plot\"},\"ticker\":{\"id\":\"b9facbeb-6f64-4fc0-ad09-76b504ef94fb\",\"type\":\"BasicTicker\"},\"visible\":false},\"id\":\"cebde8bb-6476-449a-ac16-c2a3d38e1cb1\",\"type\":\"Grid\"},{\"attributes\":{\"line_alpha\":{\"value\":0.1},\"line_color\":{\"value\":\"#1f77b4\"},\"line_width\":{\"value\":3.0},\"x0\":{\"field\":\"x0\"},\"x1\":{\"field\":\"x1\"},\"y0\":{\"field\":\"y0\"},\"y1\":{\"field\":\"y1\"}},\"id\":\"212398b6-0d2d-494e-873e-84bca95178ae\",\"type\":\"Segment\"},{\"attributes\":{\"callback\":null,\"column_names\":[\"x0\",\"y0\",\"x1\",\"y1\"],\"data\":{\"x0\":[],\"x1\":[],\"y0\":[],\"y1\":[]}},\"id\":\"5f370bb7-63ab-4f3a-976c-cc4eb566ce20\",\"type\":\"ColumnDataSource\"},{\"attributes\":{\"data_source\":{\"id\":\"5f370bb7-63ab-4f3a-976c-cc4eb566ce20\",\"type\":\"ColumnDataSource\"},\"glyph\":{\"id\":\"2767c8f7-f6ce-4f4d-ae89-bc0d3469e070\",\"type\":\"Segment\"},\"hover_glyph\":null,\"muted_glyph\":null,\"nonselection_glyph\":{\"id\":\"212398b6-0d2d-494e-873e-84bca95178ae\",\"type\":\"Segment\"},\"selection_glyph\":null,\"view\":{\"id\":\"6f769c43-5adf-4a25-a232-88c2a61b7d05\",\"type\":\"CDSView\"}},\"id\":\"2b268d31-77ec-412c-b462-2f946dbf4afd\",\"type\":\"GlyphRenderer\"},{\"attributes\":{\"args\":{\"circle\":{\"id\":\"83b7699f-ab10-42fd-a351-cae8522a2dd8\",\"type\":\"ColumnDataSource\"},\"segment\":{\"id\":\"5f370bb7-63ab-4f3a-976c-cc4eb566ce20\",\"type\":\"ColumnDataSource\"}},\"code\":\"\\nvar links = {0: [30, 52], 1: [36, 53], 2: [38, 54], 3: [31, 55], 4: [37, 56], 5: [32, 57], 6: [29, 58], 7: [42, 59], 8: [47, 60], 9: [51, 61], 10: [39, 62], 11: [45, 63], 12: [40, 64], 13: [48, 65], 14: [50, 66], 15: [33, 67], 16: [49, 68], 17: [46, 69], 18: [44, 70], 19: [41, 71], 20: [26, 72], 21: [34, 73], 22: [27, 74], 23: [43, 75], 24: [28, 76], 25: [35, 77], 26: [20, 52], 27: [22, 53], 28: [24, 54], 29: [6, 55], 30: [0, 56], 31: [3, 57], 32: [5, 58], 33: [15, 59], 34: [21, 60], 35: [25, 61], 36: [1, 62], 37: [4, 63], 38: [2, 64], 39: [10, 65], 40: [12, 66], 41: [19, 67], 42: [7, 68], 43: [23, 69], 44: [18, 70], 45: [11, 71], 46: [17, 72], 47: [8, 73], 48: [13, 74], 49: [16, 75], 50: [14, 76], 51: [9, 77], 52: [26], 53: [27], 54: [28], 55: [29], 56: [30], 57: [31], 58: [32], 59: [33], 60: [34], 61: [35], 62: [36], 63: [37], 64: [38], 65: [39], 66: [40], 67: [41], 68: [42], 69: [43], 70: [44], 71: [45], 72: [46], 73: [47], 74: [48], 75: [49], 76: [50], 77: [51]};\\nvar data = {'x0': [], 'y0': [], 'x1': [], 'y1': []};\\nvar cdata = circle.get('data');\\nvar indices = cb_data.index['1d'].indices;\\nfor (i=0; i < indices.length; i++) {\\n    ind0 = indices[i]\\n    for (j=0; j < links[ind0].length; j++) {\\n        ind1 = links[ind0][j];\\n        data['x0'].push(cdata.x[ind0]);\\n        data['y0'].push(cdata.y[ind0]);\\n        data['x1'].push(cdata.x[ind1]);\\n        data['y1'].push(cdata.y[ind1]);\\n    }\\n}\\nsegment.set('data', data);\\n\"},\"id\":\"1f2c7539-3440-4a7d-bc66-d4f7c9e5fe61\",\"type\":\"CustomJS\"},{\"attributes\":{},\"id\":\"577103ba-44b1-4ebb-99e7-326847c49963\",\"type\":\"BasicTickFormatter\"},{\"attributes\":{\"fill_alpha\":{\"value\":0.4},\"fill_color\":{\"value\":\"gold\"},\"line_alpha\":{\"value\":0.4},\"line_color\":{\"value\":\"gold\"},\"size\":{\"units\":\"screen\",\"value\":23},\"x\":{\"field\":\"x\"},\"y\":{\"field\":\"y\"}},\"id\":\"22fa7594-7af0-4821-9994-8be24c5a7cc9\",\"type\":\"Circle\"},{\"attributes\":{\"data_source\":{\"id\":\"83b7699f-ab10-42fd-a351-cae8522a2dd8\",\"type\":\"ColumnDataSource\"},\"glyph\":{\"id\":\"22fa7594-7af0-4821-9994-8be24c5a7cc9\",\"type\":\"Circle\"},\"hover_glyph\":{\"id\":\"2a058e4b-3b15-4185-a248-b179ad2576c9\",\"type\":\"Circle\"},\"muted_glyph\":null,\"nonselection_glyph\":{\"id\":\"fd1bcc42-36c8-47c6-8c72-a03babac4a3d\",\"type\":\"Circle\"},\"selection_glyph\":null,\"view\":{\"id\":\"4cd3c589-fe8b-4ebe-acc2-25bd257dea76\",\"type\":\"CDSView\"}},\"id\":\"9a931303-446e-40fa-a27a-3ce35b73aeeb\",\"type\":\"GlyphRenderer\"},{\"attributes\":{\"fill_alpha\":{\"value\":0.8},\"fill_color\":{\"value\":\"gold\"},\"line_alpha\":{\"value\":0.8},\"line_color\":{\"value\":\"gold\"},\"size\":{\"units\":\"screen\",\"value\":23},\"x\":{\"field\":\"x\"},\"y\":{\"field\":\"y\"}},\"id\":\"2a058e4b-3b15-4185-a248-b179ad2576c9\",\"type\":\"Circle\"},{\"attributes\":{\"fill_alpha\":{\"value\":0.1},\"fill_color\":{\"value\":\"#1f77b4\"},\"line_alpha\":{\"value\":0.1},\"line_color\":{\"value\":\"#1f77b4\"},\"size\":{\"units\":\"screen\",\"value\":23},\"x\":{\"field\":\"x\"},\"y\":{\"field\":\"y\"}},\"id\":\"fd1bcc42-36c8-47c6-8c72-a03babac4a3d\",\"type\":\"Circle\"},{\"attributes\":{\"source\":{\"id\":\"5f370bb7-63ab-4f3a-976c-cc4eb566ce20\",\"type\":\"ColumnDataSource\"}},\"id\":\"6f769c43-5adf-4a25-a232-88c2a61b7d05\",\"type\":\"CDSView\"},{\"attributes\":{\"source\":{\"id\":\"83b7699f-ab10-42fd-a351-cae8522a2dd8\",\"type\":\"ColumnDataSource\"}},\"id\":\"4cd3c589-fe8b-4ebe-acc2-25bd257dea76\",\"type\":\"CDSView\"},{\"attributes\":{\"data_source\":{\"id\":\"04795bd6-5757-479c-bb69-1ce1f00e82e3\",\"type\":\"ColumnDataSource\"},\"glyph\":{\"id\":\"181e2a9c-556a-4efe-9e3c-f8aad19c720e\",\"type\":\"MultiLine\"},\"hover_glyph\":null,\"muted_glyph\":null,\"nonselection_glyph\":{\"id\":\"135a1828-dcc5-4063-babe-f6042381ffc1\",\"type\":\"MultiLine\"},\"selection_glyph\":null,\"view\":{\"id\":\"fa061256-333f-4ffb-85de-f78776236379\",\"type\":\"CDSView\"}},\"id\":\"4b18a1b5-a2f9-4cfd-aacd-1808ca875446\",\"type\":\"GlyphRenderer\"},{\"attributes\":{\"line_alpha\":{\"value\":0.3},\"line_color\":{\"value\":\"gray\"},\"xs\":{\"field\":\"xs\"},\"ys\":{\"field\":\"ys\"}},\"id\":\"181e2a9c-556a-4efe-9e3c-f8aad19c720e\",\"type\":\"MultiLine\"},{\"attributes\":{\"source\":{\"id\":\"04795bd6-5757-479c-bb69-1ce1f00e82e3\",\"type\":\"ColumnDataSource\"}},\"id\":\"fa061256-333f-4ffb-85de-f78776236379\",\"type\":\"CDSView\"},{\"attributes\":{\"plot\":{\"id\":\"1382a30c-bc74-42da-9c69-7c27cb567b6b\",\"subtype\":\"Figure\",\"type\":\"Plot\"},\"source\":{\"id\":\"c04e7956-58f1-4225-8085-9ec062eccdc8\",\"type\":\"ColumnDataSource\"},\"text\":{\"field\":\"names\"},\"text_color\":{\"value\":\"black\"},\"text_font\":\"Garamond\",\"text_font_style\":\"bold\",\"x\":{\"field\":\"x\"},\"x_offset\":{\"value\":-4.5},\"y\":{\"field\":\"y\"},\"y_offset\":{\"value\":-7}},\"id\":\"4cdf5f4c-264c-4741-85fc-be1a8e650862\",\"type\":\"LabelSet\"},{\"attributes\":{\"callback\":null,\"column_names\":[\"x\",\"y\"],\"data\":{\"x\":[1,1,1,1,1,1,1,1,1,1,1,1,1,1,1,1,1,1,1,1,1,1,1,1,1,1,6,6,6,6,6,6,6,6,6,6,6,6,6,6,6,6,6,6,6,6,6,6,6,6,6,6,8,8,8,8,8,8,8,8,8,8,8,8,8,8,8,8,8,8,8,8,8,8,8,8,8,8],\"y\":[1,2,3,4,5,6,7,8,9,10,11,12,13,14,15,16,17,18,19,20,21,22,23,24,25,26,1,2,3,4,5,6,7,8,9,10,11,12,13,14,15,16,17,18,19,20,21,22,23,24,25,26,1,2,3,4,5,6,7,8,9,10,11,12,13,14,15,16,17,18,19,20,21,22,23,24,25,26]}},\"id\":\"83b7699f-ab10-42fd-a351-cae8522a2dd8\",\"type\":\"ColumnDataSource\"},{\"attributes\":{\"line_alpha\":{\"value\":0.1},\"line_color\":{\"value\":\"#1f77b4\"},\"xs\":{\"field\":\"xs\"},\"ys\":{\"field\":\"ys\"}},\"id\":\"135a1828-dcc5-4063-babe-f6042381ffc1\",\"type\":\"MultiLine\"},{\"attributes\":{\"below\":[{\"id\":\"db35d542-f3b5-4314-8b7d-4364b40a97f9\",\"type\":\"LinearAxis\"}],\"left\":[{\"id\":\"f2640a75-5e86-4c22-839d-85438a445efe\",\"type\":\"LinearAxis\"}],\"plot_height\":800,\"plot_width\":400,\"renderers\":[{\"id\":\"db35d542-f3b5-4314-8b7d-4364b40a97f9\",\"type\":\"LinearAxis\"},{\"id\":\"ea6f8534-34d4-46ef-869d-c978befa262e\",\"type\":\"Grid\"},{\"id\":\"f2640a75-5e86-4c22-839d-85438a445efe\",\"type\":\"LinearAxis\"},{\"id\":\"cebde8bb-6476-449a-ac16-c2a3d38e1cb1\",\"type\":\"Grid\"},{\"id\":\"4cdf5f4c-264c-4741-85fc-be1a8e650862\",\"type\":\"LabelSet\"},{\"id\":\"2b268d31-77ec-412c-b462-2f946dbf4afd\",\"type\":\"GlyphRenderer\"},{\"id\":\"9a931303-446e-40fa-a27a-3ce35b73aeeb\",\"type\":\"GlyphRenderer\"},{\"id\":\"4b18a1b5-a2f9-4cfd-aacd-1808ca875446\",\"type\":\"GlyphRenderer\"}],\"title\":{\"id\":\"1ca12dc1-7624-4b72-a84d-f7f4193942db\",\"type\":\"Title\"},\"toolbar\":{\"id\":\"845f057d-b4de-4fd4-a3ba-af4be085a7c2\",\"type\":\"Toolbar\"},\"toolbar_location\":null,\"x_range\":{\"id\":\"3ab5ff32-4cab-4f41-8f81-fdbaf59110bb\",\"type\":\"DataRange1d\"},\"x_scale\":{\"id\":\"a821215c-7832-4620-a0c2-1462d7678d69\",\"type\":\"LinearScale\"},\"y_range\":{\"id\":\"674d08de-3463-451c-b6c8-37c4fe5e7f70\",\"type\":\"DataRange1d\"},\"y_scale\":{\"id\":\"ccb8e215-8609-46bc-9065-bc7162c1378b\",\"type\":\"LinearScale\"}},\"id\":\"1382a30c-bc74-42da-9c69-7c27cb567b6b\",\"subtype\":\"Figure\",\"type\":\"Plot\"},{\"attributes\":{\"callback\":null,\"column_names\":[\"x\",\"y\",\"names\"],\"data\":{\"names\":[\"a\",\"b\",\"c\",\"d\",\"e\",\"f\",\"g\",\"h\",\"i\",\"j\",\"k\",\"l\",\"m\",\"n\",\"o\",\"p\",\"q\",\"r\",\"s\",\"t\",\"u\",\"v\",\"w\",\"x\",\"y\",\"z\",\"a\",\"b\",\"c\",\"d\",\"e\",\"f\",\"g\",\"h\",\"i\",\"j\",\"k\",\"l\",\"m\",\"n\",\"o\",\"p\",\"q\",\"r\",\"s\",\"t\",\"u\",\"v\",\"w\",\"x\",\"y\",\"z\",\"a\",\"b\",\"c\",\"d\",\"e\",\"f\",\"g\",\"h\",\"i\",\"j\",\"k\",\"l\",\"m\",\"n\",\"o\",\"p\",\"q\",\"r\",\"s\",\"t\",\"u\",\"v\",\"w\",\"x\",\"y\",\"z\"],\"x\":[1,1,1,1,1,1,1,1,1,1,1,1,1,1,1,1,1,1,1,1,1,1,1,1,1,1,6,6,6,6,6,6,6,6,6,6,6,6,6,6,6,6,6,6,6,6,6,6,6,6,6,6,8,8,8,8,8,8,8,8,8,8,8,8,8,8,8,8,8,8,8,8,8,8,8,8,8,8],\"y\":[1,2,3,4,5,6,7,8,9,10,11,12,13,14,15,16,17,18,19,20,21,22,23,24,25,26,1,2,3,4,5,6,7,8,9,10,11,12,13,14,15,16,17,18,19,20,21,22,23,24,25,26,1,2,3,4,5,6,7,8,9,10,11,12,13,14,15,16,17,18,19,20,21,22,23,24,25,26]}},\"id\":\"c04e7956-58f1-4225-8085-9ec062eccdc8\",\"type\":\"ColumnDataSource\"},{\"attributes\":{\"callback\":{\"id\":\"1f2c7539-3440-4a7d-bc66-d4f7c9e5fe61\",\"type\":\"CustomJS\"},\"renderers\":[{\"id\":\"9a931303-446e-40fa-a27a-3ce35b73aeeb\",\"type\":\"GlyphRenderer\"}],\"tooltips\":null},\"id\":\"78021303-d4ad-447a-98e5-1122e6daf965\",\"type\":\"HoverTool\"},{\"attributes\":{},\"id\":\"eaeea643-f59e-4804-b6ca-e4c77780e687\",\"type\":\"BasicTickFormatter\"},{\"attributes\":{\"line_alpha\":{\"value\":0.6},\"line_color\":{\"value\":\"gold\"},\"line_width\":{\"value\":3.0},\"x0\":{\"field\":\"x0\"},\"x1\":{\"field\":\"x1\"},\"y0\":{\"field\":\"y0\"},\"y1\":{\"field\":\"y1\"}},\"id\":\"2767c8f7-f6ce-4f4d-ae89-bc0d3469e070\",\"type\":\"Segment\"},{\"attributes\":{\"plot\":null,\"text\":\"Hover over points\"},\"id\":\"1ca12dc1-7624-4b72-a84d-f7f4193942db\",\"type\":\"Title\"},{\"attributes\":{\"callback\":null},\"id\":\"3ab5ff32-4cab-4f41-8f81-fdbaf59110bb\",\"type\":\"DataRange1d\"},{\"attributes\":{\"active_drag\":\"auto\",\"active_inspect\":\"auto\",\"active_scroll\":\"auto\",\"active_tap\":\"auto\",\"tools\":[{\"id\":\"78021303-d4ad-447a-98e5-1122e6daf965\",\"type\":\"HoverTool\"}]},\"id\":\"845f057d-b4de-4fd4-a3ba-af4be085a7c2\",\"type\":\"Toolbar\"},{\"attributes\":{},\"id\":\"a821215c-7832-4620-a0c2-1462d7678d69\",\"type\":\"LinearScale\"},{\"attributes\":{\"callback\":null},\"id\":\"674d08de-3463-451c-b6c8-37c4fe5e7f70\",\"type\":\"DataRange1d\"},{\"attributes\":{},\"id\":\"ccb8e215-8609-46bc-9065-bc7162c1378b\",\"type\":\"LinearScale\"},{\"attributes\":{\"callback\":null,\"column_names\":[\"xs\",\"ys\"],\"data\":{\"xs\":[[1,6],[1,6],[1,6],[1,6],[1,6],[1,6],[1,6],[1,6],[1,6],[1,6],[1,6],[1,6],[1,6],[1,6],[1,6],[1,6],[1,6],[1,6],[1,6],[1,6],[1,6],[1,6],[1,6],[1,6],[1,6],[1,6],[6,8],[6,8],[6,8],[6,8],[6,8],[6,8],[6,8],[6,8],[6,8],[6,8],[6,8],[6,8],[6,8],[6,8],[6,8],[6,8],[6,8],[6,8],[6,8],[6,8],[6,8],[6,8],[6,8],[6,8],[6,8],[6,8]],\"ys\":[[1,5],[2,11],[3,13],[4,6],[5,12],[6,7],[7,4],[8,17],[9,22],[10,26],[11,14],[12,20],[13,15],[14,23],[15,25],[16,8],[17,24],[18,21],[19,19],[20,16],[21,1],[22,9],[23,2],[24,18],[25,3],[26,10],[1,1],[2,2],[3,3],[4,4],[5,5],[6,6],[7,7],[8,8],[9,9],[10,10],[11,11],[12,12],[13,13],[14,14],[15,15],[16,16],[17,17],[18,18],[19,19],[20,20],[21,21],[22,22],[23,23],[24,24],[25,25],[26,26]]}},\"id\":\"04795bd6-5757-479c-bb69-1ce1f00e82e3\",\"type\":\"ColumnDataSource\"},{\"attributes\":{\"formatter\":{\"id\":\"eaeea643-f59e-4804-b6ca-e4c77780e687\",\"type\":\"BasicTickFormatter\"},\"plot\":{\"id\":\"1382a30c-bc74-42da-9c69-7c27cb567b6b\",\"subtype\":\"Figure\",\"type\":\"Plot\"},\"ticker\":{\"id\":\"89922ef4-e634-45b5-9814-baddaf35b100\",\"type\":\"BasicTicker\"},\"visible\":false},\"id\":\"db35d542-f3b5-4314-8b7d-4364b40a97f9\",\"type\":\"LinearAxis\"},{\"attributes\":{},\"id\":\"89922ef4-e634-45b5-9814-baddaf35b100\",\"type\":\"BasicTicker\"}],\"root_ids\":[\"1382a30c-bc74-42da-9c69-7c27cb567b6b\"]},\"title\":\"Bokeh Application\",\"version\":\"0.12.10\"}};\n",
       "    var render_items = [{\"docid\":\"3806610b-3c22-48ab-b935-271c8ec95679\",\"elementid\":\"fc0777a3-a07d-4d60-a3c7-1c68f9f920be\",\"modelid\":\"1382a30c-bc74-42da-9c69-7c27cb567b6b\"}];\n",
       "\n",
       "    root.Bokeh.embed.embed_items(docs_json, render_items);\n",
       "  }\n",
       "\n",
       "  if (root.Bokeh !== undefined) {\n",
       "    embed_document(root);\n",
       "  } else {\n",
       "    var attempts = 0;\n",
       "    var timer = setInterval(function(root) {\n",
       "      if (root.Bokeh !== undefined) {\n",
       "        embed_document(root);\n",
       "        clearInterval(timer);\n",
       "      }\n",
       "      attempts++;\n",
       "      if (attempts > 100) {\n",
       "        console.log(\"Bokeh: ERROR: Unable to embed document because BokehJS library is missing\")\n",
       "        clearInterval(timer);\n",
       "      }\n",
       "    }, 10, root)\n",
       "  }\n",
       "})(window);"
      ],
      "application/vnd.bokehjs_exec.v0+json": ""
     },
     "metadata": {
      "application/vnd.bokehjs_exec.v0+json": {
       "id": "1382a30c-bc74-42da-9c69-7c27cb567b6b"
      }
     },
     "output_type": "display_data"
    }
   ],
   "source": [
    "show(p)"
   ]
  },
  {
   "cell_type": "markdown",
   "metadata": {},
   "source": [
    "### Confirmed that adding another link to first column of links just connects first column to both others directly, does not travel through one and to the other"
   ]
  },
  {
   "cell_type": "markdown",
   "metadata": {
    "collapsed": true
   },
   "source": [
    "# Break\n",
    "\n",
    "### Surely I can be doing this with multi_line instead of segment.  I just don't know how right now.  See these links for more help\n",
    "[Bokeh Docs for Custom JS for Hover](https://bokeh.pydata.org/en/latest/docs/user_guide/interaction/callbacks.html#customjs-for-hover)\n",
    "\n",
    "[Bokeh Docs for Multi_Line](https://bokeh.pydata.org/en/latest/docs/reference/models/glyphs/multi_line.html#bokeh-models-glyphs-multiline)\n",
    "\n",
    "[Bokeh Docs for ColumnDataSource](https://bokeh.pydata.org/en/latest/docs/reference/models/sources.html#bokeh.models.sources.ColumnDataSource)\n",
    "\n",
    "[Bokeh Docs for CustomJSHover](https://bokeh.pydata.org/en/latest/docs/reference/models/tools.html#bokeh.models.tools.CustomJSHover)"
   ]
  },
  {
   "cell_type": "code",
   "execution_count": 9,
   "metadata": {},
   "outputs": [
    {
     "name": "stdout",
     "output_type": "stream",
     "text": [
      "\u001b[H\u001b[2J"
     ]
    }
   ],
   "source": [
    "clear all"
   ]
  },
  {
   "cell_type": "code",
   "execution_count": 10,
   "metadata": {
    "collapsed": true
   },
   "outputs": [],
   "source": [
    "# long string variables\n",
    "twentysix = [1,2,3,4,5,6,7,8,9,10,11,12,\n",
    "             13,14,15,16,17,18,19,20,21,22,23,24,25,26]\n",
    "alphabet = ['a','b','c','d','e','f','g','h','i','j','k','l','m',\n",
    "            'n','o','p','q','r','s','t','u','v','w','x','y','z']\n",
    "alphabet = alphabet*3\n",
    "\n",
    "# rotor shift\n",
    "shift = 10\n",
    "\n",
    "# aesthetic variables\n",
    "x_offset = -4.5    # letter annotation offset from circle edge\n",
    "y_offset = -7    # letter annotation offset from circle edge\n",
    "\n",
    "seg_color = 'gold'    # segment color\n",
    "line_width = 3.0    # segment line width\n",
    "seg_alpha = 0.6    # segment alpha\n",
    "\n",
    "circ_color = 'gold'    # circle color\n",
    "circ_size = 23    # circle size\n",
    "circ_alpha = 0.4    # circle alpha\n",
    "hov_color = 'gold'    # hover color for circles\n",
    "hov_alpha = 0.8    # hover alpha for circles\n",
    "\n",
    "font = 'Garamond'\n",
    "\n",
    "\n",
    "# some points\n",
    "x = np.array([1,6,8])\n",
    "x = np.repeat(x,26)\n",
    "y = twentysix*3\n",
    "\n",
    "# shifting functions\n",
    "\n",
    "def shift_yvals(yvals, shift):\n",
    "    for pair in yvals:\n",
    "        pair[1] += shift\n",
    "        if pair[1] > 26:\n",
    "            pair[1] += (-26)\n",
    "    return yvals\n",
    "\n",
    "def shift_links(links,shift):\n",
    "    for item in links:\n",
    "        if item > 51:\n",
    "            links[item][0] += (- shift)\n",
    "            if links[item][0] < 26:\n",
    "                links[item][0] += 26\n",
    "        if item > 25 and item < 52:\n",
    "            links[item][1] += shift\n",
    "            if links[item][1] > 77:\n",
    "                links[item][1] += (- 26)\n",
    "    return(links)\n",
    "\n",
    "# X values\n",
    "xval1 = [[1,6]]*26\n",
    "xval2 = [[6,8]]*26\n",
    "xvals = xval1+xval2\n",
    "\n",
    "# Y values\n",
    "# rotor 1\n",
    "yvals_inner = [[1,5],[2,11],[3,13],[4,6],[5,12],[6,7],[7,4],[8,17],\n",
    "    [9,22], [10,26],[11,14],[12,20],[13,15],[14,23],[15,25],[16,8],\n",
    "    [17,24],[18,21],[19,19],[20,16],[21,1],[22,9],[23,2],[24,18],\n",
    "    [25,3],[26,10]]\n",
    "yvals_outer = [[1,1],[2,2],[3,3],[4,4],[5,5],[6,6],[7,7],[8,8],\n",
    "    [9,9],[10,10],[11,11],[12,12],[13,13],[14,14],[15,15],[16,16],\n",
    "    [17,17],[18,18],[19,19],[20,20],[21,21],[22,22],[23,23],[24,24],\n",
    "    [25,25],[26,26]]\n",
    "\n",
    "yvals_outer = shift_yvals(yvals_outer, shift)\n",
    "yvals = yvals_inner + yvals_outer\n",
    "\n",
    "# establish links\n",
    "links = {\n",
    "    0:[30],      1:[36],     2:[38],     3:[31],      4:[37],    5:[32],     6:[29],     7:[42],     8:[47],    \n",
    "    9:[51],     10:[39],    11:[45],    12:[40],    13:[48],    14:[50],    15:[33],    16:[49],    17:[46],    \n",
    "    18:[44],    19:[41],    20:[26],    21:[34],    22:[27],    23:[43],    24:[28],    25:[35],\n",
    "        \n",
    "    26:[20,52],    27:[22,53],    28:[24,54],    29:[6,55],     30:[0,56],     31:[3,57],     32:[5,58],     \n",
    "    33:[15,59],    34:[21,60],    35:[25,61],    36:[1,62],     37:[4,63],     38:[2,64],     39:[10,65],\n",
    "    40:[12,66],    41:[19,67],    42:[7,68],     43:[23,69],    44:[18,70],    45:[11,71],    46:[17,72],\n",
    "    47:[8,73],     48:[13,74],    49:[16,75],    50:[14,76],    51:[9,77],\n",
    "    \n",
    "    52:[26],    53:[27],    54:[28],    55:[29],    56:[30],    57:[31],    58:[32],    59:[33],    60:[34], \n",
    "    61:[35],    62:[36],    63:[37],    64:[38],    65:[39],    66:[40],    67:[41],    68:[42],    69:[43],\n",
    "    70:[44],    71:[45],    72:[46],    73:[47],    74:[48],    75:[49],    76:[50],    77:[51]\n",
    "}\n",
    "\n",
    "links = shift_links(links,shift)\n",
    "\n"
   ]
  },
  {
   "cell_type": "code",
   "execution_count": 11,
   "metadata": {
    "collapsed": true
   },
   "outputs": [],
   "source": [
    "# create graph\n",
    "p = figure(width=400, height=800, tools=\"\",\n",
    "           toolbar_location=None,title='Hover over points')\n",
    "\n",
    "# add letter labels\n",
    "lsource = ColumnDataSource(data=dict(x = x, y = y, names = alphabet))\n",
    "labels = LabelSet(x='x', y='y', text='names', level='annotation',\n",
    "                  x_offset=x_offset, y_offset=y_offset, source=lsource,\n",
    "                  render_mode='canvas', text_font=font, \n",
    "                  text_color='black', text_font_style='bold')\n",
    "p.add_layout(labels)\n",
    "\n",
    "# add path glyphs\n",
    "p.multi_line(xvals,yvals,color='gray',alpha=0.3)\n",
    "\n",
    "# remove gridlines and axis labels\n",
    "p.xgrid.visible = False\n",
    "p.ygrid.visible = False\n",
    "p.axis.visible = False"
   ]
  },
  {
   "cell_type": "code",
   "execution_count": 12,
   "metadata": {},
   "outputs": [],
   "source": [
    "# add hover glyphs\n",
    "source = ColumnDataSource({'x0': [], 'y0': [], 'x1': [], 'y1':[]})\n",
    "sr = p.segment(x0='x0',y0='y0',x1='x1', y1='y1', color=seg_color, \n",
    "               alpha=seg_alpha, line_width=line_width, source=source,)\n",
    "cr = p.circle(x, y, color=circ_color, size=circ_size, alpha=circ_alpha, \n",
    "              hover_color=hov_color, hover_alpha=hov_alpha)\n",
    "\n",
    "# JS for hover tool\n",
    "code = \"\"\"\n",
    "var links = %s;\n",
    "var data = {'x0': [], 'y0': [], 'x1': [], 'y1': []};\n",
    "var cdata = circle.get('data');\n",
    "var indices = cb_data.index['1d'].indices;\n",
    "for (i=0; i < indices.length; i++) {\n",
    "    ind0 = indices[i]\n",
    "    for (j=0; j < links[ind0].length; j++) {\n",
    "        ind1 = links[ind0][j];\n",
    "        data['x0'].push(cdata.x[ind0]);\n",
    "        data['y0'].push(cdata.y[ind0]);\n",
    "        data['x1'].push(cdata.x[ind1]);\n",
    "        data['y1'].push(cdata.y[ind1]);\n",
    "    }\n",
    "}\n",
    "segment.set('data', data);\n",
    "\"\"\" % links\n",
    "\n",
    "# Call JS and Add HoverTool\n",
    "callback = CustomJS(args={'circle':cr.data_source, \n",
    "                          'segment':sr.data_source}, code=code)\n",
    "p.add_tools(HoverTool(tooltips=None,callback=callback,renderers=[cr]))"
   ]
  },
  {
   "cell_type": "markdown",
   "metadata": {},
   "source": [
    "# Display Graph"
   ]
  },
  {
   "cell_type": "code",
   "execution_count": 13,
   "metadata": {
    "scrolled": false
   },
   "outputs": [
    {
     "data": {
      "text/html": [
       "\n",
       "<div class=\"bk-root\">\n",
       "    <div class=\"bk-plotdiv\" id=\"769c1277-c8d8-414b-8726-ae444d4acf3d\"></div>\n",
       "</div>"
      ]
     },
     "metadata": {},
     "output_type": "display_data"
    },
    {
     "data": {
      "application/javascript": [
       "(function(root) {\n",
       "  function embed_document(root) {\n",
       "    var docs_json = {\"6b5e59d0-9f0d-4409-9ffe-9bc7f9f32889\":{\"roots\":{\"references\":[{\"attributes\":{\"below\":[{\"id\":\"156332be-2f16-4389-a33d-6e8bac7b326e\",\"type\":\"LinearAxis\"}],\"left\":[{\"id\":\"e68c8b5c-e8af-4f04-99d2-634eb6bcdfe7\",\"type\":\"LinearAxis\"}],\"plot_height\":800,\"plot_width\":400,\"renderers\":[{\"id\":\"156332be-2f16-4389-a33d-6e8bac7b326e\",\"type\":\"LinearAxis\"},{\"id\":\"94461952-ad27-45ce-974b-9a04524d9703\",\"type\":\"Grid\"},{\"id\":\"e68c8b5c-e8af-4f04-99d2-634eb6bcdfe7\",\"type\":\"LinearAxis\"},{\"id\":\"952e6439-fca8-4f4c-9b2c-10b75ef3d385\",\"type\":\"Grid\"},{\"id\":\"b0918599-059c-4fe2-80b7-3370bc013d4d\",\"type\":\"LabelSet\"},{\"id\":\"7e05ceb6-d490-48f6-b9d5-67b48472f2b6\",\"type\":\"GlyphRenderer\"},{\"id\":\"aaa8391f-d201-44c7-8bbf-11128f89e79c\",\"type\":\"GlyphRenderer\"},{\"id\":\"1c3eca31-264a-46df-a6d2-8c1d4706a077\",\"type\":\"GlyphRenderer\"}],\"title\":{\"id\":\"d64e82f8-55e0-49c2-82b7-7f1ba0fa2aed\",\"type\":\"Title\"},\"toolbar\":{\"id\":\"aa82489c-a391-465c-aae0-4d6b17a44192\",\"type\":\"Toolbar\"},\"toolbar_location\":null,\"x_range\":{\"id\":\"5ac80fc8-b9ff-4ceb-8eeb-1f161f75b46a\",\"type\":\"DataRange1d\"},\"x_scale\":{\"id\":\"fad0e445-c06a-4df6-99a3-fd8bffd61681\",\"type\":\"LinearScale\"},\"y_range\":{\"id\":\"a56c8fcb-9d57-4dd1-9ba2-bcdbe384a1e4\",\"type\":\"DataRange1d\"},\"y_scale\":{\"id\":\"b509ef62-2f5e-4c46-a2ae-2f4f2f2aed0e\",\"type\":\"LinearScale\"}},\"id\":\"b1eabf42-3cbb-48f6-96ca-b507ca32b9a1\",\"subtype\":\"Figure\",\"type\":\"Plot\"},{\"attributes\":{\"callback\":null,\"column_names\":[\"x\",\"y\"],\"data\":{\"x\":[1,1,1,1,1,1,1,1,1,1,1,1,1,1,1,1,1,1,1,1,1,1,1,1,1,1,6,6,6,6,6,6,6,6,6,6,6,6,6,6,6,6,6,6,6,6,6,6,6,6,6,6,8,8,8,8,8,8,8,8,8,8,8,8,8,8,8,8,8,8,8,8,8,8,8,8,8,8],\"y\":[1,2,3,4,5,6,7,8,9,10,11,12,13,14,15,16,17,18,19,20,21,22,23,24,25,26,1,2,3,4,5,6,7,8,9,10,11,12,13,14,15,16,17,18,19,20,21,22,23,24,25,26,1,2,3,4,5,6,7,8,9,10,11,12,13,14,15,16,17,18,19,20,21,22,23,24,25,26]}},\"id\":\"debd0083-6a8c-4182-aae3-3748a71a66f7\",\"type\":\"ColumnDataSource\"},{\"attributes\":{\"callback\":null,\"column_names\":[\"x\",\"y\",\"names\"],\"data\":{\"names\":[\"a\",\"b\",\"c\",\"d\",\"e\",\"f\",\"g\",\"h\",\"i\",\"j\",\"k\",\"l\",\"m\",\"n\",\"o\",\"p\",\"q\",\"r\",\"s\",\"t\",\"u\",\"v\",\"w\",\"x\",\"y\",\"z\",\"a\",\"b\",\"c\",\"d\",\"e\",\"f\",\"g\",\"h\",\"i\",\"j\",\"k\",\"l\",\"m\",\"n\",\"o\",\"p\",\"q\",\"r\",\"s\",\"t\",\"u\",\"v\",\"w\",\"x\",\"y\",\"z\",\"a\",\"b\",\"c\",\"d\",\"e\",\"f\",\"g\",\"h\",\"i\",\"j\",\"k\",\"l\",\"m\",\"n\",\"o\",\"p\",\"q\",\"r\",\"s\",\"t\",\"u\",\"v\",\"w\",\"x\",\"y\",\"z\"],\"x\":[1,1,1,1,1,1,1,1,1,1,1,1,1,1,1,1,1,1,1,1,1,1,1,1,1,1,6,6,6,6,6,6,6,6,6,6,6,6,6,6,6,6,6,6,6,6,6,6,6,6,6,6,8,8,8,8,8,8,8,8,8,8,8,8,8,8,8,8,8,8,8,8,8,8,8,8,8,8],\"y\":[1,2,3,4,5,6,7,8,9,10,11,12,13,14,15,16,17,18,19,20,21,22,23,24,25,26,1,2,3,4,5,6,7,8,9,10,11,12,13,14,15,16,17,18,19,20,21,22,23,24,25,26,1,2,3,4,5,6,7,8,9,10,11,12,13,14,15,16,17,18,19,20,21,22,23,24,25,26]}},\"id\":\"2264bb84-d5d3-4c1a-ac5d-6163ee1d8216\",\"type\":\"ColumnDataSource\"},{\"attributes\":{\"fill_alpha\":{\"value\":0.4},\"fill_color\":{\"value\":\"gold\"},\"line_alpha\":{\"value\":0.4},\"line_color\":{\"value\":\"gold\"},\"size\":{\"units\":\"screen\",\"value\":23},\"x\":{\"field\":\"x\"},\"y\":{\"field\":\"y\"}},\"id\":\"5aed142f-2f23-481e-8581-9cca9edba499\",\"type\":\"Circle\"},{\"attributes\":{\"plot\":{\"id\":\"b1eabf42-3cbb-48f6-96ca-b507ca32b9a1\",\"subtype\":\"Figure\",\"type\":\"Plot\"},\"source\":{\"id\":\"2264bb84-d5d3-4c1a-ac5d-6163ee1d8216\",\"type\":\"ColumnDataSource\"},\"text\":{\"field\":\"names\"},\"text_color\":{\"value\":\"black\"},\"text_font\":\"Garamond\",\"text_font_style\":\"bold\",\"x\":{\"field\":\"x\"},\"x_offset\":{\"value\":-4.5},\"y\":{\"field\":\"y\"},\"y_offset\":{\"value\":-7}},\"id\":\"b0918599-059c-4fe2-80b7-3370bc013d4d\",\"type\":\"LabelSet\"},{\"attributes\":{\"plot\":null,\"text\":\"Hover over points\"},\"id\":\"d64e82f8-55e0-49c2-82b7-7f1ba0fa2aed\",\"type\":\"Title\"},{\"attributes\":{\"line_alpha\":{\"value\":0.1},\"line_color\":{\"value\":\"#1f77b4\"},\"line_width\":{\"value\":3.0},\"x0\":{\"field\":\"x0\"},\"x1\":{\"field\":\"x1\"},\"y0\":{\"field\":\"y0\"},\"y1\":{\"field\":\"y1\"}},\"id\":\"eee402e7-2012-400a-b187-7383551a1644\",\"type\":\"Segment\"},{\"attributes\":{\"callback\":null},\"id\":\"5ac80fc8-b9ff-4ceb-8eeb-1f161f75b46a\",\"type\":\"DataRange1d\"},{\"attributes\":{\"data_source\":{\"id\":\"3c7876cb-e606-4f60-bc7d-6907dbd18e6b\",\"type\":\"ColumnDataSource\"},\"glyph\":{\"id\":\"2ef0dc93-115e-47c8-9739-bd4e6a40aab6\",\"type\":\"Segment\"},\"hover_glyph\":null,\"muted_glyph\":null,\"nonselection_glyph\":{\"id\":\"eee402e7-2012-400a-b187-7383551a1644\",\"type\":\"Segment\"},\"selection_glyph\":null,\"view\":{\"id\":\"0b31619b-40ba-4200-8910-cce8379c0c4e\",\"type\":\"CDSView\"}},\"id\":\"aaa8391f-d201-44c7-8bbf-11128f89e79c\",\"type\":\"GlyphRenderer\"},{\"attributes\":{\"active_drag\":\"auto\",\"active_inspect\":\"auto\",\"active_scroll\":\"auto\",\"active_tap\":\"auto\",\"tools\":[{\"id\":\"6e8eaf59-bf18-43cd-af48-2f583d4e9f4f\",\"type\":\"HoverTool\"}]},\"id\":\"aa82489c-a391-465c-aae0-4d6b17a44192\",\"type\":\"Toolbar\"},{\"attributes\":{\"source\":{\"id\":\"3c7876cb-e606-4f60-bc7d-6907dbd18e6b\",\"type\":\"ColumnDataSource\"}},\"id\":\"0b31619b-40ba-4200-8910-cce8379c0c4e\",\"type\":\"CDSView\"},{\"attributes\":{},\"id\":\"fad0e445-c06a-4df6-99a3-fd8bffd61681\",\"type\":\"LinearScale\"},{\"attributes\":{\"callback\":{\"id\":\"9a993b96-55ca-41ac-8734-beda0176f932\",\"type\":\"CustomJS\"},\"renderers\":[{\"id\":\"1c3eca31-264a-46df-a6d2-8c1d4706a077\",\"type\":\"GlyphRenderer\"}],\"tooltips\":null},\"id\":\"6e8eaf59-bf18-43cd-af48-2f583d4e9f4f\",\"type\":\"HoverTool\"},{\"attributes\":{\"callback\":null},\"id\":\"a56c8fcb-9d57-4dd1-9ba2-bcdbe384a1e4\",\"type\":\"DataRange1d\"},{\"attributes\":{\"fill_alpha\":{\"value\":0.8},\"fill_color\":{\"value\":\"gold\"},\"line_alpha\":{\"value\":0.8},\"line_color\":{\"value\":\"gold\"},\"size\":{\"units\":\"screen\",\"value\":23},\"x\":{\"field\":\"x\"},\"y\":{\"field\":\"y\"}},\"id\":\"ba5795ec-f5ef-472e-8a9b-29550e808363\",\"type\":\"Circle\"},{\"attributes\":{},\"id\":\"b509ef62-2f5e-4c46-a2ae-2f4f2f2aed0e\",\"type\":\"LinearScale\"},{\"attributes\":{\"data_source\":{\"id\":\"debd0083-6a8c-4182-aae3-3748a71a66f7\",\"type\":\"ColumnDataSource\"},\"glyph\":{\"id\":\"5aed142f-2f23-481e-8581-9cca9edba499\",\"type\":\"Circle\"},\"hover_glyph\":{\"id\":\"ba5795ec-f5ef-472e-8a9b-29550e808363\",\"type\":\"Circle\"},\"muted_glyph\":null,\"nonselection_glyph\":{\"id\":\"4cdbdd36-cc68-4098-b142-b1ad61371e97\",\"type\":\"Circle\"},\"selection_glyph\":null,\"view\":{\"id\":\"674791f2-7ec5-4295-bdb7-0bbf71284c28\",\"type\":\"CDSView\"}},\"id\":\"1c3eca31-264a-46df-a6d2-8c1d4706a077\",\"type\":\"GlyphRenderer\"},{\"attributes\":{\"plot\":{\"id\":\"b1eabf42-3cbb-48f6-96ca-b507ca32b9a1\",\"subtype\":\"Figure\",\"type\":\"Plot\"},\"ticker\":{\"id\":\"2d5c6af8-e4a5-4adc-a796-646b8c14f897\",\"type\":\"BasicTicker\"},\"visible\":false},\"id\":\"94461952-ad27-45ce-974b-9a04524d9703\",\"type\":\"Grid\"},{\"attributes\":{\"fill_alpha\":{\"value\":0.1},\"fill_color\":{\"value\":\"#1f77b4\"},\"line_alpha\":{\"value\":0.1},\"line_color\":{\"value\":\"#1f77b4\"},\"size\":{\"units\":\"screen\",\"value\":23},\"x\":{\"field\":\"x\"},\"y\":{\"field\":\"y\"}},\"id\":\"4cdbdd36-cc68-4098-b142-b1ad61371e97\",\"type\":\"Circle\"},{\"attributes\":{\"formatter\":{\"id\":\"3105b2ad-e898-437b-bd1f-db406f144b18\",\"type\":\"BasicTickFormatter\"},\"plot\":{\"id\":\"b1eabf42-3cbb-48f6-96ca-b507ca32b9a1\",\"subtype\":\"Figure\",\"type\":\"Plot\"},\"ticker\":{\"id\":\"2d5c6af8-e4a5-4adc-a796-646b8c14f897\",\"type\":\"BasicTicker\"},\"visible\":false},\"id\":\"156332be-2f16-4389-a33d-6e8bac7b326e\",\"type\":\"LinearAxis\"},{\"attributes\":{\"args\":{\"circle\":{\"id\":\"debd0083-6a8c-4182-aae3-3748a71a66f7\",\"type\":\"ColumnDataSource\"},\"segment\":{\"id\":\"3c7876cb-e606-4f60-bc7d-6907dbd18e6b\",\"type\":\"ColumnDataSource\"}},\"code\":\"\\nvar links = {0: [30], 1: [36], 2: [38], 3: [31], 4: [37], 5: [32], 6: [29], 7: [42], 8: [47], 9: [51], 10: [39], 11: [45], 12: [40], 13: [48], 14: [50], 15: [33], 16: [49], 17: [46], 18: [44], 19: [41], 20: [26], 21: [34], 22: [27], 23: [43], 24: [28], 25: [35], 26: [20, 62], 27: [22, 63], 28: [24, 64], 29: [6, 65], 30: [0, 66], 31: [3, 67], 32: [5, 68], 33: [15, 69], 34: [21, 70], 35: [25, 71], 36: [1, 72], 37: [4, 73], 38: [2, 74], 39: [10, 75], 40: [12, 76], 41: [19, 77], 42: [7, 52], 43: [23, 53], 44: [18, 54], 45: [11, 55], 46: [17, 56], 47: [8, 57], 48: [13, 58], 49: [16, 59], 50: [14, 60], 51: [9, 61], 52: [42], 53: [43], 54: [44], 55: [45], 56: [46], 57: [47], 58: [48], 59: [49], 60: [50], 61: [51], 62: [26], 63: [27], 64: [28], 65: [29], 66: [30], 67: [31], 68: [32], 69: [33], 70: [34], 71: [35], 72: [36], 73: [37], 74: [38], 75: [39], 76: [40], 77: [41]};\\nvar data = {'x0': [], 'y0': [], 'x1': [], 'y1': []};\\nvar cdata = circle.get('data');\\nvar indices = cb_data.index['1d'].indices;\\nfor (i=0; i < indices.length; i++) {\\n    ind0 = indices[i]\\n    for (j=0; j < links[ind0].length; j++) {\\n        ind1 = links[ind0][j];\\n        data['x0'].push(cdata.x[ind0]);\\n        data['y0'].push(cdata.y[ind0]);\\n        data['x1'].push(cdata.x[ind1]);\\n        data['y1'].push(cdata.y[ind1]);\\n    }\\n}\\nsegment.set('data', data);\\n\"},\"id\":\"9a993b96-55ca-41ac-8734-beda0176f932\",\"type\":\"CustomJS\"},{\"attributes\":{},\"id\":\"2d5c6af8-e4a5-4adc-a796-646b8c14f897\",\"type\":\"BasicTicker\"},{\"attributes\":{\"formatter\":{\"id\":\"7b280416-a77d-4f67-9501-077398f02f4f\",\"type\":\"BasicTickFormatter\"},\"plot\":{\"id\":\"b1eabf42-3cbb-48f6-96ca-b507ca32b9a1\",\"subtype\":\"Figure\",\"type\":\"Plot\"},\"ticker\":{\"id\":\"57c85f61-d8f8-4457-a16d-6b90b811dd66\",\"type\":\"BasicTicker\"},\"visible\":false},\"id\":\"e68c8b5c-e8af-4f04-99d2-634eb6bcdfe7\",\"type\":\"LinearAxis\"},{\"attributes\":{\"source\":{\"id\":\"debd0083-6a8c-4182-aae3-3748a71a66f7\",\"type\":\"ColumnDataSource\"}},\"id\":\"674791f2-7ec5-4295-bdb7-0bbf71284c28\",\"type\":\"CDSView\"},{\"attributes\":{},\"id\":\"57c85f61-d8f8-4457-a16d-6b90b811dd66\",\"type\":\"BasicTicker\"},{\"attributes\":{\"dimension\":1,\"plot\":{\"id\":\"b1eabf42-3cbb-48f6-96ca-b507ca32b9a1\",\"subtype\":\"Figure\",\"type\":\"Plot\"},\"ticker\":{\"id\":\"57c85f61-d8f8-4457-a16d-6b90b811dd66\",\"type\":\"BasicTicker\"},\"visible\":false},\"id\":\"952e6439-fca8-4f4c-9b2c-10b75ef3d385\",\"type\":\"Grid\"},{\"attributes\":{\"callback\":null,\"column_names\":[\"xs\",\"ys\"],\"data\":{\"xs\":[[1,6],[1,6],[1,6],[1,6],[1,6],[1,6],[1,6],[1,6],[1,6],[1,6],[1,6],[1,6],[1,6],[1,6],[1,6],[1,6],[1,6],[1,6],[1,6],[1,6],[1,6],[1,6],[1,6],[1,6],[1,6],[1,6],[6,8],[6,8],[6,8],[6,8],[6,8],[6,8],[6,8],[6,8],[6,8],[6,8],[6,8],[6,8],[6,8],[6,8],[6,8],[6,8],[6,8],[6,8],[6,8],[6,8],[6,8],[6,8],[6,8],[6,8],[6,8],[6,8]],\"ys\":[[1,5],[2,11],[3,13],[4,6],[5,12],[6,7],[7,4],[8,17],[9,22],[10,26],[11,14],[12,20],[13,15],[14,23],[15,25],[16,8],[17,24],[18,21],[19,19],[20,16],[21,1],[22,9],[23,2],[24,18],[25,3],[26,10],[1,11],[2,12],[3,13],[4,14],[5,15],[6,16],[7,17],[8,18],[9,19],[10,20],[11,21],[12,22],[13,23],[14,24],[15,25],[16,26],[17,1],[18,2],[19,3],[20,4],[21,5],[22,6],[23,7],[24,8],[25,9],[26,10]]}},\"id\":\"79ee911f-8549-4ce7-a14a-194baaf6b093\",\"type\":\"ColumnDataSource\"},{\"attributes\":{\"line_alpha\":{\"value\":0.3},\"line_color\":{\"value\":\"gray\"},\"xs\":{\"field\":\"xs\"},\"ys\":{\"field\":\"ys\"}},\"id\":\"06450635-8b3f-4556-b70a-9502f59657c7\",\"type\":\"MultiLine\"},{\"attributes\":{\"line_alpha\":{\"value\":0.1},\"line_color\":{\"value\":\"#1f77b4\"},\"xs\":{\"field\":\"xs\"},\"ys\":{\"field\":\"ys\"}},\"id\":\"b397555d-bfa2-4a23-baeb-d5bf7e1de5c6\",\"type\":\"MultiLine\"},{\"attributes\":{\"data_source\":{\"id\":\"79ee911f-8549-4ce7-a14a-194baaf6b093\",\"type\":\"ColumnDataSource\"},\"glyph\":{\"id\":\"06450635-8b3f-4556-b70a-9502f59657c7\",\"type\":\"MultiLine\"},\"hover_glyph\":null,\"muted_glyph\":null,\"nonselection_glyph\":{\"id\":\"b397555d-bfa2-4a23-baeb-d5bf7e1de5c6\",\"type\":\"MultiLine\"},\"selection_glyph\":null,\"view\":{\"id\":\"2913d727-1b23-4446-be44-5e5b1ba8dcbe\",\"type\":\"CDSView\"}},\"id\":\"7e05ceb6-d490-48f6-b9d5-67b48472f2b6\",\"type\":\"GlyphRenderer\"},{\"attributes\":{\"source\":{\"id\":\"79ee911f-8549-4ce7-a14a-194baaf6b093\",\"type\":\"ColumnDataSource\"}},\"id\":\"2913d727-1b23-4446-be44-5e5b1ba8dcbe\",\"type\":\"CDSView\"},{\"attributes\":{},\"id\":\"7b280416-a77d-4f67-9501-077398f02f4f\",\"type\":\"BasicTickFormatter\"},{\"attributes\":{\"line_alpha\":{\"value\":0.6},\"line_color\":{\"value\":\"gold\"},\"line_width\":{\"value\":3.0},\"x0\":{\"field\":\"x0\"},\"x1\":{\"field\":\"x1\"},\"y0\":{\"field\":\"y0\"},\"y1\":{\"field\":\"y1\"}},\"id\":\"2ef0dc93-115e-47c8-9739-bd4e6a40aab6\",\"type\":\"Segment\"},{\"attributes\":{},\"id\":\"3105b2ad-e898-437b-bd1f-db406f144b18\",\"type\":\"BasicTickFormatter\"},{\"attributes\":{\"callback\":null,\"column_names\":[\"x0\",\"y0\",\"x1\",\"y1\"],\"data\":{\"x0\":[],\"x1\":[],\"y0\":[],\"y1\":[]}},\"id\":\"3c7876cb-e606-4f60-bc7d-6907dbd18e6b\",\"type\":\"ColumnDataSource\"}],\"root_ids\":[\"b1eabf42-3cbb-48f6-96ca-b507ca32b9a1\"]},\"title\":\"Bokeh Application\",\"version\":\"0.12.10\"}};\n",
       "    var render_items = [{\"docid\":\"6b5e59d0-9f0d-4409-9ffe-9bc7f9f32889\",\"elementid\":\"769c1277-c8d8-414b-8726-ae444d4acf3d\",\"modelid\":\"b1eabf42-3cbb-48f6-96ca-b507ca32b9a1\"}];\n",
       "\n",
       "    root.Bokeh.embed.embed_items(docs_json, render_items);\n",
       "  }\n",
       "\n",
       "  if (root.Bokeh !== undefined) {\n",
       "    embed_document(root);\n",
       "  } else {\n",
       "    var attempts = 0;\n",
       "    var timer = setInterval(function(root) {\n",
       "      if (root.Bokeh !== undefined) {\n",
       "        embed_document(root);\n",
       "        clearInterval(timer);\n",
       "      }\n",
       "      attempts++;\n",
       "      if (attempts > 100) {\n",
       "        console.log(\"Bokeh: ERROR: Unable to embed document because BokehJS library is missing\")\n",
       "        clearInterval(timer);\n",
       "      }\n",
       "    }, 10, root)\n",
       "  }\n",
       "})(window);"
      ],
      "application/vnd.bokehjs_exec.v0+json": ""
     },
     "metadata": {
      "application/vnd.bokehjs_exec.v0+json": {
       "id": "b1eabf42-3cbb-48f6-96ca-b507ca32b9a1"
      }
     },
     "output_type": "display_data"
    }
   ],
   "source": [
    "show(p)"
   ]
  },
  {
   "cell_type": "code",
   "execution_count": null,
   "metadata": {
    "collapsed": true
   },
   "outputs": [],
   "source": []
  }
 ],
 "metadata": {
  "kernelspec": {
   "display_name": "Python 3",
   "language": "python",
   "name": "python3"
  },
  "language_info": {
   "codemirror_mode": {
    "name": "ipython",
    "version": 3
   },
   "file_extension": ".py",
   "mimetype": "text/x-python",
   "name": "python",
   "nbconvert_exporter": "python",
   "pygments_lexer": "ipython3",
   "version": "3.6.3"
  }
 },
 "nbformat": 4,
 "nbformat_minor": 2
}
