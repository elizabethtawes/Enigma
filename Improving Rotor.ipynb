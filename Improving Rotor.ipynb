{
 "cells": [
  {
   "cell_type": "markdown",
   "metadata": {},
   "source": [
    "## Setting up "
   ]
  },
  {
   "cell_type": "code",
   "execution_count": 1,
   "metadata": {},
   "outputs": [
    {
     "data": {
      "text/html": [
       "\n",
       "    <div class=\"bk-root\">\n",
       "        <a href=\"https://bokeh.pydata.org\" target=\"_blank\" class=\"bk-logo bk-logo-small bk-logo-notebook\"></a>\n",
       "        <span id=\"82c5680f-632a-4266-abbf-a89ddd7b87c0\">Loading BokehJS ...</span>\n",
       "    </div>"
      ]
     },
     "metadata": {},
     "output_type": "display_data"
    },
    {
     "data": {
      "application/javascript": [
       "\n",
       "(function(root) {\n",
       "  function now() {\n",
       "    return new Date();\n",
       "  }\n",
       "\n",
       "  var force = true;\n",
       "\n",
       "  if (typeof (root._bokeh_onload_callbacks) === \"undefined\" || force === true) {\n",
       "    root._bokeh_onload_callbacks = [];\n",
       "    root._bokeh_is_loading = undefined;\n",
       "  }\n",
       "\n",
       "  var JS_MIME_TYPE = 'application/javascript';\n",
       "  var HTML_MIME_TYPE = 'text/html';\n",
       "  var EXEC_MIME_TYPE = 'application/vnd.bokehjs_exec.v0+json';\n",
       "  var CLASS_NAME = 'output_bokeh rendered_html';\n",
       "\n",
       "  /**\n",
       "   * Render data to the DOM node\n",
       "   */\n",
       "  function render(props, node) {\n",
       "    var script = document.createElement(\"script\");\n",
       "    node.appendChild(script);\n",
       "  }\n",
       "\n",
       "  /**\n",
       "   * Handle when an output is cleared or removed\n",
       "   */\n",
       "  function handleClearOutput(event, handle) {\n",
       "    var cell = handle.cell;\n",
       "\n",
       "    var id = cell.output_area._bokeh_element_id;\n",
       "    var server_id = cell.output_area._bokeh_server_id;\n",
       "    // Clean up Bokeh references\n",
       "    if (id !== undefined) {\n",
       "      Bokeh.index[id].model.document.clear();\n",
       "      delete Bokeh.index[id];\n",
       "    }\n",
       "\n",
       "    if (server_id !== undefined) {\n",
       "      // Clean up Bokeh references\n",
       "      var cmd = \"from bokeh.io.state import curstate; print(curstate().uuid_to_server['\" + server_id + \"'].get_sessions()[0].document.roots[0]._id)\";\n",
       "      cell.notebook.kernel.execute(cmd, {\n",
       "        iopub: {\n",
       "          output: function(msg) {\n",
       "            var element_id = msg.content.text.trim();\n",
       "            Bokeh.index[element_id].model.document.clear();\n",
       "            delete Bokeh.index[element_id];\n",
       "          }\n",
       "        }\n",
       "      });\n",
       "      // Destroy server and session\n",
       "      var cmd = \"import bokeh.io.notebook as ion; ion.destroy_server('\" + server_id + \"')\";\n",
       "      cell.notebook.kernel.execute(cmd);\n",
       "    }\n",
       "  }\n",
       "\n",
       "  /**\n",
       "   * Handle when a new output is added\n",
       "   */\n",
       "  function handleAddOutput(event, handle) {\n",
       "    var output_area = handle.output_area;\n",
       "    var output = handle.output;\n",
       "\n",
       "    // limit handleAddOutput to display_data with EXEC_MIME_TYPE content only\n",
       "    if ((output.output_type != \"display_data\") || (!output.data.hasOwnProperty(EXEC_MIME_TYPE))) {\n",
       "      return\n",
       "    }\n",
       "\n",
       "    var toinsert = output_area.element.find(`.${CLASS_NAME.split(' ')[0]}`);\n",
       "\n",
       "    if (output.metadata[EXEC_MIME_TYPE][\"id\"] !== undefined) {\n",
       "      toinsert[0].firstChild.textContent = output.data[JS_MIME_TYPE];\n",
       "      // store reference to embed id on output_area\n",
       "      output_area._bokeh_element_id = output.metadata[EXEC_MIME_TYPE][\"id\"];\n",
       "    }\n",
       "    if (output.metadata[EXEC_MIME_TYPE][\"server_id\"] !== undefined) {\n",
       "      var bk_div = document.createElement(\"div\");\n",
       "      bk_div.innerHTML = output.data[HTML_MIME_TYPE];\n",
       "      var script_attrs = bk_div.children[0].attributes;\n",
       "      for (var i = 0; i < script_attrs.length; i++) {\n",
       "        toinsert[0].firstChild.setAttribute(script_attrs[i].name, script_attrs[i].value);\n",
       "      }\n",
       "      // store reference to server id on output_area\n",
       "      output_area._bokeh_server_id = output.metadata[EXEC_MIME_TYPE][\"server_id\"];\n",
       "    }\n",
       "  }\n",
       "\n",
       "  function register_renderer(events, OutputArea) {\n",
       "\n",
       "    function append_mime(data, metadata, element) {\n",
       "      // create a DOM node to render to\n",
       "      var toinsert = this.create_output_subarea(\n",
       "        metadata,\n",
       "        CLASS_NAME,\n",
       "        EXEC_MIME_TYPE\n",
       "      );\n",
       "      this.keyboard_manager.register_events(toinsert);\n",
       "      // Render to node\n",
       "      var props = {data: data, metadata: metadata[EXEC_MIME_TYPE]};\n",
       "      render(props, toinsert[0]);\n",
       "      element.append(toinsert);\n",
       "      return toinsert\n",
       "    }\n",
       "\n",
       "    /* Handle when an output is cleared or removed */\n",
       "    events.on('clear_output.CodeCell', handleClearOutput);\n",
       "    events.on('delete.Cell', handleClearOutput);\n",
       "\n",
       "    /* Handle when a new output is added */\n",
       "    events.on('output_added.OutputArea', handleAddOutput);\n",
       "\n",
       "    /**\n",
       "     * Register the mime type and append_mime function with output_area\n",
       "     */\n",
       "    OutputArea.prototype.register_mime_type(EXEC_MIME_TYPE, append_mime, {\n",
       "      /* Is output safe? */\n",
       "      safe: true,\n",
       "      /* Index of renderer in `output_area.display_order` */\n",
       "      index: 0\n",
       "    });\n",
       "  }\n",
       "\n",
       "  // register the mime type if in Jupyter Notebook environment and previously unregistered\n",
       "  if (root.Jupyter !== undefined) {\n",
       "    var events = require('base/js/events');\n",
       "    var OutputArea = require('notebook/js/outputarea').OutputArea;\n",
       "\n",
       "    if (OutputArea.prototype.mime_types().indexOf(EXEC_MIME_TYPE) == -1) {\n",
       "      register_renderer(events, OutputArea);\n",
       "    }\n",
       "  }\n",
       "\n",
       "  \n",
       "  if (typeof (root._bokeh_timeout) === \"undefined\" || force === true) {\n",
       "    root._bokeh_timeout = Date.now() + 5000;\n",
       "    root._bokeh_failed_load = false;\n",
       "  }\n",
       "\n",
       "  var NB_LOAD_WARNING = {'data': {'text/html':\n",
       "     \"<div style='background-color: #fdd'>\\n\"+\n",
       "     \"<p>\\n\"+\n",
       "     \"BokehJS does not appear to have successfully loaded. If loading BokehJS from CDN, this \\n\"+\n",
       "     \"may be due to a slow or bad network connection. Possible fixes:\\n\"+\n",
       "     \"</p>\\n\"+\n",
       "     \"<ul>\\n\"+\n",
       "     \"<li>re-rerun `output_notebook()` to attempt to load from CDN again, or</li>\\n\"+\n",
       "     \"<li>use INLINE resources instead, as so:</li>\\n\"+\n",
       "     \"</ul>\\n\"+\n",
       "     \"<code>\\n\"+\n",
       "     \"from bokeh.resources import INLINE\\n\"+\n",
       "     \"output_notebook(resources=INLINE)\\n\"+\n",
       "     \"</code>\\n\"+\n",
       "     \"</div>\"}};\n",
       "\n",
       "  function display_loaded() {\n",
       "    var el = document.getElementById(\"82c5680f-632a-4266-abbf-a89ddd7b87c0\");\n",
       "    if (el != null) {\n",
       "      el.textContent = \"BokehJS is loading...\";\n",
       "    }\n",
       "    if (root.Bokeh !== undefined) {\n",
       "      if (el != null) {\n",
       "        el.textContent = \"BokehJS \" + root.Bokeh.version + \" successfully loaded.\";\n",
       "      }\n",
       "    } else if (Date.now() < root._bokeh_timeout) {\n",
       "      setTimeout(display_loaded, 100)\n",
       "    }\n",
       "  }\n",
       "\n",
       "\n",
       "  function run_callbacks() {\n",
       "    try {\n",
       "      root._bokeh_onload_callbacks.forEach(function(callback) { callback() });\n",
       "    }\n",
       "    finally {\n",
       "      delete root._bokeh_onload_callbacks\n",
       "    }\n",
       "    console.info(\"Bokeh: all callbacks have finished\");\n",
       "  }\n",
       "\n",
       "  function load_libs(js_urls, callback) {\n",
       "    root._bokeh_onload_callbacks.push(callback);\n",
       "    if (root._bokeh_is_loading > 0) {\n",
       "      console.log(\"Bokeh: BokehJS is being loaded, scheduling callback at\", now());\n",
       "      return null;\n",
       "    }\n",
       "    if (js_urls == null || js_urls.length === 0) {\n",
       "      run_callbacks();\n",
       "      return null;\n",
       "    }\n",
       "    console.log(\"Bokeh: BokehJS not loaded, scheduling load and callback at\", now());\n",
       "    root._bokeh_is_loading = js_urls.length;\n",
       "    for (var i = 0; i < js_urls.length; i++) {\n",
       "      var url = js_urls[i];\n",
       "      var s = document.createElement('script');\n",
       "      s.src = url;\n",
       "      s.async = false;\n",
       "      s.onreadystatechange = s.onload = function() {\n",
       "        root._bokeh_is_loading--;\n",
       "        if (root._bokeh_is_loading === 0) {\n",
       "          console.log(\"Bokeh: all BokehJS libraries loaded\");\n",
       "          run_callbacks()\n",
       "        }\n",
       "      };\n",
       "      s.onerror = function() {\n",
       "        console.warn(\"failed to load library \" + url);\n",
       "      };\n",
       "      console.log(\"Bokeh: injecting script tag for BokehJS library: \", url);\n",
       "      document.getElementsByTagName(\"head\")[0].appendChild(s);\n",
       "    }\n",
       "  };var element = document.getElementById(\"82c5680f-632a-4266-abbf-a89ddd7b87c0\");\n",
       "  if (element == null) {\n",
       "    console.log(\"Bokeh: ERROR: autoload.js configured with elementid '82c5680f-632a-4266-abbf-a89ddd7b87c0' but no matching script tag was found. \")\n",
       "    return false;\n",
       "  }\n",
       "\n",
       "  var js_urls = [\"https://cdn.pydata.org/bokeh/release/bokeh-0.12.10.min.js\", \"https://cdn.pydata.org/bokeh/release/bokeh-widgets-0.12.10.min.js\", \"https://cdn.pydata.org/bokeh/release/bokeh-tables-0.12.10.min.js\", \"https://cdn.pydata.org/bokeh/release/bokeh-gl-0.12.10.min.js\"];\n",
       "\n",
       "  var inline_js = [\n",
       "    function(Bokeh) {\n",
       "      Bokeh.set_log_level(\"info\");\n",
       "    },\n",
       "    \n",
       "    function(Bokeh) {\n",
       "      \n",
       "    },\n",
       "    function(Bokeh) {\n",
       "      console.log(\"Bokeh: injecting CSS: https://cdn.pydata.org/bokeh/release/bokeh-0.12.10.min.css\");\n",
       "      Bokeh.embed.inject_css(\"https://cdn.pydata.org/bokeh/release/bokeh-0.12.10.min.css\");\n",
       "      console.log(\"Bokeh: injecting CSS: https://cdn.pydata.org/bokeh/release/bokeh-widgets-0.12.10.min.css\");\n",
       "      Bokeh.embed.inject_css(\"https://cdn.pydata.org/bokeh/release/bokeh-widgets-0.12.10.min.css\");\n",
       "      console.log(\"Bokeh: injecting CSS: https://cdn.pydata.org/bokeh/release/bokeh-tables-0.12.10.min.css\");\n",
       "      Bokeh.embed.inject_css(\"https://cdn.pydata.org/bokeh/release/bokeh-tables-0.12.10.min.css\");\n",
       "    }\n",
       "  ];\n",
       "\n",
       "  function run_inline_js() {\n",
       "    \n",
       "    if ((root.Bokeh !== undefined) || (force === true)) {\n",
       "      for (var i = 0; i < inline_js.length; i++) {\n",
       "        inline_js[i].call(root, root.Bokeh);\n",
       "      }if (force === true) {\n",
       "        display_loaded();\n",
       "      }} else if (Date.now() < root._bokeh_timeout) {\n",
       "      setTimeout(run_inline_js, 100);\n",
       "    } else if (!root._bokeh_failed_load) {\n",
       "      console.log(\"Bokeh: BokehJS failed to load within specified timeout.\");\n",
       "      root._bokeh_failed_load = true;\n",
       "    } else if (force !== true) {\n",
       "      var cell = $(document.getElementById(\"82c5680f-632a-4266-abbf-a89ddd7b87c0\")).parents('.cell').data().cell;\n",
       "      cell.output_area.append_execute_result(NB_LOAD_WARNING)\n",
       "    }\n",
       "\n",
       "  }\n",
       "\n",
       "  if (root._bokeh_is_loading === 0) {\n",
       "    console.log(\"Bokeh: BokehJS loaded, going straight to plotting\");\n",
       "    run_inline_js();\n",
       "  } else {\n",
       "    load_libs(js_urls, function() {\n",
       "      console.log(\"Bokeh: BokehJS plotting callback run at\", now());\n",
       "      run_inline_js();\n",
       "    });\n",
       "  }\n",
       "}(window));"
      ],
      "application/vnd.bokehjs_load.v0+json": "\n(function(root) {\n  function now() {\n    return new Date();\n  }\n\n  var force = true;\n\n  if (typeof (root._bokeh_onload_callbacks) === \"undefined\" || force === true) {\n    root._bokeh_onload_callbacks = [];\n    root._bokeh_is_loading = undefined;\n  }\n\n  \n\n  \n  if (typeof (root._bokeh_timeout) === \"undefined\" || force === true) {\n    root._bokeh_timeout = Date.now() + 5000;\n    root._bokeh_failed_load = false;\n  }\n\n  var NB_LOAD_WARNING = {'data': {'text/html':\n     \"<div style='background-color: #fdd'>\\n\"+\n     \"<p>\\n\"+\n     \"BokehJS does not appear to have successfully loaded. If loading BokehJS from CDN, this \\n\"+\n     \"may be due to a slow or bad network connection. Possible fixes:\\n\"+\n     \"</p>\\n\"+\n     \"<ul>\\n\"+\n     \"<li>re-rerun `output_notebook()` to attempt to load from CDN again, or</li>\\n\"+\n     \"<li>use INLINE resources instead, as so:</li>\\n\"+\n     \"</ul>\\n\"+\n     \"<code>\\n\"+\n     \"from bokeh.resources import INLINE\\n\"+\n     \"output_notebook(resources=INLINE)\\n\"+\n     \"</code>\\n\"+\n     \"</div>\"}};\n\n  function display_loaded() {\n    var el = document.getElementById(\"82c5680f-632a-4266-abbf-a89ddd7b87c0\");\n    if (el != null) {\n      el.textContent = \"BokehJS is loading...\";\n    }\n    if (root.Bokeh !== undefined) {\n      if (el != null) {\n        el.textContent = \"BokehJS \" + root.Bokeh.version + \" successfully loaded.\";\n      }\n    } else if (Date.now() < root._bokeh_timeout) {\n      setTimeout(display_loaded, 100)\n    }\n  }\n\n\n  function run_callbacks() {\n    try {\n      root._bokeh_onload_callbacks.forEach(function(callback) { callback() });\n    }\n    finally {\n      delete root._bokeh_onload_callbacks\n    }\n    console.info(\"Bokeh: all callbacks have finished\");\n  }\n\n  function load_libs(js_urls, callback) {\n    root._bokeh_onload_callbacks.push(callback);\n    if (root._bokeh_is_loading > 0) {\n      console.log(\"Bokeh: BokehJS is being loaded, scheduling callback at\", now());\n      return null;\n    }\n    if (js_urls == null || js_urls.length === 0) {\n      run_callbacks();\n      return null;\n    }\n    console.log(\"Bokeh: BokehJS not loaded, scheduling load and callback at\", now());\n    root._bokeh_is_loading = js_urls.length;\n    for (var i = 0; i < js_urls.length; i++) {\n      var url = js_urls[i];\n      var s = document.createElement('script');\n      s.src = url;\n      s.async = false;\n      s.onreadystatechange = s.onload = function() {\n        root._bokeh_is_loading--;\n        if (root._bokeh_is_loading === 0) {\n          console.log(\"Bokeh: all BokehJS libraries loaded\");\n          run_callbacks()\n        }\n      };\n      s.onerror = function() {\n        console.warn(\"failed to load library \" + url);\n      };\n      console.log(\"Bokeh: injecting script tag for BokehJS library: \", url);\n      document.getElementsByTagName(\"head\")[0].appendChild(s);\n    }\n  };var element = document.getElementById(\"82c5680f-632a-4266-abbf-a89ddd7b87c0\");\n  if (element == null) {\n    console.log(\"Bokeh: ERROR: autoload.js configured with elementid '82c5680f-632a-4266-abbf-a89ddd7b87c0' but no matching script tag was found. \")\n    return false;\n  }\n\n  var js_urls = [\"https://cdn.pydata.org/bokeh/release/bokeh-0.12.10.min.js\", \"https://cdn.pydata.org/bokeh/release/bokeh-widgets-0.12.10.min.js\", \"https://cdn.pydata.org/bokeh/release/bokeh-tables-0.12.10.min.js\", \"https://cdn.pydata.org/bokeh/release/bokeh-gl-0.12.10.min.js\"];\n\n  var inline_js = [\n    function(Bokeh) {\n      Bokeh.set_log_level(\"info\");\n    },\n    \n    function(Bokeh) {\n      \n    },\n    function(Bokeh) {\n      console.log(\"Bokeh: injecting CSS: https://cdn.pydata.org/bokeh/release/bokeh-0.12.10.min.css\");\n      Bokeh.embed.inject_css(\"https://cdn.pydata.org/bokeh/release/bokeh-0.12.10.min.css\");\n      console.log(\"Bokeh: injecting CSS: https://cdn.pydata.org/bokeh/release/bokeh-widgets-0.12.10.min.css\");\n      Bokeh.embed.inject_css(\"https://cdn.pydata.org/bokeh/release/bokeh-widgets-0.12.10.min.css\");\n      console.log(\"Bokeh: injecting CSS: https://cdn.pydata.org/bokeh/release/bokeh-tables-0.12.10.min.css\");\n      Bokeh.embed.inject_css(\"https://cdn.pydata.org/bokeh/release/bokeh-tables-0.12.10.min.css\");\n    }\n  ];\n\n  function run_inline_js() {\n    \n    if ((root.Bokeh !== undefined) || (force === true)) {\n      for (var i = 0; i < inline_js.length; i++) {\n        inline_js[i].call(root, root.Bokeh);\n      }if (force === true) {\n        display_loaded();\n      }} else if (Date.now() < root._bokeh_timeout) {\n      setTimeout(run_inline_js, 100);\n    } else if (!root._bokeh_failed_load) {\n      console.log(\"Bokeh: BokehJS failed to load within specified timeout.\");\n      root._bokeh_failed_load = true;\n    } else if (force !== true) {\n      var cell = $(document.getElementById(\"82c5680f-632a-4266-abbf-a89ddd7b87c0\")).parents('.cell').data().cell;\n      cell.output_area.append_execute_result(NB_LOAD_WARNING)\n    }\n\n  }\n\n  if (root._bokeh_is_loading === 0) {\n    console.log(\"Bokeh: BokehJS loaded, going straight to plotting\");\n    run_inline_js();\n  } else {\n    load_libs(js_urls, function() {\n      console.log(\"Bokeh: BokehJS plotting callback run at\", now());\n      run_inline_js();\n    });\n  }\n}(window));"
     },
     "metadata": {},
     "output_type": "display_data"
    }
   ],
   "source": [
    "from bokeh.plotting import figure, output_notebook, show\n",
    "from bokeh.models import ColumnDataSource, HoverTool, CustomJS, LabelSet\n",
    "import numpy as np\n",
    "\n",
    "output_notebook()"
   ]
  },
  {
   "cell_type": "markdown",
   "metadata": {},
   "source": [
    "## Defining Variables"
   ]
  },
  {
   "cell_type": "code",
   "execution_count": 2,
   "metadata": {
    "collapsed": true
   },
   "outputs": [],
   "source": [
    "# long string variables\n",
    "twentysix = [1,2,3,4,5,6,7,8,9,10,11,12,\n",
    "             13,14,15,16,17,18,19,20,21,22,23,24,25,26]\n",
    "alphabet = ['a','b','c','d','e','f','g','h','i','j','k','l','m',\n",
    "            'n','o','p','q','r','s','t','u','v','w','x','y','z',\n",
    "            'a','b','c','d','e','f','g','h','i','j','k','l','m',\n",
    "            'n','o','p','q','r','s','t','u','v','w','x','y','z']\n",
    "\n",
    "\n",
    "# aesthetic variables\n",
    "x_offset = -4.5    # letter annotation offset from circle edge\n",
    "y_offset = -7    # letter annotation offset from circle edge\n",
    "\n",
    "seg_color = 'gold'    # segment color\n",
    "line_width = 3.0    # segment line width\n",
    "seg_alpha = 0.6    # segment alpha\n",
    "\n",
    "circ_color = 'gold'    # circle color\n",
    "circ_size = 23    # circle size\n",
    "circ_alpha = 0.4    # circle alpha\n",
    "hov_color = 'gold'    # hover color for circles\n",
    "hov_alpha = 0.8    # hover alpha for circles\n",
    "\n",
    "font = 'Garamond'\n",
    "\n",
    "\n",
    "# some points\n",
    "x = np.array([1,6])\n",
    "x = np.repeat(x,26)\n",
    "y = twentysix + twentysix"
   ]
  },
  {
   "cell_type": "markdown",
   "metadata": {},
   "source": [
    "# Rotor Links - Rotor 1"
   ]
  },
  {
   "cell_type": "code",
   "execution_count": 3,
   "metadata": {
    "collapsed": true
   },
   "outputs": [],
   "source": [
    "# establish links\n",
    "links = {\n",
    "    0:[30],\n",
    "    1:[36],\n",
    "    2:[38],\n",
    "    3:[31],\n",
    "    4:[37],\n",
    "    5:[32],\n",
    "    6:[29],\n",
    "    7:[42],\n",
    "    8:[47],\n",
    "    9:[51],\n",
    "    10:[39],\n",
    "    11:[45],\n",
    "    12:[40],\n",
    "    13:[48],\n",
    "    14:[50],\n",
    "    15:[33],\n",
    "    16:[49],\n",
    "    17:[46],\n",
    "    18:[44],\n",
    "    19:[41],\n",
    "    20:[26],\n",
    "    21:[34],\n",
    "    22:[27],\n",
    "    23:[43],\n",
    "    24:[28],\n",
    "    25:[35],\n",
    "        \n",
    "    26:[20],\n",
    "    27:[22],\n",
    "    28:[24],\n",
    "    29:[6],\n",
    "    30:[0],\n",
    "    31:[3],\n",
    "    32:[5],\n",
    "    33:[15],\n",
    "    34:[21],\n",
    "    35:[25],\n",
    "    36:[1],\n",
    "    37:[4],\n",
    "    38:[2],\n",
    "    39:[10],\n",
    "    40:[12],\n",
    "    41:[19],\n",
    "    42:[7],\n",
    "    43:[23],\n",
    "    44:[18],\n",
    "    45:[11],\n",
    "    46:[17],\n",
    "    47:[8],\n",
    "    48:[13],\n",
    "    49:[16],\n",
    "    50:[14],\n",
    "    51:[9]\n",
    "}"
   ]
  },
  {
   "cell_type": "markdown",
   "metadata": {},
   "source": [
    "## Create Graph and Add Features"
   ]
  },
  {
   "cell_type": "code",
   "execution_count": 4,
   "metadata": {
    "collapsed": true
   },
   "outputs": [],
   "source": [
    "# create graph\n",
    "p = figure(width=400, height=800, tools=\"\",\n",
    "           toolbar_location=None,title='Hover over points')\n",
    "\n",
    "# add letter labels\n",
    "lsource = ColumnDataSource(data=dict(x = x, y = y, names = alphabet))\n",
    "labels = LabelSet(x='x', y='y', text='names', level='annotation',\n",
    "                  x_offset=x_offset, y_offset=y_offset, source=lsource,\n",
    "                  render_mode='canvas', text_font=font, \n",
    "                  text_color='black', text_font_style='bold')\n",
    "p.add_layout(labels)\n",
    "\n",
    "# add glyphs\n",
    "source = ColumnDataSource({'x0': [], 'y0': [], 'x1': [], 'y1':[]})\n",
    "sr = p.segment(x0='x0',y0='y0',x1='x1', y1='y1', color=seg_color, \n",
    "               alpha=seg_alpha, line_width=line_width, source=source,)\n",
    "cr = p.circle(x, y, color=circ_color, size=circ_size, alpha=circ_alpha, \n",
    "              hover_color=hov_color, hover_alpha=hov_alpha)\n",
    "\n",
    "\n",
    "# JS for hover tool\n",
    "code = \"\"\"\n",
    "var links = %s;\n",
    "var data = {'x0': [], 'y0': [], 'x1': [], 'y1': []};\n",
    "var cdata = circle.get('data');\n",
    "var indices = cb_data.index['1d'].indices;\n",
    "for (i=0; i < indices.length; i++) {\n",
    "    ind0 = indices[i]\n",
    "    for (j=0; j < links[ind0].length; j++) {\n",
    "        ind1 = links[ind0][j];\n",
    "        data['x0'].push(cdata.x[ind0]);\n",
    "        data['y0'].push(cdata.y[ind0]);\n",
    "        data['x1'].push(cdata.x[ind1]);\n",
    "        data['y1'].push(cdata.y[ind1]);\n",
    "    }\n",
    "}\n",
    "segment.set('data', data);\n",
    "\"\"\" % links\n",
    "\n",
    "# Call JS and Add HoverTool\n",
    "callback = CustomJS(args={'circle':cr.data_source, \n",
    "                          'segment':sr.data_source}, code=code)\n",
    "p.add_tools(HoverTool(tooltips=None,callback=callback,renderers=[cr]))"
   ]
  },
  {
   "cell_type": "markdown",
   "metadata": {},
   "source": [
    "# Display Graph"
   ]
  },
  {
   "cell_type": "code",
   "execution_count": 5,
   "metadata": {},
   "outputs": [
    {
     "data": {
      "text/html": [
       "\n",
       "<div class=\"bk-root\">\n",
       "    <div class=\"bk-plotdiv\" id=\"5f4b5032-1fdc-49e8-bc47-c25730cd14ba\"></div>\n",
       "</div>"
      ]
     },
     "metadata": {},
     "output_type": "display_data"
    },
    {
     "data": {
      "application/javascript": [
       "(function(root) {\n",
       "  function embed_document(root) {\n",
       "    var docs_json = {\"fb4abf13-c19d-4f0f-acb5-962a0703dde3\":{\"roots\":{\"references\":[{\"attributes\":{\"callback\":{\"id\":\"4295e32d-30ab-4df2-8d28-0b22d009f3a1\",\"type\":\"CustomJS\"},\"renderers\":[{\"id\":\"a5eaa5e5-a0ed-44cc-bb3f-5cb8c6d70f74\",\"type\":\"GlyphRenderer\"}],\"tooltips\":null},\"id\":\"8cdf4ae9-a5cd-410b-b8fb-953dd90ced27\",\"type\":\"HoverTool\"},{\"attributes\":{\"fill_alpha\":{\"value\":0.8},\"fill_color\":{\"value\":\"gold\"},\"line_alpha\":{\"value\":0.8},\"line_color\":{\"value\":\"gold\"},\"size\":{\"units\":\"screen\",\"value\":23},\"x\":{\"field\":\"x\"},\"y\":{\"field\":\"y\"}},\"id\":\"476fe97a-629d-4a05-8829-af5b12a6e98d\",\"type\":\"Circle\"},{\"attributes\":{\"callback\":null,\"column_names\":[\"x\",\"y\"],\"data\":{\"x\":[1,1,1,1,1,1,1,1,1,1,1,1,1,1,1,1,1,1,1,1,1,1,1,1,1,1,6,6,6,6,6,6,6,6,6,6,6,6,6,6,6,6,6,6,6,6,6,6,6,6,6,6],\"y\":[1,2,3,4,5,6,7,8,9,10,11,12,13,14,15,16,17,18,19,20,21,22,23,24,25,26,1,2,3,4,5,6,7,8,9,10,11,12,13,14,15,16,17,18,19,20,21,22,23,24,25,26]}},\"id\":\"74742519-acac-4b7b-951d-4d61fab86ff2\",\"type\":\"ColumnDataSource\"},{\"attributes\":{\"source\":{\"id\":\"f8ea176e-ef2a-4dd2-857c-8c6e78a92ce1\",\"type\":\"ColumnDataSource\"}},\"id\":\"4e127da2-9b35-410d-8413-d63419ed4b3f\",\"type\":\"CDSView\"},{\"attributes\":{\"data_source\":{\"id\":\"74742519-acac-4b7b-951d-4d61fab86ff2\",\"type\":\"ColumnDataSource\"},\"glyph\":{\"id\":\"354a98a1-579b-4d53-b92c-dad262303571\",\"type\":\"Circle\"},\"hover_glyph\":{\"id\":\"476fe97a-629d-4a05-8829-af5b12a6e98d\",\"type\":\"Circle\"},\"muted_glyph\":null,\"nonselection_glyph\":{\"id\":\"4044bd11-0602-43d8-a101-165288315b4b\",\"type\":\"Circle\"},\"selection_glyph\":null,\"view\":{\"id\":\"a40af22a-4ce4-4614-8bb1-e40f180e921c\",\"type\":\"CDSView\"}},\"id\":\"a5eaa5e5-a0ed-44cc-bb3f-5cb8c6d70f74\",\"type\":\"GlyphRenderer\"},{\"attributes\":{\"args\":{\"circle\":{\"id\":\"74742519-acac-4b7b-951d-4d61fab86ff2\",\"type\":\"ColumnDataSource\"},\"segment\":{\"id\":\"f8ea176e-ef2a-4dd2-857c-8c6e78a92ce1\",\"type\":\"ColumnDataSource\"}},\"code\":\"\\nvar links = {0: [30], 1: [36], 2: [38], 3: [31], 4: [37], 5: [32], 6: [29], 7: [42], 8: [47], 9: [51], 10: [39], 11: [45], 12: [40], 13: [48], 14: [50], 15: [33], 16: [49], 17: [46], 18: [44], 19: [41], 20: [26], 21: [34], 22: [27], 23: [43], 24: [28], 25: [35], 26: [20], 27: [22], 28: [24], 29: [6], 30: [0], 31: [3], 32: [5], 33: [15], 34: [21], 35: [25], 36: [1], 37: [4], 38: [2], 39: [10], 40: [12], 41: [19], 42: [7], 43: [23], 44: [18], 45: [11], 46: [17], 47: [8], 48: [13], 49: [16], 50: [14], 51: [9]};\\nvar data = {'x0': [], 'y0': [], 'x1': [], 'y1': []};\\nvar cdata = circle.get('data');\\nvar indices = cb_data.index['1d'].indices;\\nfor (i=0; i < indices.length; i++) {\\n    ind0 = indices[i]\\n    for (j=0; j < links[ind0].length; j++) {\\n        ind1 = links[ind0][j];\\n        data['x0'].push(cdata.x[ind0]);\\n        data['y0'].push(cdata.y[ind0]);\\n        data['x1'].push(cdata.x[ind1]);\\n        data['y1'].push(cdata.y[ind1]);\\n    }\\n}\\nsegment.set('data', data);\\n\"},\"id\":\"4295e32d-30ab-4df2-8d28-0b22d009f3a1\",\"type\":\"CustomJS\"},{\"attributes\":{\"plot\":{\"id\":\"13155b23-e9ae-4160-a5b4-5f4a49e773aa\",\"subtype\":\"Figure\",\"type\":\"Plot\"},\"ticker\":{\"id\":\"047e61c4-6843-4949-b41d-bd2b4fdae4f4\",\"type\":\"BasicTicker\"}},\"id\":\"a6141949-ac5f-4d0a-978f-b06ef873d044\",\"type\":\"Grid\"},{\"attributes\":{\"callback\":null,\"column_names\":[\"x0\",\"y0\",\"x1\",\"y1\"],\"data\":{\"x0\":[],\"x1\":[],\"y0\":[],\"y1\":[]}},\"id\":\"f8ea176e-ef2a-4dd2-857c-8c6e78a92ce1\",\"type\":\"ColumnDataSource\"},{\"attributes\":{\"formatter\":{\"id\":\"2793e819-3559-49c9-b47a-35758794c007\",\"type\":\"BasicTickFormatter\"},\"plot\":{\"id\":\"13155b23-e9ae-4160-a5b4-5f4a49e773aa\",\"subtype\":\"Figure\",\"type\":\"Plot\"},\"ticker\":{\"id\":\"4d22f933-3108-4bfb-abb5-f09a9a98f911\",\"type\":\"BasicTicker\"}},\"id\":\"70f8c5da-7d38-46e2-a968-e7c9a2b18faa\",\"type\":\"LinearAxis\"},{\"attributes\":{},\"id\":\"c72f377a-c71a-44a9-a8fb-7c5626147092\",\"type\":\"BasicTickFormatter\"},{\"attributes\":{\"fill_alpha\":{\"value\":0.4},\"fill_color\":{\"value\":\"gold\"},\"line_alpha\":{\"value\":0.4},\"line_color\":{\"value\":\"gold\"},\"size\":{\"units\":\"screen\",\"value\":23},\"x\":{\"field\":\"x\"},\"y\":{\"field\":\"y\"}},\"id\":\"354a98a1-579b-4d53-b92c-dad262303571\",\"type\":\"Circle\"},{\"attributes\":{},\"id\":\"4d22f933-3108-4bfb-abb5-f09a9a98f911\",\"type\":\"BasicTicker\"},{\"attributes\":{\"fill_alpha\":{\"value\":0.1},\"fill_color\":{\"value\":\"#1f77b4\"},\"line_alpha\":{\"value\":0.1},\"line_color\":{\"value\":\"#1f77b4\"},\"size\":{\"units\":\"screen\",\"value\":23},\"x\":{\"field\":\"x\"},\"y\":{\"field\":\"y\"}},\"id\":\"4044bd11-0602-43d8-a101-165288315b4b\",\"type\":\"Circle\"},{\"attributes\":{\"dimension\":1,\"plot\":{\"id\":\"13155b23-e9ae-4160-a5b4-5f4a49e773aa\",\"subtype\":\"Figure\",\"type\":\"Plot\"},\"ticker\":{\"id\":\"4d22f933-3108-4bfb-abb5-f09a9a98f911\",\"type\":\"BasicTicker\"}},\"id\":\"5981676a-7f49-4cde-b475-8840074eebbd\",\"type\":\"Grid\"},{\"attributes\":{\"data_source\":{\"id\":\"f8ea176e-ef2a-4dd2-857c-8c6e78a92ce1\",\"type\":\"ColumnDataSource\"},\"glyph\":{\"id\":\"b34e8f83-42cc-45f6-830b-7f7966d682d5\",\"type\":\"Segment\"},\"hover_glyph\":null,\"muted_glyph\":null,\"nonselection_glyph\":{\"id\":\"95dd327c-627b-4e07-b0a2-f8af0ada4160\",\"type\":\"Segment\"},\"selection_glyph\":null,\"view\":{\"id\":\"4e127da2-9b35-410d-8413-d63419ed4b3f\",\"type\":\"CDSView\"}},\"id\":\"a64010fc-f33e-4f09-96ba-216e68fd1907\",\"type\":\"GlyphRenderer\"},{\"attributes\":{\"source\":{\"id\":\"74742519-acac-4b7b-951d-4d61fab86ff2\",\"type\":\"ColumnDataSource\"}},\"id\":\"a40af22a-4ce4-4614-8bb1-e40f180e921c\",\"type\":\"CDSView\"},{\"attributes\":{\"below\":[{\"id\":\"abaf58dc-1e0d-45b5-9c0c-758dd875fa17\",\"type\":\"LinearAxis\"}],\"left\":[{\"id\":\"70f8c5da-7d38-46e2-a968-e7c9a2b18faa\",\"type\":\"LinearAxis\"}],\"plot_height\":800,\"plot_width\":400,\"renderers\":[{\"id\":\"abaf58dc-1e0d-45b5-9c0c-758dd875fa17\",\"type\":\"LinearAxis\"},{\"id\":\"a6141949-ac5f-4d0a-978f-b06ef873d044\",\"type\":\"Grid\"},{\"id\":\"70f8c5da-7d38-46e2-a968-e7c9a2b18faa\",\"type\":\"LinearAxis\"},{\"id\":\"5981676a-7f49-4cde-b475-8840074eebbd\",\"type\":\"Grid\"},{\"id\":\"76279d6a-9d53-4ec3-81a4-0737077eebce\",\"type\":\"LabelSet\"},{\"id\":\"a64010fc-f33e-4f09-96ba-216e68fd1907\",\"type\":\"GlyphRenderer\"},{\"id\":\"a5eaa5e5-a0ed-44cc-bb3f-5cb8c6d70f74\",\"type\":\"GlyphRenderer\"}],\"title\":{\"id\":\"3cef9d08-7e28-437c-981f-d4c151aeae5a\",\"type\":\"Title\"},\"toolbar\":{\"id\":\"2de18214-449b-4d6b-a0ec-02e7cb3c5bbb\",\"type\":\"Toolbar\"},\"toolbar_location\":null,\"x_range\":{\"id\":\"a4f780a7-1cb4-44ef-a4a7-8c722be84122\",\"type\":\"DataRange1d\"},\"x_scale\":{\"id\":\"52ac28c1-a34e-4dcd-aa34-95f19f7640ac\",\"type\":\"LinearScale\"},\"y_range\":{\"id\":\"1710dc91-1044-4472-87b0-11e7d5b53b0f\",\"type\":\"DataRange1d\"},\"y_scale\":{\"id\":\"3d1f806f-b41b-4e29-80f7-1481735be566\",\"type\":\"LinearScale\"}},\"id\":\"13155b23-e9ae-4160-a5b4-5f4a49e773aa\",\"subtype\":\"Figure\",\"type\":\"Plot\"},{\"attributes\":{\"callback\":null,\"column_names\":[\"x\",\"y\",\"names\"],\"data\":{\"names\":[\"a\",\"b\",\"c\",\"d\",\"e\",\"f\",\"g\",\"h\",\"i\",\"j\",\"k\",\"l\",\"m\",\"n\",\"o\",\"p\",\"q\",\"r\",\"s\",\"t\",\"u\",\"v\",\"w\",\"x\",\"y\",\"z\",\"a\",\"b\",\"c\",\"d\",\"e\",\"f\",\"g\",\"h\",\"i\",\"j\",\"k\",\"l\",\"m\",\"n\",\"o\",\"p\",\"q\",\"r\",\"s\",\"t\",\"u\",\"v\",\"w\",\"x\",\"y\",\"z\"],\"x\":[1,1,1,1,1,1,1,1,1,1,1,1,1,1,1,1,1,1,1,1,1,1,1,1,1,1,6,6,6,6,6,6,6,6,6,6,6,6,6,6,6,6,6,6,6,6,6,6,6,6,6,6],\"y\":[1,2,3,4,5,6,7,8,9,10,11,12,13,14,15,16,17,18,19,20,21,22,23,24,25,26,1,2,3,4,5,6,7,8,9,10,11,12,13,14,15,16,17,18,19,20,21,22,23,24,25,26]}},\"id\":\"4148fc43-8ac4-4845-b50c-f13689d1ec47\",\"type\":\"ColumnDataSource\"},{\"attributes\":{\"line_alpha\":{\"value\":0.1},\"line_color\":{\"value\":\"#1f77b4\"},\"line_width\":{\"value\":3.0},\"x0\":{\"field\":\"x0\"},\"x1\":{\"field\":\"x1\"},\"y0\":{\"field\":\"y0\"},\"y1\":{\"field\":\"y1\"}},\"id\":\"95dd327c-627b-4e07-b0a2-f8af0ada4160\",\"type\":\"Segment\"},{\"attributes\":{\"plot\":{\"id\":\"13155b23-e9ae-4160-a5b4-5f4a49e773aa\",\"subtype\":\"Figure\",\"type\":\"Plot\"},\"source\":{\"id\":\"4148fc43-8ac4-4845-b50c-f13689d1ec47\",\"type\":\"ColumnDataSource\"},\"text\":{\"field\":\"names\"},\"text_color\":{\"value\":\"black\"},\"text_font\":\"Garamond\",\"text_font_style\":\"bold\",\"x\":{\"field\":\"x\"},\"x_offset\":{\"value\":-4.5},\"y\":{\"field\":\"y\"},\"y_offset\":{\"value\":-7}},\"id\":\"76279d6a-9d53-4ec3-81a4-0737077eebce\",\"type\":\"LabelSet\"},{\"attributes\":{\"plot\":null,\"text\":\"Hover over points\"},\"id\":\"3cef9d08-7e28-437c-981f-d4c151aeae5a\",\"type\":\"Title\"},{\"attributes\":{\"callback\":null},\"id\":\"a4f780a7-1cb4-44ef-a4a7-8c722be84122\",\"type\":\"DataRange1d\"},{\"attributes\":{\"line_alpha\":{\"value\":0.6},\"line_color\":{\"value\":\"gold\"},\"line_width\":{\"value\":3.0},\"x0\":{\"field\":\"x0\"},\"x1\":{\"field\":\"x1\"},\"y0\":{\"field\":\"y0\"},\"y1\":{\"field\":\"y1\"}},\"id\":\"b34e8f83-42cc-45f6-830b-7f7966d682d5\",\"type\":\"Segment\"},{\"attributes\":{\"active_drag\":\"auto\",\"active_inspect\":\"auto\",\"active_scroll\":\"auto\",\"active_tap\":\"auto\",\"tools\":[{\"id\":\"8cdf4ae9-a5cd-410b-b8fb-953dd90ced27\",\"type\":\"HoverTool\"}]},\"id\":\"2de18214-449b-4d6b-a0ec-02e7cb3c5bbb\",\"type\":\"Toolbar\"},{\"attributes\":{},\"id\":\"047e61c4-6843-4949-b41d-bd2b4fdae4f4\",\"type\":\"BasicTicker\"},{\"attributes\":{},\"id\":\"52ac28c1-a34e-4dcd-aa34-95f19f7640ac\",\"type\":\"LinearScale\"},{\"attributes\":{\"callback\":null},\"id\":\"1710dc91-1044-4472-87b0-11e7d5b53b0f\",\"type\":\"DataRange1d\"},{\"attributes\":{},\"id\":\"3d1f806f-b41b-4e29-80f7-1481735be566\",\"type\":\"LinearScale\"},{\"attributes\":{},\"id\":\"2793e819-3559-49c9-b47a-35758794c007\",\"type\":\"BasicTickFormatter\"},{\"attributes\":{\"formatter\":{\"id\":\"c72f377a-c71a-44a9-a8fb-7c5626147092\",\"type\":\"BasicTickFormatter\"},\"plot\":{\"id\":\"13155b23-e9ae-4160-a5b4-5f4a49e773aa\",\"subtype\":\"Figure\",\"type\":\"Plot\"},\"ticker\":{\"id\":\"047e61c4-6843-4949-b41d-bd2b4fdae4f4\",\"type\":\"BasicTicker\"}},\"id\":\"abaf58dc-1e0d-45b5-9c0c-758dd875fa17\",\"type\":\"LinearAxis\"}],\"root_ids\":[\"13155b23-e9ae-4160-a5b4-5f4a49e773aa\"]},\"title\":\"Bokeh Application\",\"version\":\"0.12.10\"}};\n",
       "    var render_items = [{\"docid\":\"fb4abf13-c19d-4f0f-acb5-962a0703dde3\",\"elementid\":\"5f4b5032-1fdc-49e8-bc47-c25730cd14ba\",\"modelid\":\"13155b23-e9ae-4160-a5b4-5f4a49e773aa\"}];\n",
       "\n",
       "    root.Bokeh.embed.embed_items(docs_json, render_items);\n",
       "  }\n",
       "\n",
       "  if (root.Bokeh !== undefined) {\n",
       "    embed_document(root);\n",
       "  } else {\n",
       "    var attempts = 0;\n",
       "    var timer = setInterval(function(root) {\n",
       "      if (root.Bokeh !== undefined) {\n",
       "        embed_document(root);\n",
       "        clearInterval(timer);\n",
       "      }\n",
       "      attempts++;\n",
       "      if (attempts > 100) {\n",
       "        console.log(\"Bokeh: ERROR: Unable to embed document because BokehJS library is missing\")\n",
       "        clearInterval(timer);\n",
       "      }\n",
       "    }, 10, root)\n",
       "  }\n",
       "})(window);"
      ],
      "application/vnd.bokehjs_exec.v0+json": ""
     },
     "metadata": {
      "application/vnd.bokehjs_exec.v0+json": {
       "id": "13155b23-e9ae-4160-a5b4-5f4a49e773aa"
      }
     },
     "output_type": "display_data"
    }
   ],
   "source": [
    "show(p)"
   ]
  },
  {
   "cell_type": "code",
   "execution_count": 6,
   "metadata": {},
   "outputs": [
    {
     "name": "stdout",
     "output_type": "stream",
     "text": [
      "[1 1 1 1 1 1 1 1 1 1 1 1 1 1 1 1 1 1 1 1 1 1 1 1 1 1 6 6 6 6 6 6 6 6 6 6 6\n",
      " 6 6 6 6 6 6 6 6 6 6 6 6 6 6 6]\n",
      "[1, 2, 3, 4, 5, 6, 7, 8, 9, 10, 11, 12, 13, 14, 15, 16, 17, 18, 19, 20, 21, 22, 23, 24, 25, 26, 1, 2, 3, 4, 5, 6, 7, 8, 9, 10, 11, 12, 13, 14, 15, 16, 17, 18, 19, 20, 21, 22, 23, 24, 25, 26]\n"
     ]
    }
   ],
   "source": [
    "print(x)\n",
    "print(y)"
   ]
  },
  {
   "cell_type": "code",
   "execution_count": 7,
   "metadata": {
    "collapsed": true
   },
   "outputs": [],
   "source": [
    "d = {'xs': x, 'ys':y}\n",
    "source = ColumnDataSource(d)"
   ]
  },
  {
   "cell_type": "code",
   "execution_count": 8,
   "metadata": {},
   "outputs": [
    {
     "data": {
      "text/html": [
       "<div style=\"display: table;\"><div style=\"display: table-row;\"><div style=\"display: table-cell;\"><b title=\"bokeh.models.renderers.GlyphRenderer\">GlyphRenderer</b>(</div><div style=\"display: table-cell;\">id&nbsp;=&nbsp;'b8c253ab-dfd1-44f7-80c7-f684b565eaf5', <span id=\"d2875ebd-50e0-48f4-83fb-db185c3fbee9\" style=\"cursor: pointer;\">&hellip;)</span></div></div><div class=\"d2914e98-6025-48f0-9893-612b14effa5d\" style=\"display: none;\"><div style=\"display: table-cell;\"></div><div style=\"display: table-cell;\">data_source&nbsp;=&nbsp;ColumnDataSource(id='4ac2f6a9-abbc-414a-9661-0449b0b432d8', ...),</div></div><div class=\"d2914e98-6025-48f0-9893-612b14effa5d\" style=\"display: none;\"><div style=\"display: table-cell;\"></div><div style=\"display: table-cell;\">glyph&nbsp;=&nbsp;MultiLine(id='bf103071-7982-41ef-b5d7-39c422017ba6', ...),</div></div><div class=\"d2914e98-6025-48f0-9893-612b14effa5d\" style=\"display: none;\"><div style=\"display: table-cell;\"></div><div style=\"display: table-cell;\">hover_glyph&nbsp;=&nbsp;None,</div></div><div class=\"d2914e98-6025-48f0-9893-612b14effa5d\" style=\"display: none;\"><div style=\"display: table-cell;\"></div><div style=\"display: table-cell;\">js_event_callbacks&nbsp;=&nbsp;{},</div></div><div class=\"d2914e98-6025-48f0-9893-612b14effa5d\" style=\"display: none;\"><div style=\"display: table-cell;\"></div><div style=\"display: table-cell;\">js_property_callbacks&nbsp;=&nbsp;{},</div></div><div class=\"d2914e98-6025-48f0-9893-612b14effa5d\" style=\"display: none;\"><div style=\"display: table-cell;\"></div><div style=\"display: table-cell;\">level&nbsp;=&nbsp;'glyph',</div></div><div class=\"d2914e98-6025-48f0-9893-612b14effa5d\" style=\"display: none;\"><div style=\"display: table-cell;\"></div><div style=\"display: table-cell;\">muted&nbsp;=&nbsp;False,</div></div><div class=\"d2914e98-6025-48f0-9893-612b14effa5d\" style=\"display: none;\"><div style=\"display: table-cell;\"></div><div style=\"display: table-cell;\">muted_glyph&nbsp;=&nbsp;None,</div></div><div class=\"d2914e98-6025-48f0-9893-612b14effa5d\" style=\"display: none;\"><div style=\"display: table-cell;\"></div><div style=\"display: table-cell;\">name&nbsp;=&nbsp;None,</div></div><div class=\"d2914e98-6025-48f0-9893-612b14effa5d\" style=\"display: none;\"><div style=\"display: table-cell;\"></div><div style=\"display: table-cell;\">nonselection_glyph&nbsp;=&nbsp;MultiLine(id='f8baa505-08ef-451d-9e56-7b4acbeae1c1', ...),</div></div><div class=\"d2914e98-6025-48f0-9893-612b14effa5d\" style=\"display: none;\"><div style=\"display: table-cell;\"></div><div style=\"display: table-cell;\">selection_glyph&nbsp;=&nbsp;None,</div></div><div class=\"d2914e98-6025-48f0-9893-612b14effa5d\" style=\"display: none;\"><div style=\"display: table-cell;\"></div><div style=\"display: table-cell;\">subscribed_events&nbsp;=&nbsp;[],</div></div><div class=\"d2914e98-6025-48f0-9893-612b14effa5d\" style=\"display: none;\"><div style=\"display: table-cell;\"></div><div style=\"display: table-cell;\">tags&nbsp;=&nbsp;[],</div></div><div class=\"d2914e98-6025-48f0-9893-612b14effa5d\" style=\"display: none;\"><div style=\"display: table-cell;\"></div><div style=\"display: table-cell;\">view&nbsp;=&nbsp;CDSView(id='fb2b07a8-2fd6-4b57-bce7-1611a82d4d89', ...),</div></div><div class=\"d2914e98-6025-48f0-9893-612b14effa5d\" style=\"display: none;\"><div style=\"display: table-cell;\"></div><div style=\"display: table-cell;\">visible&nbsp;=&nbsp;True,</div></div><div class=\"d2914e98-6025-48f0-9893-612b14effa5d\" style=\"display: none;\"><div style=\"display: table-cell;\"></div><div style=\"display: table-cell;\">x_range_name&nbsp;=&nbsp;'default',</div></div><div class=\"d2914e98-6025-48f0-9893-612b14effa5d\" style=\"display: none;\"><div style=\"display: table-cell;\"></div><div style=\"display: table-cell;\">y_range_name&nbsp;=&nbsp;'default')</div></div></div>\n",
       "<script>\n",
       "(function() {\n",
       "  var expanded = false;\n",
       "  var ellipsis = document.getElementById(\"d2875ebd-50e0-48f4-83fb-db185c3fbee9\");\n",
       "  ellipsis.addEventListener(\"click\", function() {\n",
       "    var rows = document.getElementsByClassName(\"d2914e98-6025-48f0-9893-612b14effa5d\");\n",
       "    for (var i = 0; i < rows.length; i++) {\n",
       "      var el = rows[i];\n",
       "      el.style.display = expanded ? \"none\" : \"table-row\";\n",
       "    }\n",
       "    ellipsis.innerHTML = expanded ? \"&hellip;)\" : \"&lsaquo;&lsaquo;&lsaquo;\";\n",
       "    expanded = !expanded;\n",
       "  });\n",
       "})();\n",
       "</script>\n"
      ],
      "text/plain": [
       "GlyphRenderer(id='b8c253ab-dfd1-44f7-80c7-f684b565eaf5', ...)"
      ]
     },
     "execution_count": 8,
     "metadata": {},
     "output_type": "execute_result"
    }
   ],
   "source": [
    "p.multi_line('xs','ys', source=source, color='firebrick', line_width=3)"
   ]
  },
  {
   "cell_type": "code",
   "execution_count": 13,
   "metadata": {},
   "outputs": [
    {
     "data": {
      "text/html": [
       "\n",
       "<div class=\"bk-root\">\n",
       "    <div class=\"bk-plotdiv\" id=\"31a35e21-9b2a-4b80-8c78-5c192dfd2aae\"></div>\n",
       "</div>"
      ]
     },
     "metadata": {},
     "output_type": "display_data"
    },
    {
     "data": {
      "application/javascript": [
       "(function(root) {\n",
       "  function embed_document(root) {\n",
       "    var docs_json = {\"2f3646c8-cc66-4200-b4ad-95ba3a1315fa\":{\"roots\":{\"references\":[{\"attributes\":{\"overlay\":{\"id\":\"ddd8c0bb-055b-444c-ab03-fdb97a35dad4\",\"type\":\"BoxAnnotation\"}},\"id\":\"b1d592a5-58fc-4da7-95a2-bf9ae04fc97f\",\"type\":\"BoxZoomTool\"},{\"attributes\":{},\"id\":\"5b87cfcf-98d4-41b9-9787-c4de0577fe34\",\"type\":\"WheelZoomTool\"},{\"attributes\":{\"bottom_units\":\"screen\",\"fill_alpha\":{\"value\":0.5},\"fill_color\":{\"value\":\"lightgrey\"},\"left_units\":\"screen\",\"level\":\"overlay\",\"line_alpha\":{\"value\":1.0},\"line_color\":{\"value\":\"black\"},\"line_dash\":[4,4],\"line_width\":{\"value\":2},\"plot\":null,\"render_mode\":\"css\",\"right_units\":\"screen\",\"top_units\":\"screen\"},\"id\":\"ddd8c0bb-055b-444c-ab03-fdb97a35dad4\",\"type\":\"BoxAnnotation\"},{\"attributes\":{\"below\":[{\"id\":\"a92083ec-ff11-4983-94dc-2b171444c2ab\",\"type\":\"LinearAxis\"}],\"left\":[{\"id\":\"a16e3529-6d5e-467d-b94f-f40424bf88ec\",\"type\":\"LinearAxis\"}],\"renderers\":[{\"id\":\"a92083ec-ff11-4983-94dc-2b171444c2ab\",\"type\":\"LinearAxis\"},{\"id\":\"f08b965c-5976-422f-a588-3a79799a3499\",\"type\":\"Grid\"},{\"id\":\"a16e3529-6d5e-467d-b94f-f40424bf88ec\",\"type\":\"LinearAxis\"},{\"id\":\"415ec21e-7715-4605-9411-34598514c1a0\",\"type\":\"Grid\"},{\"id\":\"ddd8c0bb-055b-444c-ab03-fdb97a35dad4\",\"type\":\"BoxAnnotation\"},{\"id\":\"d5bfad45-4232-4eb0-9791-a8c8015b4e1f\",\"type\":\"GlyphRenderer\"}],\"title\":{\"id\":\"c15a3f63-1264-49d4-b431-d6595cccb4ab\",\"type\":\"Title\"},\"toolbar\":{\"id\":\"d4da41ec-24cb-4c8d-9f09-87fab1cb5063\",\"type\":\"Toolbar\"},\"x_range\":{\"id\":\"fd6b7374-2ff4-43c8-b70d-7fb36c404483\",\"type\":\"DataRange1d\"},\"x_scale\":{\"id\":\"b3a852cd-b4f5-4fda-b4e3-dd080ef287bd\",\"type\":\"LinearScale\"},\"y_range\":{\"id\":\"cba098d8-a989-4810-81ca-565cc1868067\",\"type\":\"DataRange1d\"},\"y_scale\":{\"id\":\"adb71971-1961-4c10-8bb5-c24dd4da57f4\",\"type\":\"LinearScale\"}},\"id\":\"9b374a25-a2d1-492b-ac90-332fc02f51c2\",\"subtype\":\"Figure\",\"type\":\"Plot\"},{\"attributes\":{\"source\":{\"id\":\"4ac2f6a9-abbc-414a-9661-0449b0b432d8\",\"type\":\"ColumnDataSource\"}},\"id\":\"1b2d3ec3-df22-401c-833e-0860db5d5610\",\"type\":\"CDSView\"},{\"attributes\":{},\"id\":\"cc308cad-6765-41e9-a05b-b12e2792a582\",\"type\":\"PanTool\"},{\"attributes\":{\"formatter\":{\"id\":\"5d3c52a3-6eb3-4d2c-9326-9b31df106069\",\"type\":\"BasicTickFormatter\"},\"plot\":{\"id\":\"9b374a25-a2d1-492b-ac90-332fc02f51c2\",\"subtype\":\"Figure\",\"type\":\"Plot\"},\"ticker\":{\"id\":\"0b2595af-40c4-47c6-bdc9-bcc013c9faf7\",\"type\":\"BasicTicker\"}},\"id\":\"a16e3529-6d5e-467d-b94f-f40424bf88ec\",\"type\":\"LinearAxis\"},{\"attributes\":{\"plot\":null,\"text\":\"\"},\"id\":\"c15a3f63-1264-49d4-b431-d6595cccb4ab\",\"type\":\"Title\"},{\"attributes\":{},\"id\":\"5d3c52a3-6eb3-4d2c-9326-9b31df106069\",\"type\":\"BasicTickFormatter\"},{\"attributes\":{},\"id\":\"0b2595af-40c4-47c6-bdc9-bcc013c9faf7\",\"type\":\"BasicTicker\"},{\"attributes\":{\"plot\":{\"id\":\"9b374a25-a2d1-492b-ac90-332fc02f51c2\",\"subtype\":\"Figure\",\"type\":\"Plot\"},\"ticker\":{\"id\":\"60b98069-26e5-449e-b5d4-a1452f169e18\",\"type\":\"BasicTicker\"}},\"id\":\"f08b965c-5976-422f-a588-3a79799a3499\",\"type\":\"Grid\"},{\"attributes\":{},\"id\":\"d4edde27-4ebe-4a7d-81cc-781ae9d902ea\",\"type\":\"HelpTool\"},{\"attributes\":{},\"id\":\"ac58be49-d03d-4e76-828c-2f44aebb0140\",\"type\":\"BasicTickFormatter\"},{\"attributes\":{},\"id\":\"adb71971-1961-4c10-8bb5-c24dd4da57f4\",\"type\":\"LinearScale\"},{\"attributes\":{},\"id\":\"60b98069-26e5-449e-b5d4-a1452f169e18\",\"type\":\"BasicTicker\"},{\"attributes\":{\"callback\":null},\"id\":\"cba098d8-a989-4810-81ca-565cc1868067\",\"type\":\"DataRange1d\"},{\"attributes\":{\"formatter\":{\"id\":\"ac58be49-d03d-4e76-828c-2f44aebb0140\",\"type\":\"BasicTickFormatter\"},\"plot\":{\"id\":\"9b374a25-a2d1-492b-ac90-332fc02f51c2\",\"subtype\":\"Figure\",\"type\":\"Plot\"},\"ticker\":{\"id\":\"60b98069-26e5-449e-b5d4-a1452f169e18\",\"type\":\"BasicTicker\"}},\"id\":\"a92083ec-ff11-4983-94dc-2b171444c2ab\",\"type\":\"LinearAxis\"},{\"attributes\":{},\"id\":\"b3a852cd-b4f5-4fda-b4e3-dd080ef287bd\",\"type\":\"LinearScale\"},{\"attributes\":{\"dimension\":1,\"plot\":{\"id\":\"9b374a25-a2d1-492b-ac90-332fc02f51c2\",\"subtype\":\"Figure\",\"type\":\"Plot\"},\"ticker\":{\"id\":\"0b2595af-40c4-47c6-bdc9-bcc013c9faf7\",\"type\":\"BasicTicker\"}},\"id\":\"415ec21e-7715-4605-9411-34598514c1a0\",\"type\":\"Grid\"},{\"attributes\":{\"fill_color\":{\"value\":\"#1f77b4\"},\"line_color\":{\"value\":\"#1f77b4\"},\"x\":{\"field\":\"xs\"},\"y\":{\"field\":\"ys\"}},\"id\":\"7852c88c-fc0c-4bfd-b60a-f01fb9d0073e\",\"type\":\"Circle\"},{\"attributes\":{\"callback\":null,\"column_names\":[\"xs\",\"ys\"],\"data\":{\"xs\":[1,1,1,1,1,1,1,1,1,1,1,1,1,1,1,1,1,1,1,1,1,1,1,1,1,1,6,6,6,6,6,6,6,6,6,6,6,6,6,6,6,6,6,6,6,6,6,6,6,6,6,6],\"ys\":[1,2,3,4,5,6,7,8,9,10,11,12,13,14,15,16,17,18,19,20,21,22,23,24,25,26,1,2,3,4,5,6,7,8,9,10,11,12,13,14,15,16,17,18,19,20,21,22,23,24,25,26]}},\"id\":\"4ac2f6a9-abbc-414a-9661-0449b0b432d8\",\"type\":\"ColumnDataSource\"},{\"attributes\":{\"callback\":null},\"id\":\"fd6b7374-2ff4-43c8-b70d-7fb36c404483\",\"type\":\"DataRange1d\"},{\"attributes\":{\"active_drag\":\"auto\",\"active_inspect\":\"auto\",\"active_scroll\":\"auto\",\"active_tap\":\"auto\",\"tools\":[{\"id\":\"cc308cad-6765-41e9-a05b-b12e2792a582\",\"type\":\"PanTool\"},{\"id\":\"5b87cfcf-98d4-41b9-9787-c4de0577fe34\",\"type\":\"WheelZoomTool\"},{\"id\":\"b1d592a5-58fc-4da7-95a2-bf9ae04fc97f\",\"type\":\"BoxZoomTool\"},{\"id\":\"7adc6f3d-17af-480a-b82d-a70051f6936a\",\"type\":\"SaveTool\"},{\"id\":\"b22f1ac7-ccd0-44c3-9249-1b55aa0f3f50\",\"type\":\"ResetTool\"},{\"id\":\"d4edde27-4ebe-4a7d-81cc-781ae9d902ea\",\"type\":\"HelpTool\"}]},\"id\":\"d4da41ec-24cb-4c8d-9f09-87fab1cb5063\",\"type\":\"Toolbar\"},{\"attributes\":{},\"id\":\"b22f1ac7-ccd0-44c3-9249-1b55aa0f3f50\",\"type\":\"ResetTool\"},{\"attributes\":{\"data_source\":{\"id\":\"4ac2f6a9-abbc-414a-9661-0449b0b432d8\",\"type\":\"ColumnDataSource\"},\"glyph\":{\"id\":\"7852c88c-fc0c-4bfd-b60a-f01fb9d0073e\",\"type\":\"Circle\"},\"hover_glyph\":null,\"muted_glyph\":null,\"nonselection_glyph\":{\"id\":\"5549ef5f-6708-4bc3-adc9-f18a01df214c\",\"type\":\"Circle\"},\"selection_glyph\":null,\"view\":{\"id\":\"1b2d3ec3-df22-401c-833e-0860db5d5610\",\"type\":\"CDSView\"}},\"id\":\"d5bfad45-4232-4eb0-9791-a8c8015b4e1f\",\"type\":\"GlyphRenderer\"},{\"attributes\":{},\"id\":\"7adc6f3d-17af-480a-b82d-a70051f6936a\",\"type\":\"SaveTool\"},{\"attributes\":{\"fill_alpha\":{\"value\":0.1},\"fill_color\":{\"value\":\"#1f77b4\"},\"line_alpha\":{\"value\":0.1},\"line_color\":{\"value\":\"#1f77b4\"},\"x\":{\"field\":\"xs\"},\"y\":{\"field\":\"ys\"}},\"id\":\"5549ef5f-6708-4bc3-adc9-f18a01df214c\",\"type\":\"Circle\"}],\"root_ids\":[\"9b374a25-a2d1-492b-ac90-332fc02f51c2\"]},\"title\":\"Bokeh Application\",\"version\":\"0.12.10\"}};\n",
       "    var render_items = [{\"docid\":\"2f3646c8-cc66-4200-b4ad-95ba3a1315fa\",\"elementid\":\"31a35e21-9b2a-4b80-8c78-5c192dfd2aae\",\"modelid\":\"9b374a25-a2d1-492b-ac90-332fc02f51c2\"}];\n",
       "\n",
       "    root.Bokeh.embed.embed_items(docs_json, render_items);\n",
       "  }\n",
       "\n",
       "  if (root.Bokeh !== undefined) {\n",
       "    embed_document(root);\n",
       "  } else {\n",
       "    var attempts = 0;\n",
       "    var timer = setInterval(function(root) {\n",
       "      if (root.Bokeh !== undefined) {\n",
       "        embed_document(root);\n",
       "        clearInterval(timer);\n",
       "      }\n",
       "      attempts++;\n",
       "      if (attempts > 100) {\n",
       "        console.log(\"Bokeh: ERROR: Unable to embed document because BokehJS library is missing\")\n",
       "        clearInterval(timer);\n",
       "      }\n",
       "    }, 10, root)\n",
       "  }\n",
       "})(window);"
      ],
      "application/vnd.bokehjs_exec.v0+json": ""
     },
     "metadata": {
      "application/vnd.bokehjs_exec.v0+json": {
       "id": "9b374a25-a2d1-492b-ac90-332fc02f51c2"
      }
     },
     "output_type": "display_data"
    }
   ],
   "source": [
    "q = figure()\n",
    "q.circle(x='xs', y='ys', source=source)\n",
    "show(q)"
   ]
  },
  {
   "cell_type": "markdown",
   "metadata": {},
   "source": [
    "# Figure out a way to show the other links all the time and only highlight one with the hover.  Need to look into JS link.  See http://bokeh.pydata.org/en/latest/docs/user_guide/interaction/callbacks.html#customjs-for-hover"
   ]
  }
 ],
 "metadata": {
  "kernelspec": {
   "display_name": "Python 3",
   "language": "python",
   "name": "python3"
  },
  "language_info": {
   "codemirror_mode": {
    "name": "ipython",
    "version": 3
   },
   "file_extension": ".py",
   "mimetype": "text/x-python",
   "name": "python",
   "nbconvert_exporter": "python",
   "pygments_lexer": "ipython3",
   "version": "3.6.3"
  }
 },
 "nbformat": 4,
 "nbformat_minor": 2
}
